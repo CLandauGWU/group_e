{
 "cells": [
  {
   "cell_type": "code",
   "execution_count": null,
   "metadata": {
    "collapsed": true
   },
   "outputs": [],
   "source": [
    "http://opendata.dc.gov/datasets/grocery-store-locations,\n",
    "http://opendata.dc.gov/datasets/university-and-college-campuses,\n",
    "http://opendata.dc.gov/datasets/comprehensive-plan-planning-areas,\n",
    "http://opendata.dc.gov/datasets/planned-unit-development-puds,\n",
    "http://opendata.dc.gov/datasets/neighborhood-planning-areas,\n",
    "http://opendata.dc.gov/datasets/construction-permits-in-2017,\n",
    "http://opendata.dc.gov/datasets/construction-permits-in-2016,\n",
    "http://opendata.dc.gov/datasets/construction-permits-in-2015,\n",
    "http://opendata.dc.gov/datasets/construction-permits-in-2014,\n",
    "http://opendata.dc.gov/datasets/construction-permits-in-2013,\n",
    "http://opendata.dc.gov/datasets/construction-permits-in-2012,\n",
    "http://opendata.dc.gov/datasets/occupancy-permits-in-2017,\n",
    "http://opendata.dc.gov/datasets/occupancy-permits-in-2016,\n",
    "http://opendata.dc.gov/datasets/occupancy-permits-in-2015,\n",
    "http://opendata.dc.gov/datasets/occupancy-permits-in-2014,\n",
    "http://opendata.dc.gov/datasets/occupancy-permits-in-2013,\n",
    "http://opendata.dc.gov/datasets/occupancy-permits-in-2012,\n",
    "http://opendata.dc.gov/datasets/real-property-tax-assessment-neighborhoods,\n",
    "http://opendata.dc.gov/datasets/sidewalk-cafe,\n",
    "http://opendata.dc.gov/datasets/metro-stations-in-dc,\n",
    "http://opendata.dc.gov/datasets/address-residential-units"
   ]
  },
  {
   "cell_type": "code",
   "execution_count": 1,
   "metadata": {},
   "outputs": [
    {
     "name": "stdout",
     "output_type": "stream",
     "text": [
      "--2017-11-01 01:22:39--  https://opendata.arcgis.com/datasets/1d7c9d0e3aac49c1aa88d377a3bae430_4.geojson\n",
      "Resolving opendata.arcgis.com (opendata.arcgis.com)... 34.195.26.174, 52.3.41.73\n",
      "Connecting to opendata.arcgis.com (opendata.arcgis.com)|34.195.26.174|:443... connected.\n",
      "HTTP request sent, awaiting response... 200 OK\n",
      "Length: 21476 (21K) [application/json]\n",
      "Saving to: ‘grocery’\n",
      "\n",
      "grocery             100%[===================>]  20.97K  --.-KB/s    in 0s      \n",
      "\n",
      "2017-11-01 01:22:39 (380 MB/s) - ‘grocery’ saved [21476/21476]\n",
      "\n",
      "--2017-11-01 01:22:39--  http://store/\n",
      "Resolving store (store)... failed: No address associated with hostname.\n",
      "wget: unable to resolve host address ‘store’\n",
      "--2017-11-01 01:22:39--  http://locations/\n",
      "Resolving locations (locations)... failed: Name or service not known.\n",
      "wget: unable to resolve host address ‘locations’\n",
      "FINISHED --2017-11-01 01:22:39--\n",
      "Total wall clock time: 0.4s\n",
      "Downloaded: 1 files, 21K in 0s (380 MB/s)\n"
     ]
    }
   ],
   "source": [
    "! wget https://opendata.arcgis.com/datasets/1d7c9d0e3aac49c1aa88d377a3bae430_4.geojson -O grocery store locations"
   ]
  },
  {
   "cell_type": "code",
   "execution_count": 2,
   "metadata": {},
   "outputs": [
    {
     "name": "stdout",
     "output_type": "stream",
     "text": [
      "--2017-11-01 01:23:07--  https://opendata.arcgis.com/datasets/1d7c9d0e3aac49c1aa88d377a3bae430_4.geojson\n",
      "Resolving opendata.arcgis.com (opendata.arcgis.com)... 52.3.41.73, 34.195.26.174\n",
      "Connecting to opendata.arcgis.com (opendata.arcgis.com)|52.3.41.73|:443... connected.\n",
      "HTTP request sent, awaiting response... 200 OK\n",
      "Length: 21476 (21K) [application/json]\n",
      "Saving to: ‘grocery.store.locations’\n",
      "\n",
      "grocery.store.locat 100%[===================>]  20.97K  --.-KB/s    in 0s      \n",
      "\n",
      "2017-11-01 01:23:07 (377 MB/s) - ‘grocery.store.locations’ saved [21476/21476]\n",
      "\n"
     ]
    }
   ],
   "source": [
    "! wget https://opendata.arcgis.com/datasets/1d7c9d0e3aac49c1aa88d377a3bae430_4.geojson -O grocery.store.locations"
   ]
  },
  {
   "cell_type": "code",
   "execution_count": 3,
   "metadata": {},
   "outputs": [
    {
     "name": "stdout",
     "output_type": "stream",
     "text": [
      "--2017-11-01 01:24:50--  https://opendata.arcgis.com/datasets/2cc7c37a61554ad181c6356023c8532c_13.geojson\n",
      "Resolving opendata.arcgis.com (opendata.arcgis.com)... 34.195.26.174, 52.3.41.73\n",
      "Connecting to opendata.arcgis.com (opendata.arcgis.com)|34.195.26.174|:443... connected.\n",
      "HTTP request sent, awaiting response... 200 OK\n",
      "Length: unspecified [application/json]\n",
      "Saving to: ‘universities.college.campuses’\n",
      "\n",
      "universities.colleg     [ <=>                ] 100.49K  --.-KB/s    in 0.002s  \n",
      "\n",
      "2017-11-01 01:24:51 (55.8 MB/s) - ‘universities.college.campuses’ saved [102900]\n",
      "\n"
     ]
    }
   ],
   "source": [
    "! wget https://opendata.arcgis.com/datasets/2cc7c37a61554ad181c6356023c8532c_13.geojson -O universities.college.campuses"
   ]
  },
  {
   "cell_type": "code",
   "execution_count": 4,
   "metadata": {},
   "outputs": [
    {
     "name": "stdout",
     "output_type": "stream",
     "text": [
      "--2017-11-01 01:27:20--  https://opendata.arcgis.com/datasets/203c2342b36240949e0ad95d75a5bdca_2.geojson\n",
      "Resolving opendata.arcgis.com (opendata.arcgis.com)... 34.195.26.174, 52.3.41.73\n",
      "Connecting to opendata.arcgis.com (opendata.arcgis.com)|34.195.26.174|:443... connected.\n",
      "HTTP request sent, awaiting response... 200 OK\n",
      "Length: unspecified [application/json]\n",
      "Saving to: ‘comprehensive.plan.planning.areas’\n",
      "\n",
      "comprehensive.plan.     [ <=>                ]  61.51K  --.-KB/s    in 0s      \n",
      "\n",
      "2017-11-01 01:27:20 (179 MB/s) - ‘comprehensive.plan.planning.areas’ saved [62987]\n",
      "\n"
     ]
    }
   ],
   "source": [
    "! wget https://opendata.arcgis.com/datasets/203c2342b36240949e0ad95d75a5bdca_2.geojson -O comprehensive.plan.planning.areas"
   ]
  },
  {
   "cell_type": "code",
   "execution_count": 5,
   "metadata": {},
   "outputs": [
    {
     "name": "stdout",
     "output_type": "stream",
     "text": [
      "--2017-11-01 01:28:31--  https://opendata.arcgis.com/datasets/ba016f9d6bcf436792cf3b01e0d5c92e_14.geojson\n",
      "Resolving opendata.arcgis.com (opendata.arcgis.com)... 52.3.41.73, 34.195.26.174\n",
      "Connecting to opendata.arcgis.com (opendata.arcgis.com)|52.3.41.73|:443... connected.\n",
      "HTTP request sent, awaiting response... 200 OK\n",
      "Length: unspecified [application/json]\n",
      "Saving to: ‘planned.unit.development.puds’\n",
      "\n",
      "planned.unit.develo     [ <=>                ] 645.46K  --.-KB/s    in 0.01s   \n",
      "\n",
      "2017-11-01 01:28:31 (42.4 MB/s) - ‘planned.unit.development.puds’ saved [660946]\n",
      "\n"
     ]
    }
   ],
   "source": [
    "! wget https://opendata.arcgis.com/datasets/ba016f9d6bcf436792cf3b01e0d5c92e_14.geojson -O planned.unit.development.puds"
   ]
  },
  {
   "cell_type": "code",
   "execution_count": 7,
   "metadata": {},
   "outputs": [
    {
     "name": "stdout",
     "output_type": "stream",
     "text": [
      "--2017-11-01 01:29:59--  https://opendata.arcgis.com/datasets/e0d93774f3e4453cbc61f256b1080383_29.geojson\n",
      "Resolving opendata.arcgis.com (opendata.arcgis.com)... 52.3.41.73, 34.195.26.174\n",
      "Connecting to opendata.arcgis.com (opendata.arcgis.com)|52.3.41.73|:443... connected.\n",
      "HTTP request sent, awaiting response... 200 OK\n",
      "Length: 24416 (24K) [application/json]\n",
      "Saving to: ‘neighborhood.planning.areas’\n",
      "\n",
      "neighborhood.planni 100%[===================>]  23.84K  --.-KB/s    in 0s      \n",
      "\n",
      "2017-11-01 01:30:00 (405 MB/s) - ‘neighborhood.planning.areas’ saved [24416/24416]\n",
      "\n"
     ]
    }
   ],
   "source": [
    "! wget https://opendata.arcgis.com/datasets/e0d93774f3e4453cbc61f256b1080383_29.geojson -O neighborhood.planning.areas"
   ]
  },
  {
   "cell_type": "code",
   "execution_count": 8,
   "metadata": {},
   "outputs": [
    {
     "name": "stdout",
     "output_type": "stream",
     "text": [
      "--2017-11-01 01:32:29--  https://opendata.arcgis.com/datasets/585c8c3ef58c4f1ab1ddf1c759b3a8bd_39.geojson\n",
      "Resolving opendata.arcgis.com (opendata.arcgis.com)... 34.195.26.174, 52.3.41.73\n",
      "Connecting to opendata.arcgis.com (opendata.arcgis.com)|34.195.26.174|:443... connected.\n",
      "HTTP request sent, awaiting response... 200 OK\n",
      "Length: unspecified [application/json]\n",
      "Saving to: ‘construction.permits2017’\n",
      "\n",
      "construction.permit     [ <=>                ]  14.45M  --.-KB/s    in 0.1s    \n",
      "\n",
      "2017-11-01 01:32:30 (123 MB/s) - ‘construction.permits2017’ saved [15153063]\n",
      "\n"
     ]
    }
   ],
   "source": [
    "! wget https://opendata.arcgis.com/datasets/585c8c3ef58c4f1ab1ddf1c759b3a8bd_39.geojson -O construction.permits2017"
   ]
  },
  {
   "cell_type": "code",
   "execution_count": 9,
   "metadata": {},
   "outputs": [
    {
     "name": "stdout",
     "output_type": "stream",
     "text": [
      "--2017-11-01 01:33:25--  https://opendata.arcgis.com/datasets/2dc1a7dbb705471eb38af39acfa16238_28.geojson\n",
      "Resolving opendata.arcgis.com (opendata.arcgis.com)... 52.3.41.73, 34.195.26.174\n",
      "Connecting to opendata.arcgis.com (opendata.arcgis.com)|52.3.41.73|:443... connected.\n",
      "HTTP request sent, awaiting response... 200 OK\n",
      "Length: unspecified [application/json]\n",
      "Saving to: ‘construction.permits2016’\n",
      "\n",
      "construction.permit     [ <=>                ]  15.95M  --.-KB/s    in 0.1s    \n",
      "\n",
      "2017-11-01 01:33:25 (131 MB/s) - ‘construction.permits2016’ saved [16725053]\n",
      "\n"
     ]
    }
   ],
   "source": [
    "! wget https://opendata.arcgis.com/datasets/2dc1a7dbb705471eb38af39acfa16238_28.geojson -O construction.permits2016"
   ]
  },
  {
   "cell_type": "code",
   "execution_count": 10,
   "metadata": {},
   "outputs": [
    {
     "name": "stdout",
     "output_type": "stream",
     "text": [
      "--2017-11-01 01:36:30--  https://opendata.arcgis.com/datasets/b3283607f9b74457aff420081eec3190_29.geojson\n",
      "Resolving opendata.arcgis.com (opendata.arcgis.com)... 34.195.26.174, 52.3.41.73\n",
      "Connecting to opendata.arcgis.com (opendata.arcgis.com)|34.195.26.174|:443... connected.\n",
      "HTTP request sent, awaiting response... 200 OK\n",
      "Length: unspecified [application/json]\n",
      "Saving to: ‘construction.permits2015’\n",
      "\n",
      "construction.permit     [ <=>                ]  15.54M  --.-KB/s    in 0.1s    \n",
      "\n",
      "2017-11-01 01:36:30 (134 MB/s) - ‘construction.permits2015’ saved [16290003]\n",
      "\n"
     ]
    }
   ],
   "source": [
    "! wget https://opendata.arcgis.com/datasets/b3283607f9b74457aff420081eec3190_29.geojson -O construction.permits2015"
   ]
  },
  {
   "cell_type": "code",
   "execution_count": 11,
   "metadata": {},
   "outputs": [
    {
     "name": "stdout",
     "output_type": "stream",
     "text": [
      "--2017-11-01 01:38:26--  https://opendata.arcgis.com/datasets/54b57e15f6944af8b413a5e4f88b070c_13.geojson\n",
      "Resolving opendata.arcgis.com (opendata.arcgis.com)... 34.195.26.174, 52.3.41.73\n",
      "Connecting to opendata.arcgis.com (opendata.arcgis.com)|34.195.26.174|:443... connected.\n",
      "HTTP request sent, awaiting response... 200 OK\n",
      "Length: unspecified [application/json]\n",
      "Saving to: ‘construction.permits2014’\n",
      "\n",
      "construction.permit     [ <=>                ]  12.49M  --.-KB/s    in 0.1s    \n",
      "\n",
      "2017-11-01 01:38:26 (109 MB/s) - ‘construction.permits2014’ saved [13102073]\n",
      "\n"
     ]
    }
   ],
   "source": [
    "! wget https://opendata.arcgis.com/datasets/54b57e15f6944af8b413a5e4f88b070c_13.geojson -O construction.permits2014"
   ]
  },
  {
   "cell_type": "code",
   "execution_count": 12,
   "metadata": {},
   "outputs": [
    {
     "name": "stdout",
     "output_type": "stream",
     "text": [
      "--2017-11-01 01:39:30--  https://opendata.arcgis.com/datasets/3d49e06d51984fa2b68f21eed21eba1f_14.geojson\n",
      "Resolving opendata.arcgis.com (opendata.arcgis.com)... 34.195.26.174, 52.3.41.73\n",
      "Connecting to opendata.arcgis.com (opendata.arcgis.com)|34.195.26.174|:443... connected.\n",
      "HTTP request sent, awaiting response... 200 OK\n",
      "Length: unspecified [application/json]\n",
      "Saving to: ‘construction.permits2013’\n",
      "\n",
      "construction.permit     [ <=>                ]  11.29M  --.-KB/s    in 0.08s   \n",
      "\n",
      "2017-11-01 01:39:30 (140 MB/s) - ‘construction.permits2013’ saved [11841996]\n",
      "\n"
     ]
    }
   ],
   "source": [
    "! wget https://opendata.arcgis.com/datasets/3d49e06d51984fa2b68f21eed21eba1f_14.geojson -O construction.permits2013"
   ]
  },
  {
   "cell_type": "code",
   "execution_count": 13,
   "metadata": {},
   "outputs": [
    {
     "name": "stdout",
     "output_type": "stream",
     "text": [
      "--2017-11-01 01:40:38--  https://opendata.arcgis.com/datasets/9cbe8553d4e2456ab6c140d83c7e83e0_15.geojson\n",
      "Resolving opendata.arcgis.com (opendata.arcgis.com)... 34.195.26.174, 52.3.41.73\n",
      "Connecting to opendata.arcgis.com (opendata.arcgis.com)|34.195.26.174|:443... connected.\n",
      "HTTP request sent, awaiting response... 200 OK\n",
      "Length: unspecified [application/json]\n",
      "Saving to: ‘construction.permits2012’\n",
      "\n",
      "construction.permit     [ <=>                ]   8.74M  --.-KB/s    in 0.07s   \n",
      "\n",
      "2017-11-01 01:40:38 (132 MB/s) - ‘construction.permits2012’ saved [9167367]\n",
      "\n"
     ]
    }
   ],
   "source": [
    "! wget https://opendata.arcgis.com/datasets/9cbe8553d4e2456ab6c140d83c7e83e0_15.geojson -O construction.permits2012"
   ]
  },
  {
   "cell_type": "code",
   "execution_count": 14,
   "metadata": {},
   "outputs": [
    {
     "name": "stdout",
     "output_type": "stream",
     "text": [
      "--2017-11-01 01:44:30--  https://opendata.arcgis.com/datasets/3059b56064c647b88cd4379ef10eac1a_40.geojson\n",
      "Resolving opendata.arcgis.com (opendata.arcgis.com)... 34.195.26.174, 52.3.41.73\n",
      "Connecting to opendata.arcgis.com (opendata.arcgis.com)|34.195.26.174|:443... connected.\n",
      "HTTP request sent, awaiting response... 202 Accepted\n",
      "Length: 72 [application/json]\n",
      "Saving to: ‘occupancy.permits2017’\n",
      "\n",
      "occupancy.permits20 100%[===================>]      72  --.-KB/s    in 0s      \n",
      "\n",
      "2017-11-01 01:44:30 (22.2 MB/s) - ‘occupancy.permits2017’ saved [72/72]\n",
      "\n"
     ]
    }
   ],
   "source": [
    "! wget https://opendata.arcgis.com/datasets/3059b56064c647b88cd4379ef10eac1a_40.geojson -O occupancy.permits2017"
   ]
  },
  {
   "cell_type": "code",
   "execution_count": 15,
   "metadata": {},
   "outputs": [
    {
     "name": "stdout",
     "output_type": "stream",
     "text": [
      "--2017-11-01 01:47:12--  https://opendata.arcgis.com/datasets/4920e8a207004973bd2dc90e7a4efea3_30.geojson\n",
      "Resolving opendata.arcgis.com (opendata.arcgis.com)... 34.195.26.174, 52.3.41.73\n",
      "Connecting to opendata.arcgis.com (opendata.arcgis.com)|34.195.26.174|:443... connected.\n",
      "HTTP request sent, awaiting response... 200 OK\n",
      "Length: unspecified [application/json]\n",
      "Saving to: ‘occupancy.permits2016’\n",
      "\n",
      "occupancy.permits20     [  <=>               ]  44.54M   138MB/s    in 0.3s    \n",
      "\n",
      "2017-11-01 01:47:13 (138 MB/s) - ‘occupancy.permits2016’ saved [46706383]\n",
      "\n"
     ]
    }
   ],
   "source": [
    "! wget https://opendata.arcgis.com/datasets/4920e8a207004973bd2dc90e7a4efea3_30.geojson -O occupancy.permits2016"
   ]
  },
  {
   "cell_type": "code",
   "execution_count": 16,
   "metadata": {},
   "outputs": [
    {
     "name": "stdout",
     "output_type": "stream",
     "text": [
      "--2017-11-01 01:49:09--  https://opendata.arcgis.com/datasets/bd0b5947cde44d4c89cb794d7bfa4643_31.geojson\n",
      "Resolving opendata.arcgis.com (opendata.arcgis.com)... 52.3.41.73, 34.195.26.174\n",
      "Connecting to opendata.arcgis.com (opendata.arcgis.com)|52.3.41.73|:443... connected.\n",
      "HTTP request sent, awaiting response... 200 OK\n",
      "Length: unspecified [application/json]\n",
      "Saving to: ‘occupancy.permits2015’\n",
      "\n",
      "occupancy.permits20     [  <=>               ]  43.64M   142MB/s    in 0.3s    \n",
      "\n",
      "2017-11-01 01:49:10 (142 MB/s) - ‘occupancy.permits2015’ saved [45757281]\n",
      "\n"
     ]
    }
   ],
   "source": [
    "! wget https://opendata.arcgis.com/datasets/bd0b5947cde44d4c89cb794d7bfa4643_31.geojson -O occupancy.permits2015"
   ]
  },
  {
   "cell_type": "code",
   "execution_count": 17,
   "metadata": {},
   "outputs": [
    {
     "name": "stdout",
     "output_type": "stream",
     "text": [
      "--2017-11-01 01:50:33--  https://opendata.arcgis.com/datasets/45317861f85d4b91ad10b936ae068678_17.geojson\n",
      "Resolving opendata.arcgis.com (opendata.arcgis.com)... 34.195.26.174, 52.3.41.73\n",
      "Connecting to opendata.arcgis.com (opendata.arcgis.com)|34.195.26.174|:443... connected.\n",
      "HTTP request sent, awaiting response... 200 OK\n",
      "Length: unspecified [application/json]\n",
      "Saving to: ‘occupancy.permits2014’\n",
      "\n",
      "occupancy.permits20     [  <=>               ]  39.04M   142MB/s    in 0.3s    \n",
      "\n",
      "2017-11-01 01:50:33 (142 MB/s) - ‘occupancy.permits2014’ saved [40941272]\n",
      "\n"
     ]
    }
   ],
   "source": [
    "! wget https://opendata.arcgis.com/datasets/45317861f85d4b91ad10b936ae068678_17.geojson -O occupancy.permits2014"
   ]
  },
  {
   "cell_type": "code",
   "execution_count": 18,
   "metadata": {},
   "outputs": [
    {
     "name": "stdout",
     "output_type": "stream",
     "text": [
      "--2017-11-01 01:51:41--  https://opendata.arcgis.com/datasets/65f5fd59f5474e2fbd72f243e088d2a2_18.geojson\n",
      "Resolving opendata.arcgis.com (opendata.arcgis.com)... 34.195.26.174, 52.3.41.73\n",
      "Connecting to opendata.arcgis.com (opendata.arcgis.com)|34.195.26.174|:443... connected.\n",
      "HTTP request sent, awaiting response... 200 OK\n",
      "Length: unspecified [application/json]\n",
      "Saving to: ‘occupancy.permits2013’\n",
      "\n",
      "occupancy.permits20     [  <=>               ]  35.92M   141MB/s    in 0.3s    \n",
      "\n",
      "2017-11-01 01:51:42 (141 MB/s) - ‘occupancy.permits2013’ saved [37663117]\n",
      "\n"
     ]
    }
   ],
   "source": [
    "! wget https://opendata.arcgis.com/datasets/65f5fd59f5474e2fbd72f243e088d2a2_18.geojson -O occupancy.permits2013"
   ]
  },
  {
   "cell_type": "code",
   "execution_count": 19,
   "metadata": {},
   "outputs": [
    {
     "name": "stdout",
     "output_type": "stream",
     "text": [
      "--2017-11-01 01:52:59--  https://opendata.arcgis.com/datasets/eed84f600bdc4f2b9bf33af1d13f33fe_0.geojson\n",
      "Resolving opendata.arcgis.com (opendata.arcgis.com)... 34.195.26.174, 52.3.41.73\n",
      "Connecting to opendata.arcgis.com (opendata.arcgis.com)|34.195.26.174|:443... connected.\n",
      "HTTP request sent, awaiting response... 200 OK\n",
      "Length: unspecified [application/json]\n",
      "Saving to: ‘occupancy.permits2012’\n",
      "\n",
      "occupancy.permits20     [ <=>                ]   2.14M  --.-KB/s    in 0.02s   \n",
      "\n",
      "2017-11-01 01:53:00 (97.9 MB/s) - ‘occupancy.permits2012’ saved [2239727]\n",
      "\n"
     ]
    }
   ],
   "source": [
    "! wget https://opendata.arcgis.com/datasets/eed84f600bdc4f2b9bf33af1d13f33fe_0.geojson -O occupancy.permits2012"
   ]
  },
  {
   "cell_type": "code",
   "execution_count": 20,
   "metadata": {},
   "outputs": [
    {
     "name": "stdout",
     "output_type": "stream",
     "text": [
      "--2017-11-01 01:55:00--  https://opendata.arcgis.com/datasets/f1c50ea5db704ed39f753f16dff964af_6.geojson\n",
      "Resolving opendata.arcgis.com (opendata.arcgis.com)... 34.195.26.174, 52.3.41.73\n",
      "Connecting to opendata.arcgis.com (opendata.arcgis.com)|34.195.26.174|:443... connected.\n",
      "HTTP request sent, awaiting response... 200 OK\n",
      "Length: unspecified [application/json]\n",
      "Saving to: ‘property.tax.boundaries’\n",
      "\n",
      "property.tax.bounda     [ <=>                ]   1.85M  --.-KB/s    in 0.01s   \n",
      "\n",
      "2017-11-01 01:55:01 (125 MB/s) - ‘property.tax.boundaries’ saved [1937569]\n",
      "\n"
     ]
    }
   ],
   "source": [
    "! wget https://opendata.arcgis.com/datasets/f1c50ea5db704ed39f753f16dff964af_6.geojson -O property.tax.boundaries"
   ]
  },
  {
   "cell_type": "code",
   "execution_count": 21,
   "metadata": {},
   "outputs": [
    {
     "name": "stdout",
     "output_type": "stream",
     "text": [
      "--2017-11-01 01:55:56--  https://opendata.arcgis.com/datasets/58562a06412e43b9acb2515010818b0a_28.geojson\n",
      "Resolving opendata.arcgis.com (opendata.arcgis.com)... 52.3.41.73, 34.195.26.174\n",
      "Connecting to opendata.arcgis.com (opendata.arcgis.com)|52.3.41.73|:443... connected.\n",
      "HTTP request sent, awaiting response... 200 OK\n",
      "Length: unspecified [application/json]\n",
      "Saving to: ‘sidewalk.cafes’\n",
      "\n",
      "sidewalk.cafes          [ <=>                ] 141.18K  --.-KB/s    in 0.003s  \n",
      "\n",
      "2017-11-01 01:55:56 (43.2 MB/s) - ‘sidewalk.cafes’ saved [144573]\n",
      "\n"
     ]
    }
   ],
   "source": [
    "! wget https://opendata.arcgis.com/datasets/58562a06412e43b9acb2515010818b0a_28.geojson -O sidewalk.cafes"
   ]
  },
  {
   "cell_type": "code",
   "execution_count": 22,
   "metadata": {},
   "outputs": [
    {
     "name": "stdout",
     "output_type": "stream",
     "text": [
      "--2017-11-01 01:57:02--  https://opendata.arcgis.com/datasets/54018b7f06b943f2af278bbe415df1de_52.geojson\n",
      "Resolving opendata.arcgis.com (opendata.arcgis.com)... 52.3.41.73, 34.195.26.174\n",
      "Connecting to opendata.arcgis.com (opendata.arcgis.com)|52.3.41.73|:443... connected.\n",
      "HTTP request sent, awaiting response... 200 OK\n",
      "Length: 15685 (15K) [application/json]\n",
      "Saving to: ‘metro.stations’\n",
      "\n",
      "metro.stations      100%[===================>]  15.32K  --.-KB/s    in 0s      \n",
      "\n",
      "2017-11-01 01:57:02 (402 MB/s) - ‘metro.stations’ saved [15685/15685]\n",
      "\n"
     ]
    }
   ],
   "source": [
    "! wget https://opendata.arcgis.com/datasets/54018b7f06b943f2af278bbe415df1de_52.geojson -O metro.stations"
   ]
  },
  {
   "cell_type": "code",
   "execution_count": 24,
   "metadata": {},
   "outputs": [
    {
     "name": "stdout",
     "output_type": "stream",
     "text": [
      "--2017-11-01 01:58:57--  https://opendata.arcgis.com/datasets/c3c0ae91dca54c5d9ce56962fa0dd645_68.geojson\n",
      "Resolving opendata.arcgis.com (opendata.arcgis.com)... 52.3.41.73, 34.195.26.174\n",
      "Connecting to opendata.arcgis.com (opendata.arcgis.com)|52.3.41.73|:443... connected.\n",
      "HTTP request sent, awaiting response... 200 OK\n",
      "Length: unspecified [application/json]\n",
      "Saving to: ‘residential.units’\n",
      "\n",
      "residential.units       [  <=>               ]  55.01M   142MB/s    in 0.4s    \n",
      "\n",
      "2017-11-01 01:58:57 (142 MB/s) - ‘residential.units’ saved [57686771]\n",
      "\n"
     ]
    }
   ],
   "source": [
    "! wget https://opendata.arcgis.com/datasets/c3c0ae91dca54c5d9ce56962fa0dd645_68.geojson -O residential.units"
   ]
  },
  {
   "cell_type": "code",
   "execution_count": 1,
   "metadata": {},
   "outputs": [
    {
     "name": "stdout",
     "output_type": "stream",
     "text": [
      "--2017-11-02 02:57:13--  https://opendata.arcgis.com/datasets/6969dd63c5cb4d6aa32f15effb8311f3_8.geojson\n",
      "Resolving opendata.arcgis.com (opendata.arcgis.com)... 34.195.26.174, 52.3.41.73\n",
      "Connecting to opendata.arcgis.com (opendata.arcgis.com)|34.195.26.174|:443... connected.\n",
      "HTTP request sent, awaiting response... 200 OK\n",
      "Length: unspecified [application/json]\n",
      "Saving to: ‘tracts.by.median.income2010’\n",
      "\n",
      "tracts.by.median.in     [  <=>               ]   1.71M  7.69MB/s    in 0.2s    \n",
      "\n",
      "2017-11-02 02:57:14 (7.69 MB/s) - ‘tracts.by.median.income2010’ saved [1794478]\n",
      "\n"
     ]
    }
   ],
   "source": [
    "! wget https://opendata.arcgis.com/datasets/6969dd63c5cb4d6aa32f15effb8311f3_8.geojson -O tracts.by.median.income2010"
   ]
  },
  {
   "cell_type": "code",
   "execution_count": null,
   "metadata": {
    "collapsed": true
   },
   "outputs": [],
   "source": []
  }
 ],
 "metadata": {
  "kernelspec": {
   "display_name": "Python 3",
   "language": "python",
   "name": "python3"
  },
  "language_info": {
   "codemirror_mode": {
    "name": "ipython",
    "version": 3
   },
   "file_extension": ".py",
   "mimetype": "text/x-python",
   "name": "python",
   "nbconvert_exporter": "python",
   "pygments_lexer": "ipython3",
   "version": "3.6.2"
  }
 },
 "nbformat": 4,
 "nbformat_minor": 2
}
