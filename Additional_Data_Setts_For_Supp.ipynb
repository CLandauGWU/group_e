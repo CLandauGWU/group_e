{
 "cells": [
  {
   "cell_type": "code",
   "execution_count": null,
   "metadata": {
    "collapsed": true
   },
   "outputs": [],
   "source": [
    "# Features \n",
    "stcar = ['https://opendata.arcgis.com/datasets/63032fe31e6247d891199af860cd5109_113.csv', 'https://opendata.arcgis.com/datasets/63032fe31e6247d891199af860cd5109_113.zip']\n",
    "phous = ['https://opendata.arcgis.com/datasets/7f40eee5afaa4210959c2a55328a0cab_15.csv', 'https://opendata.arcgis.com/datasets/7f40eee5afaa4210959c2a55328a0cab_15.zip']\n",
    "lmark = ['https://opendata.arcgis.com/datasets/5543ccd321504cb484a7b618ea42999d_26.csv', 'https://opendata.arcgis.com/datasets/5543ccd321504cb484a7b618ea42999d_26.zip']\n",
    "hell = ['https://opendata.arcgis.com/datasets/bf78692457244db0acc70ccda790aa74_4.csv', 'https://opendata.arcgis.com/datasets/bf78692457244db0acc70ccda790aa74_4.zip']\n",
    "check = ['https://opendata.arcgis.com/datasets/9f137d3a66af4a1fb76369322fadc8dc_1.csv', 'https://opendata.arcgis.com/datasets/9f137d3a66af4a1fb76369322fadc8dc_1.zip']\n",
    "bikeroutes = ['https://opendata.arcgis.com/datasets/0a0ff97967fb413b91d5cf444ed82fce_6.csv', 'https://opendata.arcgis.com/datasets/0a0ff97967fb413b91d5cf444ed82fce_6.zip']\n",
    "npark = ['https://opendata.arcgis.com/datasets/98aee40a55384ddc8f1f1ea4088cdde9_8.csv', 'https://opendata.arcgis.com/datasets/98aee40a55384ddc8f1f1ea4088cdde9_8.zip']\n",
    "atm = ['https://opendata.arcgis.com/datasets/5555b90602a94d9c85d63ee62a860c6e_31.csv', 'https://opendata.arcgis.com/datasets/5555b90602a94d9c85d63ee62a860c6e_31.zip']\n",
    "public schools = ['https://opendata.arcgis.com/datasets/4ac321b2d409438ebd76a6569ad94034_5.csv', 'https://opendata.arcgis.com/datasets/4ac321b2d409438ebd76a6569ad94034_5.zip']\n",
    "sexoffdr = ['https://opendata.arcgis.com/datasets/10e58174831e49a2aebaa129cc1c3bd5_20.csv', 'https://opendata.arcgis.com/datasets/10e58174831e49a2aebaa129cc1c3bd5_20.zip']\n",
    "bikelanes = ['https://opendata.arcgis.com/datasets/294e062cdf2c48d5b9cbc374d9709bc0_2.csv', 'https://opendata.arcgis.com/datasets/294e062cdf2c48d5b9cbc374d9709bc0_2.zip']\n",
    "af_hou = ['https://opendata.arcgis.com/datasets/34ae3d3c9752434a8c03aca5deb550eb_62.csv', 'https://opendata.arcgis.com/datasets/34ae3d3c9752434a8c03aca5deb550eb_62.zip']\n",
    "alley = ['https://opendata.arcgis.com/datasets/dc3dc5310f1f4be7a1fa6cde59b564df_62.csv', 'https://opendata.arcgis.com/datasets/dc3dc5310f1f4be7a1fa6cde59b564df_62.zip']\n",
    "shuttle = ['https://opendata.arcgis.com/datasets/74d47d1a97e24489a8249210da9f3288_110.csv', 'https://opendata.arcgis.com/datasets/74d47d1a97e24489a8249210da9f3288_110.zip']\n",
    "bikeshare = ['https://opendata.arcgis.com/datasets/a1f7acf65795451d89f0a38565a975b3_5.csv', 'https://opendata.arcgis.com/datasets/a1f7acf65795451d89f0a38565a975b3_5.zip']\n",
    "memorials = ['https://opendata.arcgis.com/datasets/3089fba695824861834c205a81eefda5_55.csv', 'https://opendata.arcgis.com/datasets/3089fba695824861834c205a81eefda5_55.zip']\n",
    "colleges = ['https://opendata.arcgis.com/datasets/1a714ebe2aae41b6a5c2dd96fb613733_12.csv', 'https://opendata.arcgis.com/datasets/1a714ebe2aae41b6a5c2dd96fb613733_12.zip']\n",
    "circulator = ['https://opendata.arcgis.com/datasets/e20d1dc981174440b38ac768de4eb921_54.csv', 'https://opendata.arcgis.com/datasets/e20d1dc981174440b38ac768de4eb921_54.zip']\n",
    "metrobus = ['https://opendata.arcgis.com/datasets/e85b5321a5a84ff9af56fd614dab81b3_53.csv', 'https://opendata.arcgis.com/datasets/e85b5321a5a84ff9af56fd614dab81b3_53.zip']\n",
    "artistdensity = ['https://opendata.arcgis.com/datasets/55fcc7392f554cd886013176faa18f31_53.csv', 'https://opendata.arcgis.com/datasets/55fcc7392f554cd886013176faa18f31_53.zip']\n",
    "\n",
    "\n",
    "#zones \n",
    "tea = ['https://opendata.arcgis.com/datasets/818f83a0e6304b81b2f6639782f20b6d_25.csv', 'https://opendata.arcgis.com/datasets/818f83a0e6304b81b2f6639782f20b6d_25.zip']\n",
    "culture = ['https://opendata.arcgis.com/datasets/5d45a78e45c54b54a5b0a2bb2a77dfca_3.csv', 'https://opendata.arcgis.com/datasets/5d45a78e45c54b54a5b0a2bb2a77dfca_3.zip']\n",
    "\n",
    "\n",
    "\n",
    "\n",
    "\n",
    "crime15 = ['https://opendata.arcgis.com/datasets/35034fcb3b36499c84c94c069ab1a966_27.csv', 'https://opendata.arcgis.com/datasets/35034fcb3b36499c84c94c069ab1a966_27.zip']\n",
    "\n",
    "\n",
    "#new shape?\n",
    "rprop = [https://opendata.arcgis.com/datasets/f1c50ea5db704ed39f753f16dff964af_6.csv, https://opendata.arcgis.com/datasets/f1c50ea5db704ed39f753f16dff964af_6.zip]\n",
    "\n"
   ]
  },
  {
   "cell_type": "markdown",
   "metadata": {},
   "source": [
    "# Data Dictionary "
   ]
  },
  {
   "cell_type": "markdown",
   "metadata": {},
   "source": [
    "stcar = dc street car routes, phous = public housing locations, lmarks = landmark data set, hell = dmv locations, check = check cashing locations (2007, may not work). atm = atm locations, tea = targeted employment areas, culture = cultural areas, sexoffdr = sex offender registry, npark = national parks, bikeroutes = signed bike routes, aff_hou = affordable housing, alley = alleys and parking, shuttle = shuttle bus stops, bikeshare = capital bike share locations\n",
    "memorials = memorial locations, colleges = DC colleges, circulator = circulator bus stops, metrobusstops = metro bus stop locations, artistdensity = artist density determined by past grant winners, "
   ]
  }
 ],
 "metadata": {
  "kernelspec": {
   "display_name": "Python 3",
   "language": "python",
   "name": "python3"
  },
  "language_info": {
   "codemirror_mode": {
    "name": "ipython",
    "version": 3
   },
   "file_extension": ".py",
   "mimetype": "text/x-python",
   "name": "python",
   "nbconvert_exporter": "python",
   "pygments_lexer": "ipython3",
   "version": "3.6.2"
  }
 },
 "nbformat": 4,
 "nbformat_minor": 2
}
