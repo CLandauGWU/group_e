{
 "cells": [
  {
   "cell_type": "markdown",
   "metadata": {},
   "source": [
    "### Zones"
   ]
  },
  {
   "cell_type": "code",
   "execution_count": null,
   "metadata": {},
   "outputs": [],
   "source": [
    "## Extract Zone Shapes\n",
    "MS_CORRI = down_extract_zip ( 'https://opendata.arcgis.com/datasets/8e602ef5080e4343913702452ddf71d4_16.zip')\n",
    "GS_CORRI = down_extract_zip ('https://opendata.arcgis.com/datasets/2ccac3f2585f487c9d14919d02d66740_13.zip')\n",
    "HIS_UND = down_extract_zip ('https://opendata.arcgis.com/datasets/3060b61b0f9c444dbbd873bfae5ffa16_21.zip')\n",
    "DDOT = down_extract_zip ('https://opendata.arcgis.com/datasets/32143ca8983d4476b64f4202162bf61e_12.zip')\n",
    "NINV = down_extract_zip ('https://opendata.arcgis.com/datasets/6da0781990494f678e9f5722e1c09a67_23.zip')\n",
    "IRB = down_extract_zip ('https://opendata.arcgis.com/datasets/eac41c3a46274a6bbe6184c6bbf412e8_15.zip')\n",
    "DE = down_extract_zip ('https://opendata.arcgis.com/datasets/27221bef23ed4f5aa6e8e51d51edede9_19.zip')\n",
    "ED = down_extract_zip ('https://opendata.arcgis.com/datasets/a3aefd57db394fd68d739556253dc44d_18.zip')\n",
    "SVZ = down_extract_zip ('https://opendata.arcgis.com/datasets/67da6b571c5e41ec8c21b5ce54080434_1.zip')\n",
    "DRZ = down_extract_zip ('https://opendata.arcgis.com/datasets/900148002b174f13881ecd3961119d9c_17.zip')\n",
    "DTDEV = down_extract_zip ('https://opendata.arcgis.com/datasets/ab5cc72b8eb3494abea8c848855e22c7_3.zip')\n",
    "\n",
    "## Read Zone Shapes In\n",
    "MS_CORRI = gpd.read_file('/home/jovyan/group_e/data/8e602ef5080e4343913702452ddf71d4_16', crs='EPSG:4326')\n",
    "GS_CORRI = gpd.read_file ('/home/jovyan/group_e/data/2ccac3f2585f487c9d14919d02d66740_13', crs='EPSG:4326')\n",
    "DDOT = gpd.read_file ('/home/jovyan/group_e/data/32143ca8983d4476b64f4202162bf61e_12', crs='EPSG:4326')\n",
    "NINV = gpd.read_file ('/home/jovyan/group_e/data/6da0781990494f678e9f5722e1c09a67_23', crs='EPSG:4326')\n",
    "IRB = gpd.read_file ('/home/jovyan/group_e/data/eac41c3a46274a6bbe6184c6bbf412e8_15', crs='EPSG:4326')\n",
    "DE = gpd.read_file ('/home/jovyan/group_e/data/27221bef23ed4f5aa6e8e51d51edede9_19', crs='EPSG:4326')\n",
    "ED = gpd.read_file ('/home/jovyan/group_e/data/a3aefd57db394fd68d739556253dc44d_18', crs='EPSG:4326')\n",
    "SVZ = gpd.read_file ('/home/jovyan/group_e/data/67da6b571c5e41ec8c21b5ce54080434_1', crs='EPSG:4326')\n",
    "DRZ = gpd.read_file ('/home/jovyan/group_e/data/900148002b174f13881ecd3961119d9c_17', crs='EPSG:4326')\n",
    "DTDEV = gpd.read_file ('/home/jovyan/group_e/data/ab5cc72b8eb3494abea8c848855e22c7_3', crs='EPSG:4326')"
   ]
  },
  {
   "cell_type": "markdown",
   "metadata": {},
   "source": [
    "### Features"
   ]
  },
  {
   "cell_type": "code",
   "execution_count": null,
   "metadata": {
    "collapsed": true
   },
   "outputs": [],
   "source": [
    "#Extract Feature Shapes \n",
    "LIQUOR = down_extract_zip ('https://opendata.arcgis.com/datasets/cabe9dcef0b344518c7fae1a3def7de1_5.zip')\n",
    "PHARM = down_extract_zip ('https://opendata.arcgis.com/datasets/2335ba275c3f4320a3113f13181eab56_9.zip')\n",
    "GROC = down_extract_zip ('https://opendata.arcgis.com/datasets/1d7c9d0e3aac49c1aa88d377a3bae430_4.zip')\n",
    "AFH = down_extract_zip ('https://opendata.arcgis.com/datasets/34ae3d3c9752434a8c03aca5deb550eb_62.zip')\n",
    "SCF = down_extract_zip ('https://opendata.arcgis.com/datasets/58562a06412e43b9acb2515010818b0a_28.zip')\n",
    "FMKT = down_extract_zip ('https://opendata.arcgis.com/datasets/f2e1c2ef9eb44f2899f4a310a80ecec9_2.zip')\n",
    "SVL = down_extract_zip ('https://opendata.arcgis.com/datasets/67da6b571c5e41ec8c21b5ce54080434_0.zip')\n",
    "BANKS = down_extract_zip ('https://opendata.arcgis.com/datasets/dfc51a5bd29347d0a2399743d3144d31_0.zip')\n",
    "CLUBS = down_extract_zip ('https://opendata.arcgis.com/datasets/4589d3e500404dc5a648dcdf3bc2732e_29.zip')\n",
    "HOTELS = down_extract_zip ('https://opendata.arcgis.com/datasets/a3ed163dbf994792a010d742ef1f683d_6.zip')\n",
    "SRV = down_extract_zip ('https://opendata.arcgis.com/datasets/4a84fa926f234916b129cbc022ec4935_29.zip')\n",
    "COFA = down_extract_zip ('https://opendata.arcgis.com/datasets/ec634c5d3ce64a07bad5f74558acafcc_9.zip')\n",
    "metro = down_extract_zip('https://opendata.arcgis.com/datasets/54018b7f06b943f2af278bbe415df1de_52.zip')\n",
    "\n",
    "#Read Feature Shapes In\n",
    "LIQUOR = gpd.read_file (LIQUOR, crs='EPSG:4326')\n",
    "PHARM = gpd.read_file (PHARM, crs='EPSG:4326')\n",
    "GROC = gpd.read_file (GROC, crs='EPSG:4326')\n",
    "AFH = gpd.read_file (AFH, crs='EPSG:4326')\n",
    "SCF = gpd.read_file (SCF, crs='EPSG:4326')\n",
    "FMKT = gpd.read_file (FMKT, crs='EPSG:4326')\n",
    "SVL = gpd.read_file (SVL, crs='EPSG:4326')\n",
    "BANKS = gpd.read_file (BANKS, crs='EPSG:4326')\n",
    "CLUBS = gpd.read_file (CLUBS, crs='EPSG:4326')\n",
    "HOTELS = gpd.read_file (HOTELS, crs='EPSG:4326')\n",
    "SRV = gpd.read_file (SRV, crs='EPSG:4326')\n",
    "COFA = gpd.read_file (COFA, crs='EPSG:4326')\n",
    "metro = gpd.read_file(metro, crs='EPSG:4326')"
   ]
  },
  {
   "cell_type": "code",
   "execution_count": null,
   "metadata": {
    "collapsed": true
   },
   "outputs": [],
   "source": [
    "ftr = [LIQOUR, PHARM, GROC, AFH, SCF, FMKT, SVL, BANKS, CLUBS, HOTELS, SRV, COFA, metro]\n",
    "def concentration_pct(shp_gdf, raw, ftr, bufr=None):\n",
    "    #Flag properties within distance \"bufr\" of featured locations \n",
    "    \n",
    "    if not bufr:\n",
    "        bufr = 1/250 #Hard to say what a good buffer is.\n",
    "    \n",
    "    assert isinstance(bufr, float) #buffer must be float!\n",
    "    \n",
    "    #Frame up the buffer shapes\n",
    "    \n",
    "    ftr.geometry = zone.geometry.buffer(bufr)\n",
    "    ftr['flag'] = 1\n",
    "    ftr.drop(['NAME'], axis=1, inplace=True)\n",
    "    \n",
    "    #Frame up the raw address points data\n",
    "    pointy         = raw[['NAME', 'Points', 'dummy_counter']]\n",
    "    pointy         = gpd.GeoDataFrame(pointy, crs=ftr.crs, \n",
    "                                      geometry=pointy.Points)\n",
    "    pointy         = gpd.sjoin(pointy, zone, \n",
    "                               how='left', op='intersects')\n",
    "    \n",
    "    denom = pointy.groupby('NAME').sum()\n",
    "    denom = denom.dummy_counter\n",
    "    \n",
    "    numer = pointy.groupby('NAME').sum()\n",
    "    numer = numer.flag\n",
    "    \n",
    "    pct_ftr_coverage    = pd.DataFrame(numer/denom)\n",
    "        \n",
    "    pct_ftr_coverage.columns   = [\n",
    "        'pct_metro_coverage'\n",
    "    ]\n",
    "    \n",
    "    pct_ftr_coverage.fillna(0, inplace=True)\n",
    "    \n",
    "    pct_ftr_coverage.crs = pointy.crs\n",
    "    shp_gdf = shp_gdf.merge(pct_metro_coverage,\n",
    "                        how=\"left\", left_on='NAME', right_index=True)\n",
    "    return shp_gdf"
   ]
  },
  {
   "cell_type": "code",
   "execution_count": null,
   "metadata": {
    "collapsed": true
   },
   "outputs": [],
   "source": [
    "zone = [MS_CORRI, GS_CORRI, DDOT, NINV, IRB, DE, ED, SVZ, DRZ]\n",
    "shp_df=dex[1]\n",
    "def PointInZone(shp_gdf, raw, zone):\n",
    "    \n",
    "    zone['flag'] = 1\n",
    "    zone.drop(['NAME'], axis=1, inplace=True)\n",
    "    \n",
    "    #Frame up the raw address points data\n",
    "    pointy         = raw[['NAME', 'Points', 'dummy_counter']]\n",
    "    pointy         = gpd.GeoDataFrame(pointy, crs=zone.crs, \n",
    "                                      geometry=pointy.Points)\n",
    "    pointy         = gpd.sjoin(pointy, zone, \n",
    "                               how='left', op='intersects')\n",
    "    \n",
    "    inzone = pointy.groupby('NAME').sum()\n",
    "    inzone = denom.dummy_counter\n",
    "    \n",
    "    flaginzone   = pd.DataFrame(inzone)\n",
    "        \n",
    "    flaginzone.columns   = [\n",
    "        'flaginzone'\n",
    "    ]\n",
    "    \n",
    "    flaginzone.fillna(0, inplace=True)\n",
    "    \n",
    "    flaginzone.crs = pointy.crs\n",
    "    shp_gdf = shp_gdf.merge(flaginzone,\n",
    "                        how=\"left\", left_on='NAME', right_index=True)\n",
    "    return shp_gdf"
   ]
  }
 ],
 "metadata": {
  "kernelspec": {
   "display_name": "Python 3",
   "language": "python",
   "name": "python3"
  },
  "language_info": {
   "codemirror_mode": {
    "name": "ipython",
    "version": 3
   },
   "file_extension": ".py",
   "mimetype": "text/x-python",
   "name": "python",
   "nbconvert_exporter": "python",
   "pygments_lexer": "ipython3",
   "version": "3.6.2"
  }
 },
 "nbformat": 4,
 "nbformat_minor": 2
}
