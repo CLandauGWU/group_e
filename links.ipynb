{
 "cells": [
  {
   "cell_type": "markdown",
   "metadata": {
    "collapsed": true
   },
   "source": [
    "## Data Key \n",
    "BBL = Basic Business License \n",
    "BP = Business Permit \n",
    "COFA = Commission of Fine Arts Review Area \n",
    "MS_CORRI = DC Main Street Corridors \n",
    "DDOT = DDOT Business Zones \n",
    "DE = Development Enteprise Zones \n",
    "ED = Economic Development Zones\n",
    "FMKT = Farmers Markets \n",
    "GS_CORRI = Great Street Corridors \n",
    "GS_GRANTS = Great Street Grants \n",
    "GROC = Grocery Store Locations \n",
    "HIS_UND = Historically Underutilized Zones \n",
    "IRB = Industrial Revenue Bond Areas \n",
    "LIQOUR = Liquor Licenses \n",
    "NINV = Neighborhood Investment Fund Areas \n",
    "CLUB = Night Club Locations \n",
    "PHARM = Pharmacy Locations \n",
    "PUD = Planned Unit Development \n",
    "SRV = Senior Village Boundaries \n",
    "SCF = Sidewalk Cafe Locations \n",
    "SVZ = Street Vending Zones \n",
    "SVL = Street Vendor Locations \n",
    "SUPR_TAX = Supermarket Tax Incentives \n",
    "TIF = Tax Incentive Financing \n",
    "AFH = Afforable Housing \n",
    "DRZ = District Revitilization Zones  "
   ]
  },
  {
   "cell_type": "code",
   "execution_count": null,
   "metadata": {
    "collapsed": true
   },
   "outputs": [],
   "source": [
    "BBL12_17CSV = ['https://opendata.arcgis.com/datasets/82ab09c9541b4eb8ba4b537e131998ce_22.csv', 'https://opendata.arcgis.com/datasets/4c4d6b4defdf4561b737a594b6f2b0dd_23.csv',   'https://opendata.arcgis.com/datasets/d7aa6d3a3fdc42c4b354b9e90da443b7_1.csv',     'https://opendata.arcgis.com/datasets/a8434614d90e416b80fbdfe2cb2901d8_2.csv', 'https://opendata.arcgis.com/datasets/714d5f8b06914b8596b34b181439e702_36.csv',     'https://opendata.arcgis.com/datasets/c4368a66ce65455595a211d530facc54_3.csv',]\n",
    "BBL12_17ZIP = ['https://opendata.arcgis.com/datasets/82ab09c9541b4eb8ba4b537e131998ce_22.zip', 'https://opendata.arcgis.com/datasets/4c4d6b4defdf4561b737a594b6f2b0dd_23.zip', 'https://opendata.arcgis.com/datasets/d7aa6d3a3fdc42c4b354b9e90da443b7_1.zip','https://opendata.arcgis.com/datasets/a8434614d90e416b80fbdfe2cb2901d8_2.zip', 'https://opendata.arcgis.com/datasets/714d5f8b06914b8596b34b181439e702_36.zip', 'https://opendata.arcgis.com/datasets/c4368a66ce65455595a211d530facc54_3.zip']\n",
    "\n",
    "#Zones and Districts \n",
    "BIZ_Districts = ['https://opendata.arcgis.com/datasets/20ec5862d8f14bcbb9bf14f79c311406_15.csv','https://opendata.arcgis.com/datasets/20ec5862d8f14bcbb9bf14f79c311406_15.zip']\n",
    "GS_GRANTS = ['https://opendata.arcgis.com/datasets/8f08535a1c144fdca6d8b8074cf92b35_34.csv',  'https://opendata.arcgis.com/datasets/8f08535a1c144fdca6d8b8074cf92b35_34.zip']\n",
    "MS_CORRI = ['https://opendata.arcgis.com/datasets/8e602ef5080e4343913702452ddf71d4_16.csv',  'https://opendata.arcgis.com/datasets/8e602ef5080e4343913702452ddf71d4_16.zip', ]\n",
    "GS_CORRI = ['https://opendata.arcgis.com/datasets/2ccac3f2585f487c9d14919d02d66740_13.csv', 'https://opendata.arcgis.com/datasets/2ccac3f2585f487c9d14919d02d66740_13.zip' ]\n",
    "HIS_UND = [  'https://opendata.arcgis.com/datasets/3060b61b0f9c444dbbd873bfae5ffa16_21.csv','https://opendata.arcgis.com/datasets/3060b61b0f9c444dbbd873bfae5ffa16_21.zip',]\n",
    "DDOT = ['https://opendata.arcgis.com/datasets/32143ca8983d4476b64f4202162bf61e_12.csv','https://opendata.arcgis.com/datasets/32143ca8983d4476b64f4202162bf61e_12.zip',]\n",
    "NINV = ['https://opendata.arcgis.com/datasets/6da0781990494f678e9f5722e1c09a67_23.csv', 'https://opendata.arcgis.com/datasets/6da0781990494f678e9f5722e1c09a67_23.zip',]\n",
    "IRB = ['https://opendata.arcgis.com/datasets/eac41c3a46274a6bbe6184c6bbf412e8_15.csv', 'https://opendata.arcgis.com/datasets/eac41c3a46274a6bbe6184c6bbf412e8_15.zip',]\n",
    "DE = ['https://opendata.arcgis.com/datasets/27221bef23ed4f5aa6e8e51d51edede9_19.csv','https://opendata.arcgis.com/datasets/27221bef23ed4f5aa6e8e51d51edede9_19.zip',]\n",
    "ED = ['https://opendata.arcgis.com/datasets/a3aefd57db394fd68d739556253dc44d_18.csv', 'https://opendata.arcgis.com/datasets/a3aefd57db394fd68d739556253dc44d_18.zip',]\n",
    "SVZ = ['https://opendata.arcgis.com/datasets/67da6b571c5e41ec8c21b5ce54080434_1.csv','https://opendata.arcgis.com/datasets/67da6b571c5e41ec8c21b5ce54080434_1.zip', ]\n",
    "DRZ = ['https://opendata.arcgis.com/datasets/900148002b174f13881ecd3961119d9c_17.csv', 'https://opendata.arcgis.com/datasets/900148002b174f13881ecd3961119d9c_17.zip',]\n",
    "DTDEV = ['https://opendata.arcgis.com/datasets/ab5cc72b8eb3494abea8c848855e22c7_3.csv', 'https://opendata.arcgis.com/datasets/ab5cc72b8eb3494abea8c848855e22c7_3.zip',]\n",
    "\n",
    "#Features \n",
    "LIQUOR = ['https://opendata.arcgis.com/datasets/cabe9dcef0b344518c7fae1a3def7de1_5.csv', 'https://opendata.arcgis.com/datasets/cabe9dcef0b344518c7fae1a3def7de1_5.zip',]\n",
    "PHARM = ['https://opendata.arcgis.com/datasets/2335ba275c3f4320a3113f13181eab56_9.csv',     'https://opendata.arcgis.com/datasets/2335ba275c3f4320a3113f13181eab56_9.zip',]\n",
    "GROC = ['https://opendata.arcgis.com/datasets/1d7c9d0e3aac49c1aa88d377a3bae430_4.csv','https://opendata.arcgis.com/datasets/1d7c9d0e3aac49c1aa88d377a3bae430_4.zip',]\n",
    "AFH = ['https://opendata.arcgis.com/datasets/34ae3d3c9752434a8c03aca5deb550eb_62.csv','https://opendata.arcgis.com/datasets/34ae3d3c9752434a8c03aca5deb550eb_62.zip',]\n",
    "SCF = ['https://opendata.arcgis.com/datasets/58562a06412e43b9acb2515010818b0a_28.csv', 'https://opendata.arcgis.com/datasets/58562a06412e43b9acb2515010818b0a_28.zip',]\n",
    "FMKT = ['https://opendata.arcgis.com/datasets/f2e1c2ef9eb44f2899f4a310a80ecec9_2.csv',  'https://opendata.arcgis.com/datasets/f2e1c2ef9eb44f2899f4a310a80ecec9_2.zip',]\n",
    "SVL = ['https://opendata.arcgis.com/datasets/67da6b571c5e41ec8c21b5ce54080434_0.csv','https://opendata.arcgis.com/datasets/67da6b571c5e41ec8c21b5ce54080434_0.zip',]\n",
    "BANKS = ['https://opendata.arcgis.com/datasets/dfc51a5bd29347d0a2399743d3144d31_0.csv','https://opendata.arcgis.com/datasets/dfc51a5bd29347d0a2399743d3144d31_0.zip',]\n",
    "CLUBS = ['https://opendata.arcgis.com/datasets/4589d3e500404dc5a648dcdf3bc2732e_29.csv', 'https://opendata.arcgis.com/datasets/4589d3e500404dc5a648dcdf3bc2732e_29.zip',]\n",
    "HOTELS = ['https://opendata.arcgis.com/datasets/a3ed163dbf994792a010d742ef1f683d_6.csv', 'https://opendata.arcgis.com/datasets/a3ed163dbf994792a010d742ef1f683d_6.zip',]\n",
    "SRV = ['https://opendata.arcgis.com/datasets/4a84fa926f234916b129cbc022ec4935_29.csv','https://opendata.arcgis.com/datasets/4a84fa926f234916b129cbc022ec4935_29.zip']\n",
    "COFA = ['https://opendata.arcgis.com/datasets/ec634c5d3ce64a07bad5f74558acafcc_9.csv', 'https://opendata.arcgis.com/datasets/ec634c5d3ce64a07bad5f74558acafcc_9.zip',]\n",
    "\n",
    "#Construction and Financing\n",
    "SUPR_TAX = ['https://opendata.arcgis.com/datasets/1c5d4b467eaa4301b976547c65cd7d06_24.csv', 'https://opendata.arcgis.com/datasets/1c5d4b467eaa4301b976547c65cd7d06_24.zip',]\n",
    "TIF = ['https://opendata.arcgis.com/datasets/f60a6d54bf2e4e12a779fd0ba3a68e7e_26.csv', 'https://opendata.arcgis.com/datasets/f60a6d54bf2e4e12a779fd0ba3a68e7e_26.zip',]\n",
    "BP12_17CSV = ['https://opendata.arcgis.com/datasets/d4891ca6951947538f6707a6b07ae225_5.csv','https://opendata.arcgis.com/datasets/81a359c031464c53af6230338dbc848e_37.csv', 'https://opendata.arcgis.com/datasets/5f4ea2f25c9a45b29e15e53072126739_7.csv', 'https://opendata.arcgis.com/datasets/4911fcf3527246ae9bf81b5553a48c4d_6.csv','https://opendata.arcgis.com/datasets/9ba1e2cc61144042bdde83b8c68f2580_34.csv','https://opendata.arcgis.com/datasets/981c105beef74af38cc4090992661264_25.csv', 'https://opendata.arcgis.com/datasets/5d14ae7dcd1544878c54e61edda489c3_24.csv',]\n",
    "BP12_17ZIP = [ 'https://opendata.arcgis.com/datasets/4911fcf3527246ae9bf81b5553a48c4d_6.zip','https://opendata.arcgis.com/datasets/d4891ca6951947538f6707a6b07ae225_5.zip', 'https://opendata.arcgis.com/datasets/81a359c031464c53af6230338dbc848e_37.zip', 'https://opendata.arcgis.com/datasets/5f4ea2f25c9a45b29e15e53072126739_7.zip', 'https://opendata.arcgis.com/datasets/9ba1e2cc61144042bdde83b8c68f2580_34.zip', 'https://opendata.arcgis.com/datasets/981c105beef74af38cc4090992661264_25.zip', 'https://opendata.arcgis.com/datasets/5d14ae7dcd1544878c54e61edda489c3_24.zip',]\n",
    "PUD = ['https://opendata.arcgis.com/datasets/bdfca0a8c4174bfab5fd1898c8860cc8_9.csv','https://opendata.arcgis.com/datasets/bdfca0a8c4174bfab5fd1898c8860cc8_9.zip',]\n"
   ]
  }
 ],
 "metadata": {
  "kernelspec": {
   "display_name": "Python 3",
   "language": "python",
   "name": "python3"
  },
  "language_info": {
   "codemirror_mode": {
    "name": "ipython",
    "version": 3
   },
   "file_extension": ".py",
   "mimetype": "text/x-python",
   "name": "python",
   "nbconvert_exporter": "python",
   "pygments_lexer": "ipython3",
   "version": "3.6.2"
  }
 },
 "nbformat": 4,
 "nbformat_minor": 2
}
