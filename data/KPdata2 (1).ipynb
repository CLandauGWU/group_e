{
 "cells": [
  {
   "cell_type": "code",
   "execution_count": 6,
   "metadata": {},
   "outputs": [],
   "source": [
    "tracts_median_income = ['https://opendata.arcgis.com/datasets/b78d164649ad487db0f2b20a9261fb8c_17.csv']\n",
    "voting_precincts_2012 = ['https://opendata.arcgis.com/datasets/44cdf2570d8545dd9c9868e2a2f570c8_27.csv']\n",
    "census_tracts = ['https://opendata.arcgis.com/datasets/24f945c1fd314c618c602686316d8f2f_12.csv', 'https://opendata.arcgis.com/datasets/fb7809459d3d44dab7509402d755b1c1_11.csv', 'https://opendata.arcgis.com/datasets/274a5885a81840c2ab6cb79c3518f6a6_10.csv', 'https://opendata.arcgis.com/datasets/f88d947d0ba945b688e00a46d6cbcd6c_9.csv', 'https://opendata.arcgis.com/datasets/6969dd63c5cb4d6aa32f15effb8311f3_8.csv']\n",
    "FMR_zipcode = ['https://www.huduser.gov/portal/datasets/fmr/fmr2017/asq_zctadata_2014_20000thru39999.xlsx', 'https://www.huduser.gov/portal/datasets/fmr/fmr2018/asq_zctadata_2015_20000thru39999.xlsx']\n",
    "rent_by_county =  ['https://www.huduser.gov/portal/datasets/50thper/FY2003_50Rents_County.xls', 'https://www.huduser.gov/portal/datasets/50thper/FMR2004F50_County.xls', 'https://www.huduser.gov/portal/datasets/50thper/County_Level_50.xls', 'https://www.huduser.gov/portal/datasets/50thper/FY2006_County_Level_50th.xls', 'https://www.huduser.gov/portal/datasets/50thper/FY2007_County_Level_50th.xls', 'https://www.huduser.gov/portal/datasets/50thper/FY2008_county_level_50th_r.xls',  'https://www.huduser.gov/portal/datasets/50thper/FY2010_50_Final.xls', 'https://www.huduser.gov/portal/datasets/50thper/FY2009_50_Rev_Final.xls', 'https://www.huduser.gov/portal/datasets/50thper/FY2011_50_Final_County.xls', 'https://www.huduser.gov/portal/datasets/50thper/FY2012_FMRS_50_County.xls', 'https://www.huduser.gov/portal/datasets/50thper/FY2013_50_Final.xls',  'https://www.huduser.gov/portal/datasets/50thper/FY2014_50_RevFinal.xls', 'https://www.huduser.gov/portal/datasets/50thper/FY2014_50_RevFinal.xls', 'https://www.huduser.gov/portal/datasets/50thper/FY2015_50_RevFinal.xls', 'https://www.huduser.gov/portal/datasets/50thper/FY2016F_50_RevFinal.xlsx', 'https://www.huduser.gov/portal/datasets/50thper/FY2017_50_rev.xlsx']"
   ]
  },
  {
   "cell_type": "code",
   "execution_count": 8,
   "metadata": {},
   "outputs": [],
   "source": [
    "housing_data_tract = ['https://egis-hud.opendata.arcgis.com/datasets/2f2c65ada5514bf280bc2c94186300b7_0.csv']"
   ]
  },
  {
   "cell_type": "code",
   "execution_count": null,
   "metadata": {
    "collapsed": true
   },
   "outputs": [],
   "source": []
  }
 ],
 "metadata": {
  "kernelspec": {
   "display_name": "Python 3",
   "language": "python",
   "name": "python3"
  },
  "language_info": {
   "codemirror_mode": {
    "name": "ipython",
    "version": 3
   },
   "file_extension": ".py",
   "mimetype": "text/x-python",
   "name": "python",
   "nbconvert_exporter": "python",
   "pygments_lexer": "ipython3",
   "version": "3.6.2"
  }
 },
 "nbformat": 4,
 "nbformat_minor": 2
}
