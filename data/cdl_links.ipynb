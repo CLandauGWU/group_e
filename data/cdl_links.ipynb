{
 "cells": [
  {
   "cell_type": "code",
   "execution_count": null,
   "metadata": {
    "collapsed": true
   },
   "outputs": [],
   "source": [
    "links = ['http://opendata.dc.gov/datasets/highway-plan-lines',\n",
    "        'http://opendata.dc.gov/datasets/historic-data-on-dc-buildings',\n",
    "        'http://opendata.dc.gov/datasets/district-government-land-owned-operated-and-or-managed',\n",
    "        'http://opendata.dc.gov/datasets/anacostia-waterfront-initiative'\n",
    "        'http://opendata.dc.gov/datasets/zoning-regulations-of-1958',\n",
    "        'http://opendata.dc.gov/datasets/real-estate-portfolio-at-dmped',\n",
    "        'http://opendata.dc.gov/datasets/high-technology-development-zones',\n",
    "         'http://opendata.dc.gov/datasets/nonprofit-tax-abatement-zones',\n",
    "         'http://opendata.dc.gov/datasets/economic-development-zones',\n",
    "         'http://opendata.dc.gov/datasets/street-vending-zones'\n",
    "        ]"
   ]
  }
 ],
 "metadata": {
  "kernelspec": {
   "display_name": "Python 3",
   "language": "python",
   "name": "python3"
  },
  "language_info": {
   "codemirror_mode": {
    "name": "ipython",
    "version": 3
   },
   "file_extension": ".py",
   "mimetype": "text/x-python",
   "name": "python",
   "nbconvert_exporter": "python",
   "pygments_lexer": "ipython3",
   "version": "3.6.2"
  }
 },
 "nbformat": 4,
 "nbformat_minor": 2
}
