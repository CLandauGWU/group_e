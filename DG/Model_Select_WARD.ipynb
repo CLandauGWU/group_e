{
 "cells": [
  {
   "cell_type": "code",
   "execution_count": 1,
   "metadata": {
    "collapsed": true
   },
   "outputs": [],
   "source": [
    "import fiona\n",
    "import pandas as pd\n",
    "import numpy as np\n",
    "import matplotlib.pyplot as plt\n",
    "import random\n",
    "\n",
    "import geopandas as gpd\n",
    "from shapely.geometry import Point, Polygon\n",
    "\n",
    "import zipfile\n",
    "import requests\n",
    "import os\n",
    "import shutil\n",
    "\n",
    "from sklearn.preprocessing import *\n",
    "\n",
    "from lnks import scl_cols\n",
    "\n",
    "#import tensorflow as tf\n",
    "\n",
    "%matplotlib inline\n",
    "\n",
    "import warnings #DANGER: I triggered a ton of warnings.\n",
    "warnings.filterwarnings('ignore')\n",
    "\n",
    "np.random.seed()\n",
    "\n",
    "from statistics import mean, median"
   ]
  },
  {
   "cell_type": "markdown",
   "metadata": {},
   "source": [
    "# To start...\n",
    "\n",
    "We import the data output of our data pipeline. We reset the index, drop index columns, and lag the data.\n",
    "\n",
    "We explicitly print shape several times, making sure that we capture the magnitude of data lost from dropping NA values."
   ]
  },
  {
   "cell_type": "code",
   "execution_count": 2,
   "metadata": {},
   "outputs": [
    {
     "data": {
      "text/plain": [
       "8"
      ]
     },
     "execution_count": 2,
     "metadata": {},
     "output_type": "execute_result"
    }
   ],
   "source": [
    "#Shift and shape vars\n",
    "shiftmonths = 6\n",
    "shapef = 'ward'\n",
    "#Assign the split for holdout data.\n",
    "holdout_date = 2015.5\n",
    "#Get data\n",
    "filestring = './data/'+shapef+'_out.csv'\n",
    "df = pd.read_csv(filestring)\n",
    "df = df.sort_values(['month', 'NAME'])# , 'ANC'])\n",
    "df = df.reset_index(drop=True)\n",
    "len(df.NAME.unique())"
   ]
  },
  {
   "cell_type": "markdown",
   "metadata": {},
   "source": [
    "Now we examine the columns and lag the data."
   ]
  },
  {
   "cell_type": "code",
   "execution_count": 3,
   "metadata": {},
   "outputs": [
    {
     "data": {
      "text/plain": [
       "Index(['Unnamed: 0', 'NAME', 'Util_Indx_BBL', 'countBBL', 'countIssued',\n",
       "       'month', 'SALEPRICE', 'Q_GDP', 'BIZ_Dist_Concentr',\n",
       "       'GS_GRANTS_Concentr', 'LIQUOR_Concentr', 'PHARM_Concentr',\n",
       "       'GROC_Concentr', 'BANKS_Concentr', 'CLUBS_Concentr', 'HOTELS_Concentr',\n",
       "       'METRO_Concentr', 'pct_metro_coverage'],\n",
       "      dtype='object')"
      ]
     },
     "execution_count": 3,
     "metadata": {},
     "output_type": "execute_result"
    }
   ],
   "source": [
    "df.columns"
   ]
  },
  {
   "cell_type": "code",
   "execution_count": 4,
   "metadata": {},
   "outputs": [
    {
     "name": "stdout",
     "output_type": "stream",
     "text": [
      "(480, 18)\n"
     ]
    },
    {
     "data": {
      "text/plain": [
       "(376, 21)"
      ]
     },
     "execution_count": 4,
     "metadata": {},
     "output_type": "execute_result"
    }
   ],
   "source": [
    "print(df.shape)\n",
    "shiftnum= (((len(df.NAME.unique()))*(shiftmonths)))\n",
    "\n",
    "#Also generate some lagged y data in the opposite direction.\n",
    "df['y']= df['countBBL'].shift(-shiftnum)\n",
    "df['countBBL_prev_month'] = df['countBBL'].shift((len(df.NAME.unique())))\n",
    "df['countBBL_prev_cycle'] = df['countBBL'].shift((shiftnum))\n",
    "df = df[shiftnum:-(shiftnum+(len(df.NAME.unique())))]\n",
    "df = df.dropna()\n",
    "df.shape"
   ]
  },
  {
   "cell_type": "markdown",
   "metadata": {},
   "source": [
    "The next cell cleans out vestigial columns and drops/fills/expands to dummies for our NA and categorical values."
   ]
  },
  {
   "cell_type": "code",
   "execution_count": 5,
   "metadata": {},
   "outputs": [
    {
     "name": "stdout",
     "output_type": "stream",
     "text": [
      "(376, 27)\n",
      "(376, 27)\n"
     ]
    }
   ],
   "source": [
    "df = pd.get_dummies(df, columns=['NAME'])\n",
    "df = df.drop(['Unnamed: 0'], axis= 1)\n",
    "print(df.shape)\n",
    "df = df.astype('float')\n",
    "\n",
    "df = df.dropna()\n",
    "print(df.shape)"
   ]
  },
  {
   "cell_type": "markdown",
   "metadata": {},
   "source": [
    "Here we start building our grid search inputs, beginning with the splits."
   ]
  },
  {
   "cell_type": "code",
   "execution_count": 6,
   "metadata": {
    "collapsed": true
   },
   "outputs": [],
   "source": [
    "#Flexible adaptation of Dr. Braman's interactive gridsearch script\n",
    "#implementation. \n",
    "#TODO Clean up and streamline\n",
    "import sklearn\n",
    "from sklearn.neural_network import *\n",
    "from sklearn.neighbors import *\n",
    "from sklearn.svm import *\n",
    "from sklearn.gaussian_process import *\n",
    "from sklearn.gaussian_process.kernels import *\n",
    "from sklearn.tree import *\n",
    "from sklearn.ensemble import *\n",
    "from sklearn.naive_bayes import *\n",
    "from sklearn.discriminant_analysis import *\n",
    "from sklearn.linear_model import *\n",
    "from sklearn.model_selection import *\n",
    "from sklearn.preprocessing import *\n",
    "import random\n",
    "\n",
    "#Frame up some separate DataFrames for scalar and stuff\n",
    "scl_data = data = df\n",
    "\n",
    "\n",
    "\n",
    "data     = data.reset_index(drop=True)\n",
    "X = data.drop(['y'], axis=1)\n",
    "y = data['y']\n",
    "\n",
    "XH_train = data[data['month'] <= holdout_date-1]\n",
    "yH_train = XH_train['y']\n",
    "XH_train = XH_train.drop(['y'], axis=1)\n",
    "\n",
    "XH_val = scl_data[scl_data['month'] >= holdout_date-1]\n",
    "XH_val = XH_val[XH_val['month'] <= holdout_date]\n",
    "\n",
    "yH_val = XH_val['y']\n",
    "XH_val = XH_val.drop(['y'], axis=1)\n",
    "\n",
    "XH_test  = data[data['month'] >= holdout_date]\n",
    "yH_test  = XH_test['y']\n",
    "XH_test  = XH_test.drop(['y'], axis=1)\n",
    "\n",
    "ytr = sklearn.preprocessing.MinMaxScaler([0, 1]\n",
    "            ).fit(y)\n",
    "y = ytr.fit_transform(y)\n",
    "y = pd.DataFrame(y, columns=['y'])\n",
    "\n",
    "scl_data = scl_data.reset_index(drop=True)"
   ]
  },
  {
   "cell_type": "code",
   "execution_count": 7,
   "metadata": {},
   "outputs": [
    {
     "data": {
      "text/plain": [
       "0      0.063657\n",
       "1      0.248852\n",
       "2      0.030844\n",
       "3      0.028481\n",
       "4      0.071400\n",
       "5      0.112744\n",
       "6      0.015225\n",
       "7      0.000919\n",
       "8      0.066675\n",
       "9      0.249245\n",
       "10     0.033863\n",
       "11     0.031631\n",
       "12     0.072713\n",
       "13     0.114713\n",
       "14     0.014569\n",
       "15     0.000000\n",
       "16     0.074944\n",
       "17     0.269589\n",
       "18     0.038456\n",
       "19     0.036225\n",
       "20     0.084001\n",
       "21     0.123507\n",
       "22     0.018113\n",
       "23     0.004988\n",
       "24     0.076519\n",
       "25     0.274970\n",
       "26     0.040557\n",
       "27     0.038588\n",
       "28     0.086888\n",
       "29     0.127445\n",
       "         ...   \n",
       "346    0.305814\n",
       "347    0.245045\n",
       "348    0.414490\n",
       "349    0.601391\n",
       "350    0.219845\n",
       "351    0.211970\n",
       "352    0.403334\n",
       "353    0.926631\n",
       "354    0.315002\n",
       "355    0.255939\n",
       "356    0.432865\n",
       "357    0.626329\n",
       "358    0.230214\n",
       "359    0.216564\n",
       "360    0.415015\n",
       "361    0.956031\n",
       "362    0.325765\n",
       "363    0.265520\n",
       "364    0.454784\n",
       "365    0.651660\n",
       "366    0.238220\n",
       "367    0.221026\n",
       "368    0.435490\n",
       "369    1.000000\n",
       "370    0.335215\n",
       "371    0.270377\n",
       "372    0.472503\n",
       "373    0.673579\n",
       "374    0.243864\n",
       "375    0.231658\n",
       "Name: y, Length: 376, dtype: float64"
      ]
     },
     "execution_count": 7,
     "metadata": {},
     "output_type": "execute_result"
    }
   ],
   "source": [
    "y.y"
   ]
  },
  {
   "cell_type": "code",
   "execution_count": 8,
   "metadata": {
    "scrolled": true
   },
   "outputs": [
    {
     "name": "stdout",
     "output_type": "stream",
     "text": [
      "2016.05\n",
      "(376, 27)\n",
      "(376, 27)\n"
     ]
    }
   ],
   "source": [
    "print(scl_data.month.max())\n",
    "print(scl_data.shape)\n",
    "scl_data = scl_data.dropna()\n",
    "print(scl_data.shape)\n",
    "sXH_train = scl_data[scl_data['month'] <= holdout_date-1]\n",
    "syH_train = sXH_train['y']\n",
    "sXH_train = sXH_train.drop(['y'], axis=1)\n",
    "\n",
    "sXH_val = scl_data[scl_data['month'] >= holdout_date-1]\n",
    "sXH_val = sXH_val[sXH_val['month'] <= holdout_date]\n",
    "\n",
    "syH_val = sXH_val['y']\n",
    "sXH_val = sXH_val.drop(['y'], axis=1)\n",
    "\n",
    "\n",
    "sXH_test  = scl_data[scl_data['month'] >= holdout_date]\n",
    "syH_test  = sXH_test['y']\n",
    "sXH_test  = sXH_test.drop(['y'], axis=1)"
   ]
  },
  {
   "cell_type": "code",
   "execution_count": 9,
   "metadata": {},
   "outputs": [
    {
     "name": "stdout",
     "output_type": "stream",
     "text": [
      "(376, 27)\n",
      "(376, 27)\n",
      "(240, 26)\n",
      "(240, 26)\n",
      "(40, 26)\n",
      "(40, 26)\n",
      "'Series' object has no attribute 'columns'\n",
      "(240, 1)\n",
      "(240, 1)\n",
      "'Series' object has no attribute 'columns'\n",
      "(40, 1)\n",
      "(40, 1)\n"
     ]
    }
   ],
   "source": [
    "#Build scalers for the scl_data, other --------------------\n",
    "scale_data_splits = [scl_data, sXH_train,sXH_test, syH_train, syH_test]\n",
    "for scl_data in scale_data_splits:\n",
    "    scaler = sklearn.preprocessing.StandardScaler(\n",
    "                ).fit(scl_data)\n",
    "    minmaxer = sklearn.preprocessing.MinMaxScaler([0, 1]\n",
    "                ).fit(scl_data)\n",
    "\n",
    "    scl = scaler.transform(scl_data)\n",
    "    scl = minmaxer.transform(scl_data)\n",
    "    try:\n",
    "        scl_data = pd.DataFrame(scl, columns=scl_data.columns)\n",
    "    except AttributeError as e:\n",
    "        print(e)\n",
    "        scl_data = pd.DataFrame(scl, columns=['y'])\n",
    "    print(scl_data.shape)\n",
    "    scl_data = scl_data.dropna()\n",
    "    print(scl_data.shape)\n",
    "    assert np.all(np.isfinite(scl_data))\n",
    "    assert not np.any(np.isnan(scl_data))\n",
    "    \n",
    "    \n",
    "#scl_data[scl_data.columns\n",
    "#   ] = scaler.fit_transform(scl_data[scl_data.columns])\n",
    "\n",
    "#----------------------------------------------------------\n"
   ]
  },
  {
   "cell_type": "markdown",
   "metadata": {
    "collapsed": true
   },
   "source": [
    "Let's make sure our data came out of the scalers intact:"
   ]
  },
  {
   "cell_type": "code",
   "execution_count": 10,
   "metadata": {
    "collapsed": true,
    "scrolled": true
   },
   "outputs": [],
   "source": [
    "y;"
   ]
  },
  {
   "cell_type": "code",
   "execution_count": 11,
   "metadata": {},
   "outputs": [
    {
     "name": "stdout",
     "output_type": "stream",
     "text": [
      "(240, 26)\n",
      "(240,)\n",
      "(40, 26)\n",
      "(40,)\n"
     ]
    }
   ],
   "source": [
    "print(sXH_train.shape)\n",
    "print(syH_train.shape)\n",
    "print(sXH_test.shape)\n",
    "print(syH_test.shape)\n"
   ]
  },
  {
   "cell_type": "code",
   "execution_count": 12,
   "metadata": {},
   "outputs": [
    {
     "data": {
      "text/plain": [
       "Index(['y'], dtype='object')"
      ]
     },
     "execution_count": 12,
     "metadata": {},
     "output_type": "execute_result"
    }
   ],
   "source": [
    "scl_data.columns"
   ]
  },
  {
   "cell_type": "code",
   "execution_count": 13,
   "metadata": {
    "collapsed": true
   },
   "outputs": [],
   "source": [
    "sX = scl_data.drop(['y'], axis=1)\n",
    "sy = scl_data['y']\n",
    "\n",
    "\n",
    "\n",
    "assert np.all(np.isfinite(X))\n",
    "assert np.all(np.isfinite(y))\n",
    "assert not np.any(np.isnan(X))\n",
    "assert not np.any(np.isnan(y))\n",
    "\n",
    "assert np.all(np.isfinite(sX))\n",
    "assert np.all(np.isfinite(sy))\n",
    "assert not np.any(np.isnan(sX))\n",
    "assert not np.any(np.isnan(sy))"
   ]
  },
  {
   "cell_type": "code",
   "execution_count": 14,
   "metadata": {},
   "outputs": [
    {
     "data": {
      "text/plain": [
       "Index(['y'], dtype='object')"
      ]
     },
     "execution_count": 14,
     "metadata": {},
     "output_type": "execute_result"
    }
   ],
   "source": [
    "scl_data.columns"
   ]
  },
  {
   "cell_type": "code",
   "execution_count": 15,
   "metadata": {},
   "outputs": [
    {
     "data": {
      "text/html": [
       "<div>\n",
       "<style>\n",
       "    .dataframe thead tr:only-child th {\n",
       "        text-align: right;\n",
       "    }\n",
       "\n",
       "    .dataframe thead th {\n",
       "        text-align: left;\n",
       "    }\n",
       "\n",
       "    .dataframe tbody tr th {\n",
       "        vertical-align: top;\n",
       "    }\n",
       "</style>\n",
       "<table border=\"1\" class=\"dataframe\">\n",
       "  <thead>\n",
       "    <tr style=\"text-align: right;\">\n",
       "      <th></th>\n",
       "      <th>y</th>\n",
       "    </tr>\n",
       "  </thead>\n",
       "  <tbody>\n",
       "    <tr>\n",
       "      <th>count</th>\n",
       "      <td>40.000000</td>\n",
       "    </tr>\n",
       "    <tr>\n",
       "      <th>mean</th>\n",
       "      <td>0.281498</td>\n",
       "    </tr>\n",
       "    <tr>\n",
       "      <th>std</th>\n",
       "      <td>0.288366</td>\n",
       "    </tr>\n",
       "    <tr>\n",
       "      <th>min</th>\n",
       "      <td>0.000000</td>\n",
       "    </tr>\n",
       "    <tr>\n",
       "      <th>25%</th>\n",
       "      <td>0.058288</td>\n",
       "    </tr>\n",
       "    <tr>\n",
       "      <th>50%</th>\n",
       "      <td>0.180698</td>\n",
       "    </tr>\n",
       "    <tr>\n",
       "      <th>75%</th>\n",
       "      <td>0.370207</td>\n",
       "    </tr>\n",
       "    <tr>\n",
       "      <th>max</th>\n",
       "      <td>1.000000</td>\n",
       "    </tr>\n",
       "  </tbody>\n",
       "</table>\n",
       "</div>"
      ],
      "text/plain": [
       "               y\n",
       "count  40.000000\n",
       "mean    0.281498\n",
       "std     0.288366\n",
       "min     0.000000\n",
       "25%     0.058288\n",
       "50%     0.180698\n",
       "75%     0.370207\n",
       "max     1.000000"
      ]
     },
     "execution_count": 15,
     "metadata": {},
     "output_type": "execute_result"
    }
   ],
   "source": [
    "scl_data.describe()"
   ]
  },
  {
   "cell_type": "markdown",
   "metadata": {},
   "source": [
    "This cell contains our a crude RNG, a list of regressors which benefit from scaled data, and hardcoded data used to generate our param_grid, et cetera."
   ]
  },
  {
   "cell_type": "code",
   "execution_count": 16,
   "metadata": {},
   "outputs": [
    {
     "name": "stdout",
     "output_type": "stream",
     "text": [
      "[2014, 8342, 4193, 8347, 7523, 3262, 7751, 1117, 1803, 1418]\n"
     ]
    }
   ],
   "source": [
    "#Make a short list of random states to insert into randomstate params.\n",
    "scrambler = []\n",
    "for scram in range(0, 10):\n",
    "    scrambler.append(random.randint(0, 10000))   \n",
    "print(scrambler)\n",
    "\n",
    "to_scale = ['SVR']\n",
    "\n",
    "names       = ['AdaBoostRegressor',\n",
    "             'RandomForestRegressor',\n",
    "             'SVR',\n",
    "             #'KNeighborsRegressor',\n",
    "             #'BaggingRegressor',\n",
    "             'GradientBoostingRegressor',\n",
    "             #'LinearRegression',\n",
    "             #'MLPRegressor',\n",
    "             #'SGDRegressor',\n",
    "             'LassoLars'         \n",
    "    \n",
    "]\n",
    "\n",
    "regressors = [AdaBoostRegressor(),\n",
    "              RandomForestRegressor(),\n",
    "              SVR(),\n",
    "              #KNeighborsRegressor(),\n",
    "              #BaggingRegressor(),\n",
    "              GradientBoostingRegressor(),\n",
    "              #LinearRegression(),\n",
    "              #MLPRegressor(),\n",
    "              #SGDRegressor(),\n",
    "              LassoLars()\n",
    "    \n",
    "]\n",
    "\n",
    "param_grids =[ \n",
    "    ['AdaBoostRegressor', dict(\n",
    "        n_estimators=[80, 60, 30],\n",
    "        learning_rate=[1, .5, .01],\n",
    "        loss=['linear', 'square', 'exponential'],\n",
    "        #random_state=scrambler[3:5]\n",
    "        \n",
    "    )],\n",
    "        \n",
    "    ['RandomForestRegressor', dict(\n",
    "        max_depth=[5, 10, 15],\n",
    "        criterion=['mse', 'mae'],\n",
    "        #random_state=scrambler[:2]\n",
    "    )],\n",
    "    ['SVR', dict( #Most params for SVR are turned off right now, too expensive\n",
    "        C=[1, .9],\n",
    "        epsilon=[.1, .05],\n",
    "        #kernel=['poly']\n",
    "    )],\n",
    "    ['GradientBoostingRegressor', dict(\n",
    "        max_depth=[3, 6, 9, 12],\n",
    "        min_samples_split=[2, 4, 8],\n",
    "        presort=[False]\n",
    "    )],\n",
    "    ['LassoLars', dict(\n",
    "        alpha=[0.1, 1, .5, .75],\n",
    "        #random_state=[random.randint(0, 10000)]\n",
    "    )],\n",
    "    ]"
   ]
  },
  {
   "cell_type": "markdown",
   "metadata": {},
   "source": [
    "## Grid Search:\n",
    "\n",
    "Here we implement an iterator that executes GridSearchCV and reports the best explained variance. The best_params attribute is then extracted, and used those on the whole training set, then predict on the holdout data.\n",
    "\n",
    "Testing indicates that for some models, the fit on our full dataset modestly outperforms the CV regularly."
   ]
  },
  {
   "cell_type": "code",
   "execution_count": 17,
   "metadata": {
    "scrolled": true
   },
   "outputs": [
    {
     "name": "stdout",
     "output_type": "stream",
     "text": [
      "AdaBoostRegressor:\n",
      "Fitting 3 folds for each of 27 candidates, totalling 81 fits\n"
     ]
    },
    {
     "name": "stderr",
     "output_type": "stream",
     "text": [
      "[Parallel(n_jobs=12)]: Done  26 tasks      | elapsed:    1.9s\n",
      "[Parallel(n_jobs=12)]: Done  81 out of  81 | elapsed:    5.3s finished\n"
     ]
    },
    {
     "name": "stdout",
     "output_type": "stream",
     "text": [
      "0.486307851489\n",
      "AdaBoostRegressor R2 with best model, score:\n",
      "-0.295456403069\n",
      "RandomForestRegressor:\n",
      "Fitting 3 folds for each of 6 candidates, totalling 18 fits\n"
     ]
    },
    {
     "name": "stderr",
     "output_type": "stream",
     "text": [
      "[Parallel(n_jobs=12)]: Done  14 out of  18 | elapsed:    0.4s remaining:    0.1s\n",
      "[Parallel(n_jobs=12)]: Done  18 out of  18 | elapsed:    0.5s finished\n"
     ]
    },
    {
     "name": "stdout",
     "output_type": "stream",
     "text": [
      "0.508325357028\n",
      "RandomForestRegressor R2 with best model, score:\n",
      "-0.215484880595\n",
      "SVR:\n",
      "Fitting 3 folds for each of 4 candidates, totalling 12 fits\n",
      "-0.72228423932\n",
      "SVR R2 with best model, score:\n",
      "-2.17424504056\n",
      "GradientBoostingRegressor:\n",
      "Fitting 3 folds for each of 12 candidates, totalling 36 fits\n"
     ]
    },
    {
     "name": "stderr",
     "output_type": "stream",
     "text": [
      "[Parallel(n_jobs=12)]: Done   2 out of  12 | elapsed:    0.0s remaining:    0.1s\n",
      "[Parallel(n_jobs=12)]: Done  12 out of  12 | elapsed:    0.0s finished\n",
      "[Parallel(n_jobs=12)]: Done  36 out of  36 | elapsed:    2.4s finished\n"
     ]
    },
    {
     "name": "stdout",
     "output_type": "stream",
     "text": [
      "0.491382920394\n",
      "GradientBoostingRegressor R2 with best model, score:\n",
      "-0.250987467867\n",
      "LassoLars:\n",
      "Fitting 3 folds for each of 4 candidates, totalling 12 fits\n",
      "0.538089107605\n",
      "LassoLars R2 with best model, score:\n",
      "0.122974310395\n",
      "\n",
      "AdaBoostRegressor\n",
      "0.486307851489\n",
      "\n",
      "Best on real:\n",
      "[336    3226.0\n",
      "337    6898.0\n",
      "338    2675.0\n",
      "339    2299.0\n",
      "340    3463.0\n",
      "341    4821.0\n",
      "342    2121.0\n",
      "343    2075.0\n",
      "344    3513.0\n",
      "345    7401.0\n",
      "346    2915.0\n",
      "347    2452.0\n",
      "348    3743.0\n",
      "349    5167.0\n",
      "350    2260.0\n",
      "351    2200.0\n",
      "352    3658.0\n",
      "353    7645.0\n",
      "354    2985.0\n",
      "355    2535.0\n",
      "356    3883.0\n",
      "357    5357.0\n",
      "358    2339.0\n",
      "359    2235.0\n",
      "360    3747.0\n",
      "361    7869.0\n",
      "362    3067.0\n",
      "363    2608.0\n",
      "364    4050.0\n",
      "365    5550.0\n",
      "366    2400.0\n",
      "367    2269.0\n",
      "368    3903.0\n",
      "369    8204.0\n",
      "370    3139.0\n",
      "371    2645.0\n",
      "372    4185.0\n",
      "373    5717.0\n",
      "374    2443.0\n",
      "375    2350.0\n",
      "Name: y, dtype: float64]\n",
      "\n",
      "RandomForestRegressor\n",
      "0.508325357028\n",
      "\n",
      "Best on real:\n",
      "[336    3226.0\n",
      "337    6898.0\n",
      "338    2675.0\n",
      "339    2299.0\n",
      "340    3463.0\n",
      "341    4821.0\n",
      "342    2121.0\n",
      "343    2075.0\n",
      "344    3513.0\n",
      "345    7401.0\n",
      "346    2915.0\n",
      "347    2452.0\n",
      "348    3743.0\n",
      "349    5167.0\n",
      "350    2260.0\n",
      "351    2200.0\n",
      "352    3658.0\n",
      "353    7645.0\n",
      "354    2985.0\n",
      "355    2535.0\n",
      "356    3883.0\n",
      "357    5357.0\n",
      "358    2339.0\n",
      "359    2235.0\n",
      "360    3747.0\n",
      "361    7869.0\n",
      "362    3067.0\n",
      "363    2608.0\n",
      "364    4050.0\n",
      "365    5550.0\n",
      "366    2400.0\n",
      "367    2269.0\n",
      "368    3903.0\n",
      "369    8204.0\n",
      "370    3139.0\n",
      "371    2645.0\n",
      "372    4185.0\n",
      "373    5717.0\n",
      "374    2443.0\n",
      "375    2350.0\n",
      "Name: y, dtype: float64]\n",
      "\n",
      "SVR\n",
      "-0.72228423932\n",
      "\n",
      "Best on real:\n",
      "[336    3226.0\n",
      "337    6898.0\n",
      "338    2675.0\n",
      "339    2299.0\n",
      "340    3463.0\n",
      "341    4821.0\n",
      "342    2121.0\n",
      "343    2075.0\n",
      "344    3513.0\n",
      "345    7401.0\n",
      "346    2915.0\n",
      "347    2452.0\n",
      "348    3743.0\n",
      "349    5167.0\n",
      "350    2260.0\n",
      "351    2200.0\n",
      "352    3658.0\n",
      "353    7645.0\n",
      "354    2985.0\n",
      "355    2535.0\n",
      "356    3883.0\n",
      "357    5357.0\n",
      "358    2339.0\n",
      "359    2235.0\n",
      "360    3747.0\n",
      "361    7869.0\n",
      "362    3067.0\n",
      "363    2608.0\n",
      "364    4050.0\n",
      "365    5550.0\n",
      "366    2400.0\n",
      "367    2269.0\n",
      "368    3903.0\n",
      "369    8204.0\n",
      "370    3139.0\n",
      "371    2645.0\n",
      "372    4185.0\n",
      "373    5717.0\n",
      "374    2443.0\n",
      "375    2350.0\n",
      "Name: y, dtype: float64]\n",
      "\n",
      "GradientBoostingRegressor\n",
      "0.491382920394\n",
      "\n",
      "Best on real:\n",
      "[336    3226.0\n",
      "337    6898.0\n",
      "338    2675.0\n",
      "339    2299.0\n",
      "340    3463.0\n",
      "341    4821.0\n",
      "342    2121.0\n",
      "343    2075.0\n",
      "344    3513.0\n",
      "345    7401.0\n",
      "346    2915.0\n",
      "347    2452.0\n",
      "348    3743.0\n",
      "349    5167.0\n",
      "350    2260.0\n",
      "351    2200.0\n",
      "352    3658.0\n",
      "353    7645.0\n",
      "354    2985.0\n",
      "355    2535.0\n",
      "356    3883.0\n",
      "357    5357.0\n",
      "358    2339.0\n",
      "359    2235.0\n",
      "360    3747.0\n",
      "361    7869.0\n",
      "362    3067.0\n",
      "363    2608.0\n",
      "364    4050.0\n",
      "365    5550.0\n",
      "366    2400.0\n",
      "367    2269.0\n",
      "368    3903.0\n",
      "369    8204.0\n",
      "370    3139.0\n",
      "371    2645.0\n",
      "372    4185.0\n",
      "373    5717.0\n",
      "374    2443.0\n",
      "375    2350.0\n",
      "Name: y, dtype: float64]\n",
      "\n",
      "LassoLars\n",
      "0.538089107605\n",
      "\n",
      "Best on real:\n",
      "[336    3226.0\n",
      "337    6898.0\n",
      "338    2675.0\n",
      "339    2299.0\n",
      "340    3463.0\n",
      "341    4821.0\n",
      "342    2121.0\n",
      "343    2075.0\n",
      "344    3513.0\n",
      "345    7401.0\n",
      "346    2915.0\n",
      "347    2452.0\n",
      "348    3743.0\n",
      "349    5167.0\n",
      "350    2260.0\n",
      "351    2200.0\n",
      "352    3658.0\n",
      "353    7645.0\n",
      "354    2985.0\n",
      "355    2535.0\n",
      "356    3883.0\n",
      "357    5357.0\n",
      "358    2339.0\n",
      "359    2235.0\n",
      "360    3747.0\n",
      "361    7869.0\n",
      "362    3067.0\n",
      "363    2608.0\n",
      "364    4050.0\n",
      "365    5550.0\n",
      "366    2400.0\n",
      "367    2269.0\n",
      "368    3903.0\n",
      "369    8204.0\n",
      "370    3139.0\n",
      "371    2645.0\n",
      "372    4185.0\n",
      "373    5717.0\n",
      "374    2443.0\n",
      "375    2350.0\n",
      "Name: y, dtype: float64]\n"
     ]
    },
    {
     "name": "stderr",
     "output_type": "stream",
     "text": [
      "[Parallel(n_jobs=12)]: Done   2 out of  12 | elapsed:    0.0s remaining:    0.1s\n",
      "[Parallel(n_jobs=12)]: Done  12 out of  12 | elapsed:    0.1s finished\n"
     ]
    }
   ],
   "source": [
    "outcomes = []\n",
    "\n",
    "for name, rgsr in zip(names, regressors):\n",
    "    \n",
    "    for item in param_grids:\n",
    "        if item[0]==name:\n",
    "            print(name + ':')\n",
    "            params= item[1]\n",
    "        \n",
    "    \n",
    "    cv = sklearn.model_selection.GridSearchCV(rgsr, param_grid=params,\n",
    "                                              verbose=True, n_jobs=12,\n",
    "                                              cv=3, pre_dispatch=\"2*n_jobs\")\n",
    "    \n",
    "    if name not in to_scale:\n",
    "        #X_train, y_train, X_test, y_test = sklearn.model_selection.train_test_split(X, y)\n",
    "        fitted = cv.fit(XH_train, yH_train)\n",
    "        score = cv.score(XH_val, yH_val)\n",
    "        print(score)\n",
    "\n",
    "        best = rgsr.set_params(**cv.best_params_)\n",
    "        bestfit= best.fit(XH_train, yH_train)\n",
    "        bestscore = best.score(XH_test, yH_test)\n",
    "    if name in to_scale:\n",
    "    #TODO: fix\n",
    "        #X_train, y_train, X_test, y_test = sklearn.model_selection.train_test_split(sX, sy)\n",
    "        fitted = cv.fit(sXH_train, syH_train)\n",
    "        score = cv.score(sXH_val, syH_val)\n",
    "        print(score)\n",
    "\n",
    "        best = rgsr.set_params(**cv.best_params_)\n",
    "        bestfit= best.fit(sXH_train, syH_train)\n",
    "        bestscore = best.score(sXH_test, syH_test)\n",
    "\n",
    "    print(name + \" R2 with best model, score:\")\n",
    "    print(bestscore)\n",
    "    \n",
    "    outcomes.append((name, score, cv.cv_results_, cv.best_estimator_, \n",
    "                     cv.best_params_, bestscore, [yH_test, ]))\n",
    "    \n",
    "for nm in range(0, len(outcomes)):\n",
    "    print()\n",
    "    print(outcomes[nm][0])\n",
    "    print(outcomes[nm][1])\n",
    "\n",
    "    print()\n",
    "    print('Best on real:')\n",
    "    print(outcomes[nm][-1])\n",
    "    \n",
    "    "
   ]
  },
  {
   "cell_type": "markdown",
   "metadata": {},
   "source": [
    "# Data Analysis"
   ]
  },
  {
   "cell_type": "code",
   "execution_count": 18,
   "metadata": {},
   "outputs": [
    {
     "data": {
      "text/plain": [
       "NAME_Ward 8           -0.258725\n",
       "NAME_Ward 7           -0.230429\n",
       "NAME_Ward 4           -0.177442\n",
       "NAME_Ward 3           -0.140420\n",
       "Q_GDP                 -0.116460\n",
       "GS_GRANTS_Concentr    -0.047515\n",
       "NAME_Ward 1           -0.018463\n",
       "NAME_Ward 5            0.019506\n",
       "SALEPRICE              0.196920\n",
       "NAME_Ward 6            0.197231\n",
       "METRO_Concentr         0.425276\n",
       "CLUBS_Concentr         0.425276\n",
       "HOTELS_Concentr        0.425276\n",
       "GROC_Concentr          0.425276\n",
       "PHARM_Concentr         0.425276\n",
       "LIQUOR_Concentr        0.425276\n",
       "BANKS_Concentr         0.425276\n",
       "month                  0.525271\n",
       "NAME_Ward 2            0.608741\n",
       "BIZ_Dist_Concentr      0.628703\n",
       "pct_metro_coverage     0.642598\n",
       "countIssued            0.796433\n",
       "countBBL_prev_cycle    0.842428\n",
       "Util_Indx_BBL          0.888756\n",
       "countBBL_prev_month    0.926182\n",
       "countBBL               0.945369\n",
       "y                      1.000000\n",
       "Name: y, dtype: float64"
      ]
     },
     "execution_count": 18,
     "metadata": {},
     "output_type": "execute_result"
    }
   ],
   "source": [
    "data.corr()['y'].sort_values()"
   ]
  },
  {
   "cell_type": "code",
   "execution_count": 19,
   "metadata": {},
   "outputs": [
    {
     "name": "stdout",
     "output_type": "stream",
     "text": [
      "LassoLars\n",
      "LassoLars(alpha=0.5, copy_X=True, eps=2.2204460492503131e-16,\n",
      "     fit_intercept=True, fit_path=True, max_iter=500, normalize=True,\n",
      "     positive=False, precompute='auto', verbose=False)\n",
      "\n",
      "Score on test data:\n",
      "0.122974310395\n",
      "\n",
      "[[  0.00000000e+00   0.00000000e+00   0.00000000e+00   0.00000000e+00\n",
      "    0.00000000e+00   0.00000000e+00   0.00000000e+00   0.00000000e+00\n",
      "    0.00000000e+00   0.00000000e+00   0.00000000e+00   0.00000000e+00\n",
      "    0.00000000e+00   0.00000000e+00   0.00000000e+00]\n",
      " [  0.00000000e+00   8.98255317e+03   9.55340064e+03   9.59248352e+03\n",
      "    9.61018678e+03   9.39332633e+03   9.38695867e+03   9.05025704e+03\n",
      "    8.68169153e+03   8.31590377e+03   8.13534781e+03   7.27032015e+03\n",
      "    7.25493774e+03   6.81377578e+03   6.76649735e+03]\n",
      " [  0.00000000e+00   0.00000000e+00   0.00000000e+00   0.00000000e+00\n",
      "    0.00000000e+00   0.00000000e+00   0.00000000e+00   0.00000000e+00\n",
      "    0.00000000e+00   0.00000000e+00   0.00000000e+00   5.58042089e+01\n",
      "    5.67225641e+01   7.78481432e+01   7.80063007e+01]\n",
      " [  0.00000000e+00   0.00000000e+00   0.00000000e+00   0.00000000e+00\n",
      "    0.00000000e+00   0.00000000e+00   0.00000000e+00   0.00000000e+00\n",
      "    0.00000000e+00   0.00000000e+00   0.00000000e+00   0.00000000e+00\n",
      "    0.00000000e+00   0.00000000e+00   0.00000000e+00]\n",
      " [  0.00000000e+00   0.00000000e+00   0.00000000e+00   0.00000000e+00\n",
      "    0.00000000e+00   0.00000000e+00   0.00000000e+00   0.00000000e+00\n",
      "    0.00000000e+00   0.00000000e+00   0.00000000e+00   0.00000000e+00\n",
      "    0.00000000e+00   0.00000000e+00   0.00000000e+00]\n",
      " [  0.00000000e+00   0.00000000e+00   0.00000000e+00   0.00000000e+00\n",
      "    0.00000000e+00   0.00000000e+00   0.00000000e+00   0.00000000e+00\n",
      "    0.00000000e+00   0.00000000e+00   0.00000000e+00   0.00000000e+00\n",
      "    0.00000000e+00   0.00000000e+00   5.57690476e+00]\n",
      " [  0.00000000e+00   0.00000000e+00   0.00000000e+00   0.00000000e+00\n",
      "    1.23498847e+02   6.08236262e+01   6.06290661e+01   5.58421701e+01\n",
      "    3.01831561e+01  -3.55271368e-15   0.00000000e+00   0.00000000e+00\n",
      "    0.00000000e+00   7.76001068e+02   8.28220138e+02]\n",
      " [  0.00000000e+00   0.00000000e+00   0.00000000e+00   0.00000000e+00\n",
      "    0.00000000e+00   0.00000000e+00   0.00000000e+00   0.00000000e+00\n",
      "    0.00000000e+00   0.00000000e+00   0.00000000e+00   0.00000000e+00\n",
      "    0.00000000e+00   0.00000000e+00   0.00000000e+00]\n",
      " [  0.00000000e+00   0.00000000e+00   0.00000000e+00   0.00000000e+00\n",
      "    0.00000000e+00   2.50186378e+02   2.50784335e+02   2.63242606e+02\n",
      "    2.84577960e+02   3.09665430e+02   3.18788927e+02   3.68700121e+02\n",
      "    3.69158578e+02   1.26910921e+02   1.11495185e+02]\n",
      " [  0.00000000e+00   0.00000000e+00   0.00000000e+00   0.00000000e+00\n",
      "    0.00000000e+00   0.00000000e+00   0.00000000e+00   0.00000000e+00\n",
      "    0.00000000e+00   0.00000000e+00   0.00000000e+00   0.00000000e+00\n",
      "    0.00000000e+00   0.00000000e+00   0.00000000e+00]\n",
      " [  0.00000000e+00   0.00000000e+00   0.00000000e+00   0.00000000e+00\n",
      "    0.00000000e+00   0.00000000e+00   0.00000000e+00   0.00000000e+00\n",
      "    0.00000000e+00   0.00000000e+00   0.00000000e+00   0.00000000e+00\n",
      "    0.00000000e+00   0.00000000e+00   0.00000000e+00]\n",
      " [  0.00000000e+00   0.00000000e+00   0.00000000e+00   0.00000000e+00\n",
      "    0.00000000e+00   0.00000000e+00   0.00000000e+00   0.00000000e+00\n",
      "    0.00000000e+00   0.00000000e+00   0.00000000e+00   0.00000000e+00\n",
      "    0.00000000e+00   0.00000000e+00   0.00000000e+00]\n",
      " [  0.00000000e+00   0.00000000e+00   0.00000000e+00   0.00000000e+00\n",
      "    0.00000000e+00   0.00000000e+00   0.00000000e+00   0.00000000e+00\n",
      "    0.00000000e+00   0.00000000e+00   0.00000000e+00   0.00000000e+00\n",
      "    0.00000000e+00   0.00000000e+00   0.00000000e+00]\n",
      " [  0.00000000e+00   0.00000000e+00   0.00000000e+00   0.00000000e+00\n",
      "    0.00000000e+00   0.00000000e+00   0.00000000e+00   0.00000000e+00\n",
      "    0.00000000e+00   0.00000000e+00   0.00000000e+00   0.00000000e+00\n",
      "    0.00000000e+00   0.00000000e+00   0.00000000e+00]\n",
      " [  0.00000000e+00   0.00000000e+00   0.00000000e+00   0.00000000e+00\n",
      "    0.00000000e+00   0.00000000e+00   0.00000000e+00   0.00000000e+00\n",
      "    0.00000000e+00   0.00000000e+00   0.00000000e+00   0.00000000e+00\n",
      "    0.00000000e+00   0.00000000e+00   0.00000000e+00]\n",
      " [  0.00000000e+00   0.00000000e+00   5.70847475e+02   6.80533875e+02\n",
      "    7.14560787e+02   9.72634349e+02   9.79327173e+02   1.11709474e+03\n",
      "    1.26345000e+03   1.43555958e+03   1.50952472e+03   1.92692535e+03\n",
      "    1.93291136e+03   1.25299548e+03   1.21090745e+03]\n",
      " [  0.00000000e+00   0.00000000e+00   0.00000000e+00   0.00000000e+00\n",
      "    0.00000000e+00   0.00000000e+00   0.00000000e+00   0.00000000e+00\n",
      "    0.00000000e+00  -8.12377824e+01  -1.20131364e+02  -4.54314109e+02\n",
      "   -4.60323643e+02  -6.09162617e+02  -6.05835398e+02]\n",
      " [  0.00000000e+00   0.00000000e+00   0.00000000e+00   0.00000000e+00\n",
      "    0.00000000e+00   0.00000000e+00   0.00000000e+00   2.07525409e+02\n",
      "    4.36524386e+02   7.19470710e+02   8.57571065e+02   1.57635051e+03\n",
      "    1.58935975e+03   1.93690849e+03   1.95825774e+03]\n",
      " [  0.00000000e+00   0.00000000e+00   0.00000000e+00   0.00000000e+00\n",
      "    0.00000000e+00   0.00000000e+00   0.00000000e+00   0.00000000e+00\n",
      "    0.00000000e+00   0.00000000e+00   0.00000000e+00   0.00000000e+00\n",
      "    0.00000000e+00   0.00000000e+00   0.00000000e+00]\n",
      " [  0.00000000e+00   0.00000000e+00   0.00000000e+00   1.12835956e+02\n",
      "    2.53675413e+02   4.68997276e+02   4.71881818e+02   5.23557489e+02\n",
      "    5.81598378e+02   6.49741418e+02   6.83392782e+02   8.71753596e+02\n",
      "    8.75673322e+02   1.10881445e+03   1.12712910e+03]\n",
      " [  0.00000000e+00   0.00000000e+00   0.00000000e+00   0.00000000e+00\n",
      "    0.00000000e+00   0.00000000e+00   0.00000000e+00   0.00000000e+00\n",
      "    0.00000000e+00   0.00000000e+00   0.00000000e+00   0.00000000e+00\n",
      "    0.00000000e+00   0.00000000e+00   0.00000000e+00]\n",
      " [  0.00000000e+00   0.00000000e+00   0.00000000e+00   0.00000000e+00\n",
      "    0.00000000e+00   0.00000000e+00   0.00000000e+00   0.00000000e+00\n",
      "    0.00000000e+00   0.00000000e+00   0.00000000e+00   0.00000000e+00\n",
      "    0.00000000e+00   0.00000000e+00   0.00000000e+00]\n",
      " [  0.00000000e+00   0.00000000e+00   0.00000000e+00   0.00000000e+00\n",
      "    0.00000000e+00   0.00000000e+00   4.44420395e+00   8.89822908e+01\n",
      "    1.64081254e+02   2.52256729e+02   2.96966662e+02   5.52106720e+02\n",
      "    5.55958994e+02   5.97005639e+02   6.00891916e+02]\n",
      " [  0.00000000e+00   0.00000000e+00   0.00000000e+00   0.00000000e+00\n",
      "    0.00000000e+00   0.00000000e+00   0.00000000e+00   0.00000000e+00\n",
      "    0.00000000e+00   0.00000000e+00   0.00000000e+00   0.00000000e+00\n",
      "    0.00000000e+00   0.00000000e+00   0.00000000e+00]\n",
      " [  0.00000000e+00   0.00000000e+00   0.00000000e+00   0.00000000e+00\n",
      "    0.00000000e+00   0.00000000e+00   0.00000000e+00   0.00000000e+00\n",
      "   -2.92067918e+01  -6.34572260e+01  -7.87644819e+01  -1.65886839e+02\n",
      "   -1.67925131e+02  -2.44295051e+02  -2.49729739e+02]\n",
      " [  0.00000000e+00   0.00000000e+00   0.00000000e+00   0.00000000e+00\n",
      "    0.00000000e+00   0.00000000e+00   0.00000000e+00   0.00000000e+00\n",
      "    0.00000000e+00   0.00000000e+00   0.00000000e+00   0.00000000e+00\n",
      "   -1.70391062e+00  -3.94795944e+02  -4.21256842e+02]]\n"
     ]
    }
   ],
   "source": [
    "#LassoLARS\n",
    "blist = outcomes[-1] #this number is how we select which regressor\n",
    "print(blist[0])\n",
    "prms = LassoLars(**blist[4])\n",
    "prms = prms.fit(sXH_train, syH_train)\n",
    "print(prms)\n",
    "print()\n",
    "print('Score on test data:')\n",
    "print(prms.score(XH_test, yH_test))\n",
    "pred  = prms.predict(XH_test)\n",
    "print()\n",
    "print(prms.coef_path_) #Or whatever other attribute you want"
   ]
  },
  {
   "cell_type": "code",
   "execution_count": 20,
   "metadata": {
    "scrolled": true
   },
   "outputs": [
    {
     "data": {
      "text/plain": [
       "[('NAME_Ward 8', -82.220916654381668),\n",
       " ('NAME_Ward 7', -48.742254145036426),\n",
       " ('countBBL_prev_month', -0.056519416802164407),\n",
       " ('Util_Indx_BBL', 0.0),\n",
       " ('month', 0.0),\n",
       " ('SALEPRICE', 0.0),\n",
       " ('GS_GRANTS_Concentr', 0.0),\n",
       " ('PHARM_Concentr', 0.0),\n",
       " ('GROC_Concentr', 0.0),\n",
       " ('BANKS_Concentr', 0.0),\n",
       " ('CLUBS_Concentr', 0.0),\n",
       " ('HOTELS_Concentr', 0.0),\n",
       " ('METRO_Concentr', 0.0),\n",
       " ('NAME_Ward 1', 0.0),\n",
       " ('NAME_Ward 3', 0.0),\n",
       " ('NAME_Ward 4', 0.0),\n",
       " ('NAME_Ward 6', 0.0),\n",
       " ('LIQUOR_Concentr', 0.0016118683441137462),\n",
       " ('countIssued', 0.095442423209929184),\n",
       " ('countBBL_prev_cycle', 0.19412765993310804),\n",
       " ('countBBL', 0.62462243476349466),\n",
       " ('Q_GDP', 0.74679070569026995),\n",
       " ('NAME_Ward 5', 117.28209292226212),\n",
       " ('BIZ_Dist_Concentr', 166.96512972178331),\n",
       " ('NAME_Ward 2', 219.99307488072657),\n",
       " ('pct_metro_coverage', 513.87031014370427)]"
      ]
     },
     "execution_count": 20,
     "metadata": {},
     "output_type": "execute_result"
    }
   ],
   "source": [
    "lars_anc_beta = [i for i in zip(XH_test.columns, prms.coef_)]\n",
    "sorted(lars_anc_beta, key=lambda x: x[1])"
   ]
  },
  {
   "cell_type": "code",
   "execution_count": 21,
   "metadata": {},
   "outputs": [
    {
     "name": "stdout",
     "output_type": "stream",
     "text": [
      "AdaBoostRegressor\n",
      "AdaBoostRegressor(base_estimator=None, learning_rate=1, loss='linear',\n",
      "         n_estimators=80, random_state=None)\n",
      "\n",
      "Score on test data:\n",
      "-0.33277575513\n",
      "\n",
      "[  1.58521534e-02   2.88537509e-01   0.00000000e+00   2.50997386e-03\n",
      "   0.00000000e+00   6.54527608e-04   1.78379663e-02   1.48029270e-02\n",
      "   1.21784507e-03   1.40171781e-03   1.25656757e-03   4.52792978e-04\n",
      "   1.15220482e-03   3.05801514e-03   6.16424452e-04   5.84291274e-02\n",
      "   2.31394171e-01   3.29957825e-01   0.00000000e+00   3.08011790e-02\n",
      "   0.00000000e+00   0.00000000e+00   0.00000000e+00   6.70734117e-05\n",
      "   0.00000000e+00   0.00000000e+00]\n"
     ]
    }
   ],
   "source": [
    "#AdaBoost\n",
    "blist = outcomes[0] #this number is how we select which regressor\n",
    "print(blist[0])\n",
    "prms = AdaBoostRegressor(**blist[4])\n",
    "prms = prms.fit(sXH_train, syH_train)\n",
    "print(prms)\n",
    "print()\n",
    "print('Score on test data:')\n",
    "print(prms.score(XH_test, yH_test))\n",
    "pred  = prms.predict(XH_test)\n",
    "print()\n",
    "print(prms.feature_importances_) #Or whatever other attribute you want"
   ]
  },
  {
   "cell_type": "code",
   "execution_count": 22,
   "metadata": {},
   "outputs": [
    {
     "data": {
      "text/plain": [
       "[('countIssued', 0.0),\n",
       " ('SALEPRICE', 0.0),\n",
       " ('NAME_Ward 1', 0.0),\n",
       " ('NAME_Ward 3', 0.0),\n",
       " ('NAME_Ward 4', 0.0),\n",
       " ('NAME_Ward 5', 0.0),\n",
       " ('NAME_Ward 7', 0.0),\n",
       " ('NAME_Ward 8', 0.0),\n",
       " ('NAME_Ward 6', 6.7073411730050037e-05),\n",
       " ('BANKS_Concentr', 0.00045279297825894584),\n",
       " ('METRO_Concentr', 0.00061642445159790162),\n",
       " ('Q_GDP', 0.00065452760806307777),\n",
       " ('CLUBS_Concentr', 0.0011522048181082328),\n",
       " ('LIQUOR_Concentr', 0.0012178450692085525),\n",
       " ('GROC_Concentr', 0.0012565675675873503),\n",
       " ('PHARM_Concentr', 0.001401717811059645),\n",
       " ('month', 0.0025099738636884805),\n",
       " ('HOTELS_Concentr', 0.0030580151357639538),\n",
       " ('GS_GRANTS_Concentr', 0.01480292704292104),\n",
       " ('Util_Indx_BBL', 0.01585215338271995),\n",
       " ('BIZ_Dist_Concentr', 0.017837966293794985),\n",
       " ('NAME_Ward 2', 0.030801178969731165),\n",
       " ('pct_metro_coverage', 0.058429127385812088),\n",
       " ('countBBL_prev_month', 0.23139417063277445),\n",
       " ('countBBL', 0.28853750893792623),\n",
       " ('countBBL_prev_cycle', 0.32995782463925405)]"
      ]
     },
     "execution_count": 22,
     "metadata": {},
     "output_type": "execute_result"
    }
   ],
   "source": [
    "ada_anc_beta = [i for i in zip(XH_test.columns, prms.feature_importances_)]\n",
    "sorted(ada_anc_beta, key=lambda x: x[1])"
   ]
  },
  {
   "cell_type": "code",
   "execution_count": 23,
   "metadata": {},
   "outputs": [
    {
     "name": "stdout",
     "output_type": "stream",
     "text": [
      "RandomForestRegressor\n",
      "RandomForestRegressor(bootstrap=True, criterion='mae', max_depth=10,\n",
      "           max_features='auto', max_leaf_nodes=None,\n",
      "           min_impurity_split=1e-07, min_samples_leaf=1,\n",
      "           min_samples_split=2, min_weight_fraction_leaf=0.0,\n",
      "           n_estimators=10, n_jobs=1, oob_score=False, random_state=None,\n",
      "           verbose=0, warm_start=False)\n",
      "\n",
      "Score on test data:\n",
      "-0.27265920692\n",
      "\n",
      "[  2.26665212e-02   4.10950210e-01   8.15831833e-03   1.90599737e-02\n",
      "   9.94544328e-03   5.63567307e-03   5.76386149e-03   2.23237638e-03\n",
      "   1.95875361e-03   1.10148075e-03   1.17643053e-03   1.58293458e-03\n",
      "   9.03760236e-04   1.90727575e-03   9.00697880e-04   5.28942180e-02\n",
      "   1.86316185e-01   2.63247383e-01   1.32098250e-04   0.00000000e+00\n",
      "   1.54889952e-03   6.66141351e-04   3.08934118e-04   5.08233505e-04\n",
      "   2.11481969e-04   2.22714155e-04]\n"
     ]
    }
   ],
   "source": [
    "#RFR \n",
    "blist = outcomes[1] #this number is how we select which regressor\n",
    "print(blist[0])\n",
    "prms = RandomForestRegressor(**blist[4])\n",
    "prms = prms.fit(sXH_train, syH_train)\n",
    "print(prms)\n",
    "print()\n",
    "print('Score on test data:')\n",
    "print(prms.score(XH_test, yH_test))\n",
    "pred  = prms.predict(XH_test)\n",
    "print()\n",
    "print(prms.feature_importances_) #Or whatever other attribute you want"
   ]
  },
  {
   "cell_type": "code",
   "execution_count": 24,
   "metadata": {},
   "outputs": [
    {
     "data": {
      "text/plain": [
       "[('NAME_Ward 2', 0.0),\n",
       " ('NAME_Ward 1', 0.00013209824971416816),\n",
       " ('NAME_Ward 7', 0.00021148196926529836),\n",
       " ('NAME_Ward 8', 0.0002227141553536217),\n",
       " ('NAME_Ward 5', 0.00030893411793786533),\n",
       " ('NAME_Ward 6', 0.00050823350540113053),\n",
       " ('NAME_Ward 4', 0.00066614135128426847),\n",
       " ('METRO_Concentr', 0.00090069788003957539),\n",
       " ('CLUBS_Concentr', 0.00090376023616838658),\n",
       " ('PHARM_Concentr', 0.0011014807473442429),\n",
       " ('GROC_Concentr', 0.0011764305304188191),\n",
       " ('NAME_Ward 3', 0.0015488995219074704),\n",
       " ('BANKS_Concentr', 0.0015829345830377383),\n",
       " ('HOTELS_Concentr', 0.0019072757509339343),\n",
       " ('LIQUOR_Concentr', 0.0019587536087629625),\n",
       " ('GS_GRANTS_Concentr', 0.002232376380754309),\n",
       " ('Q_GDP', 0.0056356730719543148),\n",
       " ('BIZ_Dist_Concentr', 0.0057638614896868027),\n",
       " ('countIssued', 0.0081583183315222119),\n",
       " ('SALEPRICE', 0.0099454432794882121),\n",
       " ('month', 0.019059973731764861),\n",
       " ('Util_Indx_BBL', 0.022666521158687968),\n",
       " ('pct_metro_coverage', 0.052894217967523235),\n",
       " ('countBBL_prev_month', 0.18631618517233756),\n",
       " ('countBBL_prev_cycle', 0.26324738307065731),\n",
       " ('countBBL', 0.41095021013805388)]"
      ]
     },
     "execution_count": 24,
     "metadata": {},
     "output_type": "execute_result"
    }
   ],
   "source": [
    "rfr_anc_beta = [i for i in zip(XH_test.columns, prms.feature_importances_)]\n",
    "sorted(rfr_anc_beta, key=lambda x: x[1])"
   ]
  },
  {
   "cell_type": "code",
   "execution_count": 25,
   "metadata": {},
   "outputs": [
    {
     "name": "stdout",
     "output_type": "stream",
     "text": [
      "GradientBoostingRegressor\n",
      "GradientBoostingRegressor(alpha=0.9, criterion='friedman_mse', init=None,\n",
      "             learning_rate=0.1, loss='ls', max_depth=3, max_features=None,\n",
      "             max_leaf_nodes=None, min_impurity_split=1e-07,\n",
      "             min_samples_leaf=1, min_samples_split=8,\n",
      "             min_weight_fraction_leaf=0.0, n_estimators=100, presort=False,\n",
      "             random_state=None, subsample=1.0, verbose=0, warm_start=False)\n",
      "\n",
      "Score on test data:\n",
      "-0.250128459647\n",
      "\n",
      "[  5.56617334e-02   1.81699227e-01   7.45677046e-02   1.83987647e-01\n",
      "   6.00724709e-02   4.84236430e-02   4.08526846e-02   2.89239906e-02\n",
      "   6.58611963e-03   8.36870917e-04   6.51367260e-03   3.14502843e-03\n",
      "   7.63963362e-03   5.48118033e-05   2.31632182e-03   5.28912226e-02\n",
      "   5.47158958e-02   1.69925258e-01   0.00000000e+00   6.70280467e-05\n",
      "   3.82052015e-04   1.47921737e-02   0.00000000e+00   3.08768523e-04\n",
      "   3.12044325e-03   2.51559838e-03]\n"
     ]
    }
   ],
   "source": [
    "#GBR  \n",
    "blist = outcomes[3] #this number is how we select which regressor\n",
    "print(blist[0])\n",
    "prms = GradientBoostingRegressor(**blist[4])\n",
    "prms = prms.fit(sXH_train, syH_train)\n",
    "print(prms)\n",
    "print()\n",
    "print('Score on test data:')\n",
    "print(prms.score(XH_test, yH_test))\n",
    "pred  = prms.predict(XH_test)\n",
    "print()\n",
    "print(prms.feature_importances_) #Or whatever other attribute you want"
   ]
  },
  {
   "cell_type": "code",
   "execution_count": 26,
   "metadata": {},
   "outputs": [
    {
     "data": {
      "text/plain": [
       "[('NAME_Ward 1', 0.0),\n",
       " ('NAME_Ward 5', 0.0),\n",
       " ('HOTELS_Concentr', 5.4811803299193319e-05),\n",
       " ('NAME_Ward 2', 6.7028046736908895e-05),\n",
       " ('NAME_Ward 6', 0.00030876852278285174),\n",
       " ('NAME_Ward 3', 0.00038205201521101574),\n",
       " ('PHARM_Concentr', 0.00083687091668497139),\n",
       " ('METRO_Concentr', 0.0023163218198976043),\n",
       " ('NAME_Ward 8', 0.0025155983793881207),\n",
       " ('NAME_Ward 7', 0.0031204432498475303),\n",
       " ('BANKS_Concentr', 0.0031450284308498343),\n",
       " ('GROC_Concentr', 0.0065136726039651434),\n",
       " ('LIQUOR_Concentr', 0.0065861196325634501),\n",
       " ('CLUBS_Concentr', 0.0076396336218830119),\n",
       " ('NAME_Ward 4', 0.014792173691443341),\n",
       " ('GS_GRANTS_Concentr', 0.028923990578859068),\n",
       " ('BIZ_Dist_Concentr', 0.040852684553990465),\n",
       " ('Q_GDP', 0.04842364300346258),\n",
       " ('pct_metro_coverage', 0.05289122255586224),\n",
       " ('countBBL_prev_month', 0.054715895752721302),\n",
       " ('Util_Indx_BBL', 0.055661733411353921),\n",
       " ('SALEPRICE', 0.060072470872531127),\n",
       " ('countIssued', 0.074567704564187445),\n",
       " ('countBBL_prev_cycle', 0.16992525798808281),\n",
       " ('countBBL', 0.18169922699056998),\n",
       " ('month', 0.18398764699382592)]"
      ]
     },
     "execution_count": 26,
     "metadata": {},
     "output_type": "execute_result"
    }
   ],
   "source": [
    "gbr_anc_beta = [i for i in zip(XH_test.columns, prms.feature_importances_)]\n",
    "sorted(gbr_anc_beta, key=lambda x: x[1])"
   ]
  },
  {
   "cell_type": "markdown",
   "metadata": {},
   "source": [
    "# Charts"
   ]
  },
  {
   "cell_type": "code",
   "execution_count": null,
   "metadata": {},
   "outputs": [],
   "source": [
    "#Adapted from https://pythonspot.com/en/matplotlib-bar-chart/\n",
    "\n",
    "objects     = [j[0] for j in outcomes]\n",
    "y_pos       = np.arange(len(objects))\n",
    "\n",
    "performance = [j[-1] for j in outcomes]\n",
    "for jm in range(len(performance)):\n",
    "    if performance[jm] < 0:\n",
    "        performance[jm] = 0\n",
    "performance"
   ]
  },
  {
   "cell_type": "code",
   "execution_count": null,
   "metadata": {
    "collapsed": true
   },
   "outputs": [],
   "source": [
    "plt.barh(y_pos, performance, align='center', alpha=0.5)\n",
    "plt.yticks(y_pos, objects)\n",
    "plt.xlabel('R2 Score')\n",
    "ti = \"Scoring across models for \"+shapef+\", lagging by \"+str(shiftmonths)+ \" months.\"\n",
    "plt.title(ti)\n",
    "fl = './plots/' + shapef + \"_shift\" + str(shiftmonths)\n",
    "plt.savefig(fl)"
   ]
  },
  {
   "cell_type": "markdown",
   "metadata": {},
   "source": [
    "# Everything below is exploratory analysis for me."
   ]
  },
  {
   "cell_type": "code",
   "execution_count": null,
   "metadata": {
    "collapsed": true
   },
   "outputs": [],
   "source": [
    "for jm in range(0, 5):\n",
    "    \n",
    "    print(outcomes[jm][0])\n",
    "    \n",
    "    print(outcomes[jm][1])\n",
    "    print(outcomes[jm][4])"
   ]
  },
  {
   "cell_type": "code",
   "execution_count": null,
   "metadata": {
    "collapsed": true
   },
   "outputs": [],
   "source": [
    "best = AdaBoostRegressor(learning_rate=1, loss='square', n_estimators=60)\n",
    "bestfit= best.fit(XH_train, yH_train)\n",
    "bestscore = best.score(XH_test, yH_test)\n",
    "print(outcomes[0][0])\n",
    "print(bestscore)\n",
    "\n",
    "best = RandomForestRegressor(max_depth=10)\n",
    "bestfit= best.fit(XH_train, yH_train)\n",
    "bestscore = best.score(XH_test, yH_test)\n",
    "print(outcomes[1][0])\n",
    "print(bestscore)\n",
    "\n",
    "best = SVR(max_depth=10)\n",
    "bestfit= best.fit(XH_train, yH_train)\n",
    "bestscore = best.score(XH_test, yH_test)\n",
    "print(outcomes[2][0])\n",
    "print(bestscore)\n",
    "\n",
    "\n",
    "best = GradientBoostingRegressor(max_depth=10)\n",
    "bestfit= best.fit(XH_train, yH_train)\n",
    "bestscore = best.score(XH_test, yH_test)\n",
    "print(outcomes[3][0])\n",
    "print(bestscore)"
   ]
  },
  {
   "cell_type": "code",
   "execution_count": null,
   "metadata": {
    "collapsed": true,
    "scrolled": true
   },
   "outputs": [],
   "source": [
    "\n",
    "\n",
    "Xtrain = dat_xtrain.drop(['y'], axis=1)\n",
    "y16 = dat_ytrain['y']\n",
    "X15 = dat15.drop(['y'], axis=1)\n",
    "y15 = dat15['y']\n",
    "\n",
    "fitted    = outcomes[-2][3].fit(X15, y15)\n",
    "predicted = fitted.predict(X16)"
   ]
  },
  {
   "cell_type": "code",
   "execution_count": null,
   "metadata": {
    "collapsed": true
   },
   "outputs": [],
   "source": [
    "pred = pd.DataFrame(predicted, columns=['predicted'])\n",
    "dat16 = dat16.reset_index()\n",
    "pred['y'] = dat16['y']"
   ]
  },
  {
   "cell_type": "code",
   "execution_count": null,
   "metadata": {
    "collapsed": true,
    "scrolled": false
   },
   "outputs": [],
   "source": [
    "def flagger_ranges(pred):\n",
    "    pred['flag15'] = 0\n",
    "    pred['flag15'][pred['predicted'].between(pred['y']*0.85, pred['y']*1.15)\n",
    "                  ] = 1\n",
    "    pred['flag05'] = 0\n",
    "    pred['flag05'][pred['predicted'].between(pred['y']*0.85, pred['y']*1.15)\n",
    "                  ] = 1\n",
    "    pred['flag10'] = 0\n",
    "    pred['flag10'][pred['predicted'].between(pred['y']*0.85, pred['y']*1.15)\n",
    "                  ] = 1\n",
    "    pred['flag_others']= 0\n",
    "    pred['flag_others'][pred['flag05'] == 0] = 1\n",
    "    return pred\n",
    "pred = flagger_ranges(pred)\n",
    "pred"
   ]
  },
  {
   "cell_type": "code",
   "execution_count": null,
   "metadata": {
    "collapsed": true
   },
   "outputs": [],
   "source": []
  },
  {
   "cell_type": "code",
   "execution_count": null,
   "metadata": {
    "collapsed": true
   },
   "outputs": [],
   "source": []
  }
 ],
 "metadata": {
  "kernelspec": {
   "display_name": "Python 3",
   "language": "python",
   "name": "python3"
  },
  "language_info": {
   "codemirror_mode": {
    "name": "ipython",
    "version": 3
   },
   "file_extension": ".py",
   "mimetype": "text/x-python",
   "name": "python",
   "nbconvert_exporter": "python",
   "pygments_lexer": "ipython3",
   "version": "3.6.2"
  }
 },
 "nbformat": 4,
 "nbformat_minor": 2
}
