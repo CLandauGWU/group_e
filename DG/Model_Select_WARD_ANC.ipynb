{
 "cells": [
  {
   "cell_type": "code",
   "execution_count": 1,
   "metadata": {
    "collapsed": true
   },
   "outputs": [],
   "source": [
    "import fiona\n",
    "import pandas as pd\n",
    "import numpy as np\n",
    "import matplotlib.pyplot as plt\n",
    "import random\n",
    "\n",
    "import geopandas as gpd\n",
    "from shapely.geometry import Point, Polygon\n",
    "\n",
    "import zipfile\n",
    "import requests\n",
    "import os\n",
    "import shutil\n",
    "\n",
    "from sklearn.preprocessing import *\n",
    "\n",
    "from lnks import scl_cols\n",
    "\n",
    "#import tensorflow as tf\n",
    "\n",
    "%matplotlib inline\n",
    "\n",
    "import warnings #DANGER: I triggered a ton of warnings.\n",
    "warnings.filterwarnings('ignore')\n",
    "\n",
    "np.random.seed()\n",
    "\n",
    "from statistics import mean, median"
   ]
  },
  {
   "cell_type": "markdown",
   "metadata": {},
   "source": [
    "# To start...\n",
    "\n",
    "We import the data output of our data pipeline. We reset the index, drop index columns, and lag the data.\n",
    "\n",
    "We explicitly print shape several times, making sure that we capture the magnitude of data lost from dropping NA values."
   ]
  },
  {
   "cell_type": "code",
   "execution_count": 4,
   "metadata": {},
   "outputs": [
    {
     "data": {
      "text/plain": [
       "48"
      ]
     },
     "execution_count": 4,
     "metadata": {},
     "output_type": "execute_result"
    }
   ],
   "source": [
    "#Shift and shape vars\n",
    "shiftmonths = 6\n",
    "shapef = 'ward_anc'\n",
    "#Assign the split for holdout data.\n",
    "holdout_date = 2015.5\n",
    "#Get data\n",
    "filestring = './data/'+shapef+'_out.csv'\n",
    "df = pd.read_csv(filestring)\n",
    "df = df.sort_values(['month', 'NAME'])# , 'ANC'])\n",
    "df = df.reset_index(drop=True)\n",
    "len(df.NAME.unique())"
   ]
  },
  {
   "cell_type": "markdown",
   "metadata": {},
   "source": [
    "Now we examine the columns and lag the data."
   ]
  },
  {
   "cell_type": "code",
   "execution_count": 5,
   "metadata": {},
   "outputs": [
    {
     "data": {
      "text/plain": [
       "Index(['Unnamed: 0', 'NAME', 'Util_Indx_BBL', 'countBBL', 'countIssued',\n",
       "       'month', 'SALEPRICE', 'Q_GDP', 'BIZ_Dist_Concentr',\n",
       "       'GS_GRANTS_Concentr', 'LIQUOR_Concentr', 'PHARM_Concentr',\n",
       "       'GROC_Concentr', 'BANKS_Concentr', 'CLUBS_Concentr', 'HOTELS_Concentr',\n",
       "       'METRO_Concentr', 'pct_metro_coverage'],\n",
       "      dtype='object')"
      ]
     },
     "execution_count": 5,
     "metadata": {},
     "output_type": "execute_result"
    }
   ],
   "source": [
    "df.columns"
   ]
  },
  {
   "cell_type": "code",
   "execution_count": 6,
   "metadata": {},
   "outputs": [
    {
     "name": "stdout",
     "output_type": "stream",
     "text": [
      "(2880, 18)\n"
     ]
    },
    {
     "data": {
      "text/plain": [
       "(2182, 21)"
      ]
     },
     "execution_count": 6,
     "metadata": {},
     "output_type": "execute_result"
    }
   ],
   "source": [
    "print(df.shape)\n",
    "shiftnum= (((len(df.NAME.unique()))*(shiftmonths)))\n",
    "\n",
    "#Also generate some lagged y data in the opposite direction.\n",
    "df['y']= df['countBBL'].shift(-shiftnum)\n",
    "df['countBBL_prev_month'] = df['countBBL'].shift((len(df.NAME.unique())))\n",
    "df['countBBL_prev_cycle'] = df['countBBL'].shift((shiftnum))\n",
    "df = df[shiftnum:-(shiftnum+(len(df.NAME.unique())))]\n",
    "df = df.dropna()\n",
    "df.shape"
   ]
  },
  {
   "cell_type": "markdown",
   "metadata": {},
   "source": [
    "The next cell cleans out vestigial columns and drops/fills/expands to dummies for our NA and categorical values."
   ]
  },
  {
   "cell_type": "code",
   "execution_count": 7,
   "metadata": {},
   "outputs": [
    {
     "name": "stdout",
     "output_type": "stream",
     "text": [
      "(2182, 67)\n",
      "(2182, 67)\n"
     ]
    }
   ],
   "source": [
    "df = pd.get_dummies(df, columns=['NAME'])\n",
    "df = df.drop(['Unnamed: 0'], axis= 1)\n",
    "print(df.shape)\n",
    "df = df.astype('float')\n",
    "\n",
    "df = df.dropna()\n",
    "print(df.shape)"
   ]
  },
  {
   "cell_type": "markdown",
   "metadata": {},
   "source": [
    "Here we start building our grid search inputs, beginning with the splits."
   ]
  },
  {
   "cell_type": "code",
   "execution_count": 8,
   "metadata": {
    "collapsed": true
   },
   "outputs": [],
   "source": [
    "#Flexible adaptation of Dr. Braman's interactive gridsearch script\n",
    "#implementation. \n",
    "#TODO Clean up and streamline\n",
    "import sklearn\n",
    "from sklearn.neural_network import *\n",
    "from sklearn.neighbors import *\n",
    "from sklearn.svm import *\n",
    "from sklearn.gaussian_process import *\n",
    "from sklearn.gaussian_process.kernels import *\n",
    "from sklearn.tree import *\n",
    "from sklearn.ensemble import *\n",
    "from sklearn.naive_bayes import *\n",
    "from sklearn.discriminant_analysis import *\n",
    "from sklearn.linear_model import *\n",
    "from sklearn.model_selection import *\n",
    "from sklearn.preprocessing import *\n",
    "import random\n",
    "\n",
    "#Frame up some separate DataFrames for scalar and stuff\n",
    "scl_data = data = df\n",
    "\n",
    "\n",
    "\n",
    "data     = data.reset_index(drop=True)\n",
    "X = data.drop(['y'], axis=1)\n",
    "y = data['y']\n",
    "\n",
    "XH_train = data[data['month'] <= holdout_date-1]\n",
    "yH_train = XH_train['y']\n",
    "XH_train = XH_train.drop(['y'], axis=1)\n",
    "\n",
    "XH_val = scl_data[scl_data['month'] >= holdout_date-1]\n",
    "XH_val = XH_val[XH_val['month'] <= holdout_date]\n",
    "\n",
    "yH_val = XH_val['y']\n",
    "XH_val = XH_val.drop(['y'], axis=1)\n",
    "\n",
    "XH_test  = data[data['month'] >= holdout_date]\n",
    "yH_test  = XH_test['y']\n",
    "XH_test  = XH_test.drop(['y'], axis=1)\n",
    "\n",
    "ytr = sklearn.preprocessing.MinMaxScaler([0, 1]\n",
    "            ).fit(y)\n",
    "y = ytr.fit_transform(y)\n",
    "y = pd.DataFrame(y, columns=['y'])\n",
    "\n",
    "scl_data = scl_data.reset_index(drop=True)"
   ]
  },
  {
   "cell_type": "code",
   "execution_count": 9,
   "metadata": {},
   "outputs": [
    {
     "data": {
      "text/plain": [
       "0       0.030214\n",
       "1       0.041713\n",
       "2       0.035841\n",
       "3       0.008930\n",
       "4       0.108869\n",
       "5       0.055046\n",
       "6       0.001346\n",
       "7       0.039021\n",
       "8       0.039388\n",
       "9       0.022141\n",
       "10      0.017615\n",
       "11      0.014190\n",
       "12      0.010275\n",
       "13      0.006606\n",
       "14      0.011743\n",
       "15      0.026667\n",
       "16      0.025688\n",
       "17      0.014679\n",
       "18      0.008073\n",
       "19      0.013700\n",
       "20      0.034251\n",
       "21      0.028991\n",
       "22      0.035352\n",
       "23      0.031927\n",
       "24      0.042202\n",
       "25      0.037309\n",
       "26      0.028379\n",
       "27      0.019205\n",
       "28      0.020795\n",
       "29      0.010398\n",
       "          ...   \n",
       "2152    0.087584\n",
       "2153    0.059205\n",
       "2154    0.050642\n",
       "2155    0.061774\n",
       "2156    0.127217\n",
       "2157    0.108746\n",
       "2158    0.145810\n",
       "2159    0.125994\n",
       "2160    0.171498\n",
       "2161    0.145443\n",
       "2162    0.125505\n",
       "2163    0.115229\n",
       "2164    0.068746\n",
       "2165    0.052477\n",
       "2166    0.059694\n",
       "2167    0.057615\n",
       "2168    0.042569\n",
       "2169    0.075963\n",
       "2170    0.034985\n",
       "2171    0.062263\n",
       "2172    0.040734\n",
       "2173    0.055780\n",
       "2174    0.473884\n",
       "2175    1.000000\n",
       "2176    0.380428\n",
       "2177    0.320000\n",
       "2178    0.508379\n",
       "2179    0.695780\n",
       "2180    0.295291\n",
       "2181    0.283914\n",
       "Name: y, Length: 2182, dtype: float64"
      ]
     },
     "execution_count": 9,
     "metadata": {},
     "output_type": "execute_result"
    }
   ],
   "source": [
    "y.y"
   ]
  },
  {
   "cell_type": "code",
   "execution_count": 10,
   "metadata": {
    "scrolled": true
   },
   "outputs": [
    {
     "name": "stdout",
     "output_type": "stream",
     "text": [
      "2016.05\n",
      "(2182, 67)\n",
      "(2182, 67)\n"
     ]
    }
   ],
   "source": [
    "print(scl_data.month.max())\n",
    "print(scl_data.shape)\n",
    "scl_data = scl_data.dropna()\n",
    "print(scl_data.shape)\n",
    "sXH_train = scl_data[scl_data['month'] <= holdout_date-1]\n",
    "syH_train = sXH_train['y']\n",
    "sXH_train = sXH_train.drop(['y'], axis=1)\n",
    "\n",
    "sXH_val = scl_data[scl_data['month'] >= holdout_date-1]\n",
    "sXH_val = sXH_val[sXH_val['month'] <= holdout_date]\n",
    "\n",
    "syH_val = sXH_val['y']\n",
    "sXH_val = sXH_val.drop(['y'], axis=1)\n",
    "\n",
    "\n",
    "sXH_test  = scl_data[scl_data['month'] >= holdout_date]\n",
    "syH_test  = sXH_test['y']\n",
    "sXH_test  = sXH_test.drop(['y'], axis=1)"
   ]
  },
  {
   "cell_type": "code",
   "execution_count": 11,
   "metadata": {},
   "outputs": [
    {
     "name": "stdout",
     "output_type": "stream",
     "text": [
      "(2182, 67)\n",
      "(2182, 67)\n",
      "(1393, 66)\n",
      "(1393, 66)\n",
      "(232, 66)\n",
      "(232, 66)\n",
      "'Series' object has no attribute 'columns'\n",
      "(1393, 1)\n",
      "(1393, 1)\n",
      "'Series' object has no attribute 'columns'\n",
      "(232, 1)\n",
      "(232, 1)\n"
     ]
    }
   ],
   "source": [
    "#Build scalers for the scl_data, other --------------------\n",
    "scale_data_splits = [scl_data, sXH_train,sXH_test, syH_train, syH_test]\n",
    "for scl_data in scale_data_splits:\n",
    "    scaler = sklearn.preprocessing.StandardScaler(\n",
    "                ).fit(scl_data)\n",
    "    minmaxer = sklearn.preprocessing.MinMaxScaler([0, 1]\n",
    "                ).fit(scl_data)\n",
    "\n",
    "    scl = scaler.transform(scl_data)\n",
    "    scl = minmaxer.transform(scl_data)\n",
    "    try:\n",
    "        scl_data = pd.DataFrame(scl, columns=scl_data.columns)\n",
    "    except AttributeError as e:\n",
    "        print(e)\n",
    "        scl_data = pd.DataFrame(scl, columns=['y'])\n",
    "    print(scl_data.shape)\n",
    "    scl_data = scl_data.dropna()\n",
    "    print(scl_data.shape)\n",
    "    assert np.all(np.isfinite(scl_data))\n",
    "    assert not np.any(np.isnan(scl_data))\n",
    "    \n",
    "    \n",
    "#scl_data[scl_data.columns\n",
    "#   ] = scaler.fit_transform(scl_data[scl_data.columns])\n",
    "\n",
    "#----------------------------------------------------------\n"
   ]
  },
  {
   "cell_type": "markdown",
   "metadata": {
    "collapsed": true
   },
   "source": [
    "Let's make sure our data came out of the scalers intact:"
   ]
  },
  {
   "cell_type": "code",
   "execution_count": 12,
   "metadata": {
    "collapsed": true,
    "scrolled": true
   },
   "outputs": [],
   "source": [
    "y;"
   ]
  },
  {
   "cell_type": "code",
   "execution_count": 13,
   "metadata": {},
   "outputs": [
    {
     "name": "stdout",
     "output_type": "stream",
     "text": [
      "(1393, 66)\n",
      "(1393,)\n",
      "(232, 66)\n",
      "(232,)\n"
     ]
    }
   ],
   "source": [
    "print(sXH_train.shape)\n",
    "print(syH_train.shape)\n",
    "print(sXH_test.shape)\n",
    "print(syH_test.shape)\n"
   ]
  },
  {
   "cell_type": "code",
   "execution_count": 14,
   "metadata": {},
   "outputs": [
    {
     "data": {
      "text/plain": [
       "Index(['y'], dtype='object')"
      ]
     },
     "execution_count": 14,
     "metadata": {},
     "output_type": "execute_result"
    }
   ],
   "source": [
    "scl_data.columns"
   ]
  },
  {
   "cell_type": "code",
   "execution_count": 15,
   "metadata": {
    "collapsed": true
   },
   "outputs": [],
   "source": [
    "sX = scl_data.drop(['y'], axis=1)\n",
    "sy = scl_data['y']\n",
    "\n",
    "\n",
    "\n",
    "assert np.all(np.isfinite(X))\n",
    "assert np.all(np.isfinite(y))\n",
    "assert not np.any(np.isnan(X))\n",
    "assert not np.any(np.isnan(y))\n",
    "\n",
    "assert np.all(np.isfinite(sX))\n",
    "assert np.all(np.isfinite(sy))\n",
    "assert not np.any(np.isnan(sX))\n",
    "assert not np.any(np.isnan(sy))"
   ]
  },
  {
   "cell_type": "code",
   "execution_count": 16,
   "metadata": {},
   "outputs": [
    {
     "data": {
      "text/plain": [
       "Index(['y'], dtype='object')"
      ]
     },
     "execution_count": 16,
     "metadata": {},
     "output_type": "execute_result"
    }
   ],
   "source": [
    "scl_data.columns"
   ]
  },
  {
   "cell_type": "code",
   "execution_count": 17,
   "metadata": {},
   "outputs": [
    {
     "data": {
      "text/html": [
       "<div>\n",
       "<style>\n",
       "    .dataframe thead tr:only-child th {\n",
       "        text-align: right;\n",
       "    }\n",
       "\n",
       "    .dataframe thead th {\n",
       "        text-align: left;\n",
       "    }\n",
       "\n",
       "    .dataframe tbody tr th {\n",
       "        vertical-align: top;\n",
       "    }\n",
       "</style>\n",
       "<table border=\"1\" class=\"dataframe\">\n",
       "  <thead>\n",
       "    <tr style=\"text-align: right;\">\n",
       "      <th></th>\n",
       "      <th>y</th>\n",
       "    </tr>\n",
       "  </thead>\n",
       "  <tbody>\n",
       "    <tr>\n",
       "      <th>count</th>\n",
       "      <td>232.000000</td>\n",
       "    </tr>\n",
       "    <tr>\n",
       "      <th>mean</th>\n",
       "      <td>0.144699</td>\n",
       "    </tr>\n",
       "    <tr>\n",
       "      <th>std</th>\n",
       "      <td>0.176489</td>\n",
       "    </tr>\n",
       "    <tr>\n",
       "      <th>min</th>\n",
       "      <td>0.000000</td>\n",
       "    </tr>\n",
       "    <tr>\n",
       "      <th>25%</th>\n",
       "      <td>0.042825</td>\n",
       "    </tr>\n",
       "    <tr>\n",
       "      <th>50%</th>\n",
       "      <td>0.080460</td>\n",
       "    </tr>\n",
       "    <tr>\n",
       "      <th>75%</th>\n",
       "      <td>0.138425</td>\n",
       "    </tr>\n",
       "    <tr>\n",
       "      <th>max</th>\n",
       "      <td>1.000000</td>\n",
       "    </tr>\n",
       "  </tbody>\n",
       "</table>\n",
       "</div>"
      ],
      "text/plain": [
       "                y\n",
       "count  232.000000\n",
       "mean     0.144699\n",
       "std      0.176489\n",
       "min      0.000000\n",
       "25%      0.042825\n",
       "50%      0.080460\n",
       "75%      0.138425\n",
       "max      1.000000"
      ]
     },
     "execution_count": 17,
     "metadata": {},
     "output_type": "execute_result"
    }
   ],
   "source": [
    "scl_data.describe()"
   ]
  },
  {
   "cell_type": "markdown",
   "metadata": {},
   "source": [
    "This cell contains our a crude RNG, a list of regressors which benefit from scaled data, and hardcoded data used to generate our param_grid, et cetera."
   ]
  },
  {
   "cell_type": "code",
   "execution_count": 18,
   "metadata": {},
   "outputs": [
    {
     "name": "stdout",
     "output_type": "stream",
     "text": [
      "[7965, 7888, 5716, 5270, 8053, 2626, 7813, 3195, 4649, 1960]\n"
     ]
    }
   ],
   "source": [
    "#Make a short list of random states to insert into randomstate params.\n",
    "scrambler = []\n",
    "for scram in range(0, 10):\n",
    "    scrambler.append(random.randint(0, 10000))   \n",
    "print(scrambler)\n",
    "\n",
    "to_scale = ['SVR']\n",
    "\n",
    "names       = ['AdaBoostRegressor',\n",
    "             'RandomForestRegressor',\n",
    "             'SVR',\n",
    "             #'KNeighborsRegressor',\n",
    "             #'BaggingRegressor',\n",
    "             'GradientBoostingRegressor',\n",
    "             #'LinearRegression',\n",
    "             #'MLPRegressor',\n",
    "             #'SGDRegressor',\n",
    "             'LassoLars'         \n",
    "    \n",
    "]\n",
    "\n",
    "regressors = [AdaBoostRegressor(),\n",
    "              RandomForestRegressor(),\n",
    "              SVR(),\n",
    "              #KNeighborsRegressor(),\n",
    "              #BaggingRegressor(),\n",
    "              GradientBoostingRegressor(),\n",
    "              #LinearRegression(),\n",
    "              #MLPRegressor(),\n",
    "              #SGDRegressor(),\n",
    "              LassoLars()\n",
    "    \n",
    "]\n",
    "\n",
    "param_grids =[ \n",
    "    ['AdaBoostRegressor', dict(\n",
    "        n_estimators=[80, 60, 30],\n",
    "        learning_rate=[1, .5, .01],\n",
    "        loss=['linear', 'square', 'exponential'],\n",
    "        #random_state=scrambler[3:5]\n",
    "        \n",
    "    )],\n",
    "        \n",
    "    ['RandomForestRegressor', dict(\n",
    "        max_depth=[5, 10, 15],\n",
    "        criterion=['mse', 'mae'],\n",
    "        #random_state=scrambler[:2]\n",
    "    )],\n",
    "    ['SVR', dict( #Most params for SVR are turned off right now, too expensive\n",
    "        C=[1, .9],\n",
    "        epsilon=[.1, .05],\n",
    "        #kernel=['poly']\n",
    "    )],\n",
    "    ['GradientBoostingRegressor', dict(\n",
    "        max_depth=[3, 6, 9, 12],\n",
    "        min_samples_split=[2, 4, 8],\n",
    "        presort=[False]\n",
    "    )],\n",
    "    ['LassoLars', dict(\n",
    "        alpha=[0.1, 1, .5, .75],\n",
    "        #random_state=[random.randint(0, 10000)]\n",
    "    )],\n",
    "    ]"
   ]
  },
  {
   "cell_type": "markdown",
   "metadata": {},
   "source": [
    "## Grid Search:\n",
    "\n",
    "Here we implement an iterator that executes GridSearchCV and reports the best explained variance. The best_params attribute is then extracted, and used those on the whole training set, then predict on the holdout data.\n",
    "\n",
    "Testing indicates that for some models, the fit on our full dataset modestly outperforms the CV regularly."
   ]
  },
  {
   "cell_type": "code",
   "execution_count": 19,
   "metadata": {
    "scrolled": true
   },
   "outputs": [
    {
     "name": "stdout",
     "output_type": "stream",
     "text": [
      "AdaBoostRegressor:\n",
      "Fitting 3 folds for each of 27 candidates, totalling 81 fits\n"
     ]
    },
    {
     "name": "stderr",
     "output_type": "stream",
     "text": [
      "[Parallel(n_jobs=12)]: Done  26 tasks      | elapsed:    4.8s\n",
      "[Parallel(n_jobs=12)]: Done  81 out of  81 | elapsed:   13.2s finished\n"
     ]
    },
    {
     "name": "stdout",
     "output_type": "stream",
     "text": [
      "0.813438294075\n",
      "AdaBoostRegressor R2 with best model, score:\n",
      "0.62916562312\n",
      "RandomForestRegressor:\n",
      "Fitting 3 folds for each of 6 candidates, totalling 18 fits\n"
     ]
    },
    {
     "name": "stderr",
     "output_type": "stream",
     "text": [
      "[Parallel(n_jobs=12)]: Done  14 out of  18 | elapsed:    4.8s remaining:    1.4s\n",
      "[Parallel(n_jobs=12)]: Done  18 out of  18 | elapsed:    5.2s finished\n"
     ]
    },
    {
     "name": "stdout",
     "output_type": "stream",
     "text": [
      "0.818558160246\n",
      "RandomForestRegressor R2 with best model, score:\n",
      "0.625537124872\n",
      "SVR:\n",
      "Fitting 3 folds for each of 4 candidates, totalling 12 fits\n"
     ]
    },
    {
     "name": "stderr",
     "output_type": "stream",
     "text": [
      "[Parallel(n_jobs=12)]: Done   2 out of  12 | elapsed:    1.3s remaining:    6.5s\n",
      "[Parallel(n_jobs=12)]: Done  12 out of  12 | elapsed:    1.9s finished\n"
     ]
    },
    {
     "name": "stdout",
     "output_type": "stream",
     "text": [
      "-0.279852405194\n",
      "SVR R2 with best model, score:\n",
      "-0.486678210057\n",
      "GradientBoostingRegressor:\n",
      "Fitting 3 folds for each of 12 candidates, totalling 36 fits\n"
     ]
    },
    {
     "name": "stderr",
     "output_type": "stream",
     "text": [
      "[Parallel(n_jobs=12)]: Done  36 out of  36 | elapsed:   16.2s finished\n"
     ]
    },
    {
     "name": "stdout",
     "output_type": "stream",
     "text": [
      "0.811212323143\n",
      "GradientBoostingRegressor R2 with best model, score:\n",
      "0.643786101765\n",
      "LassoLars:\n",
      "Fitting 3 folds for each of 4 candidates, totalling 12 fits\n"
     ]
    },
    {
     "name": "stderr",
     "output_type": "stream",
     "text": [
      "[Parallel(n_jobs=12)]: Done   2 out of  12 | elapsed:    0.1s remaining:    0.5s\n",
      "[Parallel(n_jobs=12)]: Done  12 out of  12 | elapsed:    0.7s finished\n"
     ]
    },
    {
     "name": "stdout",
     "output_type": "stream",
     "text": [
      "0.838060151948\n",
      "LassoLars R2 with best model, score:\n",
      "0.840252467946\n",
      "\n",
      "AdaBoostRegressor\n",
      "0.813438294075\n",
      "\n",
      "Best on real:\n",
      "[1950     880.0\n",
      "1951    1126.0\n",
      "1952     935.0\n",
      "1953     285.0\n",
      "1954    2597.0\n",
      "1955    1063.0\n",
      "1956    1122.0\n",
      "1957     480.0\n",
      "1958     656.0\n",
      "1959     636.0\n",
      "1960     406.0\n",
      "1961     374.0\n",
      "1962     248.0\n",
      "1963     398.0\n",
      "1964     678.0\n",
      "1965     667.0\n",
      "1966     431.0\n",
      "1967     381.0\n",
      "1968     475.0\n",
      "1969     836.0\n",
      "1970     738.0\n",
      "1971    1033.0\n",
      "1972     888.0\n",
      "1973    1197.0\n",
      "1974    1052.0\n",
      "1975     842.0\n",
      "1976     859.0\n",
      "1977     520.0\n",
      "1978     378.0\n",
      "1979     455.0\n",
      "         ...  \n",
      "2152     745.0\n",
      "2153     513.0\n",
      "2154     443.0\n",
      "2155     534.0\n",
      "2156    1069.0\n",
      "2157     918.0\n",
      "2158    1221.0\n",
      "2159    1059.0\n",
      "2160    1431.0\n",
      "2161    1218.0\n",
      "2162    1055.0\n",
      "2163     971.0\n",
      "2164     591.0\n",
      "2165     458.0\n",
      "2166     517.0\n",
      "2167     500.0\n",
      "2168     377.0\n",
      "2169     650.0\n",
      "2170     315.0\n",
      "2171     538.0\n",
      "2172     362.0\n",
      "2173     485.0\n",
      "2174    3903.0\n",
      "2175    8204.0\n",
      "2176    3139.0\n",
      "2177    2645.0\n",
      "2178    4185.0\n",
      "2179    5717.0\n",
      "2180    2443.0\n",
      "2181    2350.0\n",
      "Name: y, Length: 232, dtype: float64]\n",
      "\n",
      "RandomForestRegressor\n",
      "0.818558160246\n",
      "\n",
      "Best on real:\n",
      "[1950     880.0\n",
      "1951    1126.0\n",
      "1952     935.0\n",
      "1953     285.0\n",
      "1954    2597.0\n",
      "1955    1063.0\n",
      "1956    1122.0\n",
      "1957     480.0\n",
      "1958     656.0\n",
      "1959     636.0\n",
      "1960     406.0\n",
      "1961     374.0\n",
      "1962     248.0\n",
      "1963     398.0\n",
      "1964     678.0\n",
      "1965     667.0\n",
      "1966     431.0\n",
      "1967     381.0\n",
      "1968     475.0\n",
      "1969     836.0\n",
      "1970     738.0\n",
      "1971    1033.0\n",
      "1972     888.0\n",
      "1973    1197.0\n",
      "1974    1052.0\n",
      "1975     842.0\n",
      "1976     859.0\n",
      "1977     520.0\n",
      "1978     378.0\n",
      "1979     455.0\n",
      "         ...  \n",
      "2152     745.0\n",
      "2153     513.0\n",
      "2154     443.0\n",
      "2155     534.0\n",
      "2156    1069.0\n",
      "2157     918.0\n",
      "2158    1221.0\n",
      "2159    1059.0\n",
      "2160    1431.0\n",
      "2161    1218.0\n",
      "2162    1055.0\n",
      "2163     971.0\n",
      "2164     591.0\n",
      "2165     458.0\n",
      "2166     517.0\n",
      "2167     500.0\n",
      "2168     377.0\n",
      "2169     650.0\n",
      "2170     315.0\n",
      "2171     538.0\n",
      "2172     362.0\n",
      "2173     485.0\n",
      "2174    3903.0\n",
      "2175    8204.0\n",
      "2176    3139.0\n",
      "2177    2645.0\n",
      "2178    4185.0\n",
      "2179    5717.0\n",
      "2180    2443.0\n",
      "2181    2350.0\n",
      "Name: y, Length: 232, dtype: float64]\n",
      "\n",
      "SVR\n",
      "-0.279852405194\n",
      "\n",
      "Best on real:\n",
      "[1950     880.0\n",
      "1951    1126.0\n",
      "1952     935.0\n",
      "1953     285.0\n",
      "1954    2597.0\n",
      "1955    1063.0\n",
      "1956    1122.0\n",
      "1957     480.0\n",
      "1958     656.0\n",
      "1959     636.0\n",
      "1960     406.0\n",
      "1961     374.0\n",
      "1962     248.0\n",
      "1963     398.0\n",
      "1964     678.0\n",
      "1965     667.0\n",
      "1966     431.0\n",
      "1967     381.0\n",
      "1968     475.0\n",
      "1969     836.0\n",
      "1970     738.0\n",
      "1971    1033.0\n",
      "1972     888.0\n",
      "1973    1197.0\n",
      "1974    1052.0\n",
      "1975     842.0\n",
      "1976     859.0\n",
      "1977     520.0\n",
      "1978     378.0\n",
      "1979     455.0\n",
      "         ...  \n",
      "2152     745.0\n",
      "2153     513.0\n",
      "2154     443.0\n",
      "2155     534.0\n",
      "2156    1069.0\n",
      "2157     918.0\n",
      "2158    1221.0\n",
      "2159    1059.0\n",
      "2160    1431.0\n",
      "2161    1218.0\n",
      "2162    1055.0\n",
      "2163     971.0\n",
      "2164     591.0\n",
      "2165     458.0\n",
      "2166     517.0\n",
      "2167     500.0\n",
      "2168     377.0\n",
      "2169     650.0\n",
      "2170     315.0\n",
      "2171     538.0\n",
      "2172     362.0\n",
      "2173     485.0\n",
      "2174    3903.0\n",
      "2175    8204.0\n",
      "2176    3139.0\n",
      "2177    2645.0\n",
      "2178    4185.0\n",
      "2179    5717.0\n",
      "2180    2443.0\n",
      "2181    2350.0\n",
      "Name: y, Length: 232, dtype: float64]\n",
      "\n",
      "GradientBoostingRegressor\n",
      "0.811212323143\n",
      "\n",
      "Best on real:\n",
      "[1950     880.0\n",
      "1951    1126.0\n",
      "1952     935.0\n",
      "1953     285.0\n",
      "1954    2597.0\n",
      "1955    1063.0\n",
      "1956    1122.0\n",
      "1957     480.0\n",
      "1958     656.0\n",
      "1959     636.0\n",
      "1960     406.0\n",
      "1961     374.0\n",
      "1962     248.0\n",
      "1963     398.0\n",
      "1964     678.0\n",
      "1965     667.0\n",
      "1966     431.0\n",
      "1967     381.0\n",
      "1968     475.0\n",
      "1969     836.0\n",
      "1970     738.0\n",
      "1971    1033.0\n",
      "1972     888.0\n",
      "1973    1197.0\n",
      "1974    1052.0\n",
      "1975     842.0\n",
      "1976     859.0\n",
      "1977     520.0\n",
      "1978     378.0\n",
      "1979     455.0\n",
      "         ...  \n",
      "2152     745.0\n",
      "2153     513.0\n",
      "2154     443.0\n",
      "2155     534.0\n",
      "2156    1069.0\n",
      "2157     918.0\n",
      "2158    1221.0\n",
      "2159    1059.0\n",
      "2160    1431.0\n",
      "2161    1218.0\n",
      "2162    1055.0\n",
      "2163     971.0\n",
      "2164     591.0\n",
      "2165     458.0\n",
      "2166     517.0\n",
      "2167     500.0\n",
      "2168     377.0\n",
      "2169     650.0\n",
      "2170     315.0\n",
      "2171     538.0\n",
      "2172     362.0\n",
      "2173     485.0\n",
      "2174    3903.0\n",
      "2175    8204.0\n",
      "2176    3139.0\n",
      "2177    2645.0\n",
      "2178    4185.0\n",
      "2179    5717.0\n",
      "2180    2443.0\n",
      "2181    2350.0\n",
      "Name: y, Length: 232, dtype: float64]\n",
      "\n",
      "LassoLars\n",
      "0.838060151948\n",
      "\n",
      "Best on real:\n",
      "[1950     880.0\n",
      "1951    1126.0\n",
      "1952     935.0\n",
      "1953     285.0\n",
      "1954    2597.0\n",
      "1955    1063.0\n",
      "1956    1122.0\n",
      "1957     480.0\n",
      "1958     656.0\n",
      "1959     636.0\n",
      "1960     406.0\n",
      "1961     374.0\n",
      "1962     248.0\n",
      "1963     398.0\n",
      "1964     678.0\n",
      "1965     667.0\n",
      "1966     431.0\n",
      "1967     381.0\n",
      "1968     475.0\n",
      "1969     836.0\n",
      "1970     738.0\n",
      "1971    1033.0\n",
      "1972     888.0\n",
      "1973    1197.0\n",
      "1974    1052.0\n",
      "1975     842.0\n",
      "1976     859.0\n",
      "1977     520.0\n",
      "1978     378.0\n",
      "1979     455.0\n",
      "         ...  \n",
      "2152     745.0\n",
      "2153     513.0\n",
      "2154     443.0\n",
      "2155     534.0\n",
      "2156    1069.0\n",
      "2157     918.0\n",
      "2158    1221.0\n",
      "2159    1059.0\n",
      "2160    1431.0\n",
      "2161    1218.0\n",
      "2162    1055.0\n",
      "2163     971.0\n",
      "2164     591.0\n",
      "2165     458.0\n",
      "2166     517.0\n",
      "2167     500.0\n",
      "2168     377.0\n",
      "2169     650.0\n",
      "2170     315.0\n",
      "2171     538.0\n",
      "2172     362.0\n",
      "2173     485.0\n",
      "2174    3903.0\n",
      "2175    8204.0\n",
      "2176    3139.0\n",
      "2177    2645.0\n",
      "2178    4185.0\n",
      "2179    5717.0\n",
      "2180    2443.0\n",
      "2181    2350.0\n",
      "Name: y, Length: 232, dtype: float64]\n"
     ]
    }
   ],
   "source": [
    "outcomes = []\n",
    "\n",
    "for name, rgsr in zip(names, regressors):\n",
    "    \n",
    "    for item in param_grids:\n",
    "        if item[0]==name:\n",
    "            print(name + ':')\n",
    "            params= item[1]\n",
    "        \n",
    "    \n",
    "    cv = sklearn.model_selection.GridSearchCV(rgsr, param_grid=params,\n",
    "                                              verbose=True, n_jobs=12,\n",
    "                                              cv=3, pre_dispatch=\"2*n_jobs\")\n",
    "    \n",
    "    if name not in to_scale:\n",
    "        #X_train, y_train, X_test, y_test = sklearn.model_selection.train_test_split(X, y)\n",
    "        fitted = cv.fit(XH_train, yH_train)\n",
    "        score = cv.score(XH_val, yH_val)\n",
    "        print(score)\n",
    "\n",
    "        best = rgsr.set_params(**cv.best_params_)\n",
    "        bestfit= best.fit(XH_train, yH_train)\n",
    "        bestscore = best.score(XH_test, yH_test)\n",
    "    if name in to_scale:\n",
    "    #TODO: fix\n",
    "        #X_train, y_train, X_test, y_test = sklearn.model_selection.train_test_split(sX, sy)\n",
    "        fitted = cv.fit(sXH_train, syH_train)\n",
    "        score = cv.score(sXH_val, syH_val)\n",
    "        print(score)\n",
    "\n",
    "        best = rgsr.set_params(**cv.best_params_)\n",
    "        bestfit= best.fit(sXH_train, syH_train)\n",
    "        bestscore = best.score(sXH_test, syH_test)\n",
    "\n",
    "    print(name + \" R2 with best model, score:\")\n",
    "    print(bestscore)\n",
    "    \n",
    "    outcomes.append((name, score, cv.cv_results_, cv.best_estimator_, \n",
    "                     cv.best_params_, bestscore, [yH_test, ]))\n",
    "    \n",
    "for nm in range(0, len(outcomes)):\n",
    "    print()\n",
    "    print(outcomes[nm][0])\n",
    "    print(outcomes[nm][1])\n",
    "\n",
    "    print()\n",
    "    print('Best on real:')\n",
    "    print(outcomes[nm][-1])\n",
    "    \n",
    "    "
   ]
  },
  {
   "cell_type": "markdown",
   "metadata": {},
   "source": [
    "# Data Analysis - ANC "
   ]
  },
  {
   "cell_type": "code",
   "execution_count": 20,
   "metadata": {},
   "outputs": [
    {
     "data": {
      "text/plain": [
       "NAME_ANC 2D           -0.095615\n",
       "NAME_ANC 3G           -0.090310\n",
       "NAME_ANC 8B           -0.086048\n",
       "NAME_ANC 1D           -0.085155\n",
       "NAME_ANC 8E           -0.084710\n",
       "NAME_ANC 7F           -0.083307\n",
       "NAME_ANC 5A           -0.082504\n",
       "NAME_ANC 8D           -0.081533\n",
       "NAME_ANC 7E           -0.078977\n",
       "NAME_ANC 7C           -0.078643\n",
       "NAME_ANC 3F           -0.075906\n",
       "NAME_ANC 4A           -0.075483\n",
       "NAME_ANC 8C           -0.069964\n",
       "NAME_ANC 4D           -0.069841\n",
       "NAME_ANC 5B           -0.069615\n",
       "NAME_ANC 3E           -0.068627\n",
       "NAME_ANC 3B           -0.068553\n",
       "NAME_ANC 7D           -0.065640\n",
       "NAME_ANC 7B           -0.065575\n",
       "Q_GDP                 -0.059282\n",
       "NAME_ANC 3D           -0.059079\n",
       "NAME_ANC 8A           -0.057420\n",
       "NAME_ANC 3C           -0.054521\n",
       "NAME_ANC 4B           -0.047929\n",
       "NAME_ANC 4C           -0.045822\n",
       "NAME_ANC 6E           -0.041732\n",
       "NAME_ANC 5D           -0.035304\n",
       "NAME_ANC 6D           -0.032935\n",
       "NAME_ANC 5C           -0.027958\n",
       "NAME_ANC 6A           -0.026828\n",
       "                         ...   \n",
       "NAME_ANC 1B           -0.001526\n",
       "NAME_ANC 6B            0.001278\n",
       "NAME_ANC 2F            0.003643\n",
       "NAME_Ward 8            0.073650\n",
       "NAME_Ward 7            0.090480\n",
       "NAME_Ward 4            0.121995\n",
       "GS_GRANTS_Concentr     0.138242\n",
       "NAME_Ward 3            0.144015\n",
       "NAME_ANC 2B            0.148133\n",
       "NAME_Ward 1            0.216552\n",
       "NAME_Ward 5            0.239135\n",
       "SALEPRICE              0.244251\n",
       "month                  0.269414\n",
       "BIZ_Dist_Concentr      0.305893\n",
       "pct_metro_coverage     0.316672\n",
       "NAME_Ward 6            0.344842\n",
       "Util_Indx_BBL          0.458529\n",
       "NAME_Ward 2            0.589597\n",
       "LIQUOR_Concentr        0.766041\n",
       "PHARM_Concentr         0.766041\n",
       "GROC_Concentr          0.766041\n",
       "BANKS_Concentr         0.766041\n",
       "CLUBS_Concentr         0.766041\n",
       "HOTELS_Concentr        0.766041\n",
       "METRO_Concentr         0.766041\n",
       "countIssued            0.809520\n",
       "countBBL_prev_cycle    0.926893\n",
       "countBBL_prev_month    0.963903\n",
       "countBBL               0.972928\n",
       "y                      1.000000\n",
       "Name: y, Length: 67, dtype: float64"
      ]
     },
     "execution_count": 20,
     "metadata": {},
     "output_type": "execute_result"
    }
   ],
   "source": [
    "data.corr()['y'].sort_values()"
   ]
  },
  {
   "cell_type": "code",
   "execution_count": 21,
   "metadata": {},
   "outputs": [
    {
     "name": "stdout",
     "output_type": "stream",
     "text": [
      "LassoLars\n",
      "LassoLars(alpha=0.1, copy_X=True, eps=2.2204460492503131e-16,\n",
      "     fit_intercept=True, fit_path=True, max_iter=500, normalize=True,\n",
      "     positive=False, precompute='auto', verbose=False)\n",
      "\n",
      "Score on test data:\n",
      "0.840252467946\n",
      "\n",
      "[[  0.00000000e+00   0.00000000e+00   0.00000000e+00 ...,   0.00000000e+00\n",
      "    9.09477160e+00   4.14197866e+01]\n",
      " [  0.00000000e+00   1.90816167e+04   1.98312885e+04 ...,   1.84317769e+04\n",
      "    1.83865374e+04   1.82291905e+04]\n",
      " [  0.00000000e+00   0.00000000e+00   0.00000000e+00 ...,   1.92571155e+02\n",
      "    1.93232880e+02   1.95389590e+02]\n",
      " ..., \n",
      " [  0.00000000e+00   0.00000000e+00   0.00000000e+00 ...,   1.29262966e+02\n",
      "    1.36782553e+02   1.55537306e+02]\n",
      " [  0.00000000e+00   0.00000000e+00   0.00000000e+00 ...,  -4.01128882e+01\n",
      "   -4.22571169e+01  -5.40590021e+01]\n",
      " [  0.00000000e+00   0.00000000e+00   0.00000000e+00 ...,   0.00000000e+00\n",
      "    0.00000000e+00   0.00000000e+00]]\n"
     ]
    }
   ],
   "source": [
    "#LassoLARS\n",
    "blist = outcomes[-1] #this number is how we select which regressor\n",
    "print(blist[0])\n",
    "prms = LassoLars(**blist[4])\n",
    "prms = prms.fit(sXH_train, syH_train)\n",
    "print(prms)\n",
    "print()\n",
    "print('Score on test data:')\n",
    "print(prms.score(XH_test, yH_test))\n",
    "pred  = prms.predict(XH_test)\n",
    "print()\n",
    "print(prms.coef_path_) #Or whatever other attribute you want"
   ]
  },
  {
   "cell_type": "code",
   "execution_count": 22,
   "metadata": {
    "scrolled": true
   },
   "outputs": [
    {
     "data": {
      "text/plain": [
       "[('NAME_Ward 7', -9.9778053613997386),\n",
       " ('month', -5.4913680634256972),\n",
       " ('NAME_Ward 4', -2.3465232136179677),\n",
       " ('SALEPRICE', 0.0),\n",
       " ('Q_GDP', 0.0),\n",
       " ('PHARM_Concentr', 0.0),\n",
       " ('GROC_Concentr', 0.0),\n",
       " ('BANKS_Concentr', 0.0),\n",
       " ('CLUBS_Concentr', 0.0),\n",
       " ('HOTELS_Concentr', 0.0),\n",
       " ('METRO_Concentr', 0.0),\n",
       " ('countBBL_prev_month', 0.0),\n",
       " ('countBBL_prev_cycle', 0.0),\n",
       " ('NAME_ANC 1A', 0.0),\n",
       " ('NAME_ANC 1B', 0.0),\n",
       " ('NAME_ANC 1C', 0.0),\n",
       " ('NAME_ANC 1D', 0.0),\n",
       " ('NAME_ANC 2A', 0.0),\n",
       " ('NAME_ANC 2C', 0.0),\n",
       " ('NAME_ANC 2D', 0.0),\n",
       " ('NAME_ANC 2E', 0.0),\n",
       " ('NAME_ANC 3B', 0.0),\n",
       " ('NAME_ANC 3C', 0.0),\n",
       " ('NAME_ANC 3D', 0.0),\n",
       " ('NAME_ANC 3E', 0.0),\n",
       " ('NAME_ANC 3F', 0.0),\n",
       " ('NAME_ANC 3G', 0.0),\n",
       " ('NAME_ANC 4A', 0.0),\n",
       " ('NAME_ANC 4B', 0.0),\n",
       " ('NAME_ANC 4C', 0.0),\n",
       " ('NAME_ANC 4D', 0.0),\n",
       " ('NAME_ANC 5A', 0.0),\n",
       " ('NAME_ANC 5B', 0.0),\n",
       " ('NAME_ANC 5C', 0.0),\n",
       " ('NAME_ANC 5D', 0.0),\n",
       " ('NAME_ANC 5E', 0.0),\n",
       " ('NAME_ANC 6A', 0.0),\n",
       " ('NAME_ANC 6B', 0.0),\n",
       " ('NAME_ANC 6C', 0.0),\n",
       " ('NAME_ANC 6D', 0.0),\n",
       " ('NAME_ANC 6E', 0.0),\n",
       " ('NAME_ANC 7B', 0.0),\n",
       " ('NAME_ANC 7C', 0.0),\n",
       " ('NAME_ANC 7D', 0.0),\n",
       " ('NAME_ANC 7E', 0.0),\n",
       " ('NAME_ANC 7F', 0.0),\n",
       " ('NAME_ANC 8A', 0.0),\n",
       " ('NAME_ANC 8B', 0.0),\n",
       " ('NAME_ANC 8C', 0.0),\n",
       " ('NAME_ANC 8D', 0.0),\n",
       " ('NAME_ANC 8E', 0.0),\n",
       " ('NAME_Ward 3', 0.0),\n",
       " ('NAME_Ward 8', 0.0),\n",
       " ('LIQUOR_Concentr', 0.0066102835711556859),\n",
       " ('countIssued', 0.18514826684487248),\n",
       " ('countBBL', 0.92638654619801764),\n",
       " ('GS_GRANTS_Concentr', 2.6689270331974657),\n",
       " ('NAME_ANC 2F', 4.7590864116004701),\n",
       " ('NAME_Ward 5', 6.9288991426785955),\n",
       " ('BIZ_Dist_Concentr', 15.21811818230718),\n",
       " ('pct_metro_coverage', 20.278698405350593),\n",
       " ('NAME_Ward 6', 28.707909918449648),\n",
       " ('NAME_ANC 2B', 34.415421577535973),\n",
       " ('Util_Indx_BBL', 41.842297864536739),\n",
       " ('NAME_Ward 1', 65.238806791364965),\n",
       " ('NAME_Ward 2', 164.35331484471195)]"
      ]
     },
     "execution_count": 22,
     "metadata": {},
     "output_type": "execute_result"
    }
   ],
   "source": [
    "lars_anc_beta = [i for i in zip(XH_test.columns, prms.coef_)]\n",
    "sorted(lars_anc_beta, key=lambda x: x[1])"
   ]
  },
  {
   "cell_type": "code",
   "execution_count": 23,
   "metadata": {},
   "outputs": [
    {
     "name": "stdout",
     "output_type": "stream",
     "text": [
      "AdaBoostRegressor\n",
      "AdaBoostRegressor(base_estimator=None, learning_rate=1, loss='square',\n",
      "         n_estimators=80, random_state=None)\n",
      "\n",
      "Score on test data:\n",
      "0.62916359784\n",
      "\n",
      "[  4.02455389e-03   4.70016522e-01   0.00000000e+00   2.76160250e-03\n",
      "   0.00000000e+00   4.36805176e-04   1.10266869e-02   1.30266264e-02\n",
      "   2.61454822e-04   3.24354229e-03   3.13951946e-04   1.93840371e-03\n",
      "   7.66771743e-04   1.42854206e-03   1.74735557e-03   2.22312382e-03\n",
      "   1.64317021e-01   3.15894613e-01   0.00000000e+00   0.00000000e+00\n",
      "   0.00000000e+00   0.00000000e+00   0.00000000e+00   0.00000000e+00\n",
      "   0.00000000e+00   0.00000000e+00   0.00000000e+00   0.00000000e+00\n",
      "   0.00000000e+00   0.00000000e+00   0.00000000e+00   0.00000000e+00\n",
      "   0.00000000e+00   0.00000000e+00   0.00000000e+00   0.00000000e+00\n",
      "   0.00000000e+00   0.00000000e+00   0.00000000e+00   0.00000000e+00\n",
      "   0.00000000e+00   0.00000000e+00   0.00000000e+00   0.00000000e+00\n",
      "   0.00000000e+00   0.00000000e+00   0.00000000e+00   0.00000000e+00\n",
      "   0.00000000e+00   0.00000000e+00   0.00000000e+00   0.00000000e+00\n",
      "   0.00000000e+00   0.00000000e+00   0.00000000e+00   0.00000000e+00\n",
      "   0.00000000e+00   0.00000000e+00   0.00000000e+00   6.32323894e-03\n",
      "   0.00000000e+00   0.00000000e+00   0.00000000e+00   2.49184814e-04\n",
      "   0.00000000e+00   0.00000000e+00]\n"
     ]
    }
   ],
   "source": [
    "#AdaBoost\n",
    "blist = outcomes[0] #this number is how we select which regressor\n",
    "print(blist[0])\n",
    "prms = AdaBoostRegressor(**blist[4])\n",
    "prms = prms.fit(sXH_train, syH_train)\n",
    "print(prms)\n",
    "print()\n",
    "print('Score on test data:')\n",
    "print(prms.score(XH_test, yH_test))\n",
    "pred  = prms.predict(XH_test)\n",
    "print()\n",
    "print(prms.feature_importances_) #Or whatever other attribute you want"
   ]
  },
  {
   "cell_type": "code",
   "execution_count": 24,
   "metadata": {},
   "outputs": [
    {
     "data": {
      "text/plain": [
       "[('countIssued', 0.0),\n",
       " ('SALEPRICE', 0.0),\n",
       " ('NAME_ANC 1A', 0.0),\n",
       " ('NAME_ANC 1B', 0.0),\n",
       " ('NAME_ANC 1C', 0.0),\n",
       " ('NAME_ANC 1D', 0.0),\n",
       " ('NAME_ANC 2A', 0.0),\n",
       " ('NAME_ANC 2B', 0.0),\n",
       " ('NAME_ANC 2C', 0.0),\n",
       " ('NAME_ANC 2D', 0.0),\n",
       " ('NAME_ANC 2E', 0.0),\n",
       " ('NAME_ANC 2F', 0.0),\n",
       " ('NAME_ANC 3B', 0.0),\n",
       " ('NAME_ANC 3C', 0.0),\n",
       " ('NAME_ANC 3D', 0.0),\n",
       " ('NAME_ANC 3E', 0.0),\n",
       " ('NAME_ANC 3F', 0.0),\n",
       " ('NAME_ANC 3G', 0.0),\n",
       " ('NAME_ANC 4A', 0.0),\n",
       " ('NAME_ANC 4B', 0.0),\n",
       " ('NAME_ANC 4C', 0.0),\n",
       " ('NAME_ANC 4D', 0.0),\n",
       " ('NAME_ANC 5A', 0.0),\n",
       " ('NAME_ANC 5B', 0.0),\n",
       " ('NAME_ANC 5C', 0.0),\n",
       " ('NAME_ANC 5D', 0.0),\n",
       " ('NAME_ANC 5E', 0.0),\n",
       " ('NAME_ANC 6A', 0.0),\n",
       " ('NAME_ANC 6B', 0.0),\n",
       " ('NAME_ANC 6C', 0.0),\n",
       " ('NAME_ANC 6D', 0.0),\n",
       " ('NAME_ANC 6E', 0.0),\n",
       " ('NAME_ANC 7B', 0.0),\n",
       " ('NAME_ANC 7C', 0.0),\n",
       " ('NAME_ANC 7D', 0.0),\n",
       " ('NAME_ANC 7E', 0.0),\n",
       " ('NAME_ANC 7F', 0.0),\n",
       " ('NAME_ANC 8A', 0.0),\n",
       " ('NAME_ANC 8B', 0.0),\n",
       " ('NAME_ANC 8C', 0.0),\n",
       " ('NAME_ANC 8D', 0.0),\n",
       " ('NAME_ANC 8E', 0.0),\n",
       " ('NAME_Ward 1', 0.0),\n",
       " ('NAME_Ward 3', 0.0),\n",
       " ('NAME_Ward 4', 0.0),\n",
       " ('NAME_Ward 5', 0.0),\n",
       " ('NAME_Ward 7', 0.0),\n",
       " ('NAME_Ward 8', 0.0),\n",
       " ('NAME_Ward 6', 0.00024918481430696995),\n",
       " ('LIQUOR_Concentr', 0.00026145482173928718),\n",
       " ('GROC_Concentr', 0.00031395194568291265),\n",
       " ('Q_GDP', 0.0004368051758088651),\n",
       " ('CLUBS_Concentr', 0.00076677174296116933),\n",
       " ('HOTELS_Concentr', 0.001428542056621857),\n",
       " ('METRO_Concentr', 0.0017473555721052652),\n",
       " ('BANKS_Concentr', 0.0019384037058296391),\n",
       " ('pct_metro_coverage', 0.0022231238155503235),\n",
       " ('month', 0.0027616025049290106),\n",
       " ('PHARM_Concentr', 0.0032435422901153288),\n",
       " ('Util_Indx_BBL', 0.0040245538905933154),\n",
       " ('NAME_Ward 2', 0.0063232389442862951),\n",
       " ('BIZ_Dist_Concentr', 0.011026686854059024),\n",
       " ('GS_GRANTS_Concentr', 0.013026626440253961),\n",
       " ('countBBL_prev_month', 0.16431702055711181),\n",
       " ('countBBL_prev_cycle', 0.31589461252473516),\n",
       " ('countBBL', 0.47001652234330982)]"
      ]
     },
     "execution_count": 24,
     "metadata": {},
     "output_type": "execute_result"
    }
   ],
   "source": [
    "ada_anc_beta = [i for i in zip(XH_test.columns, prms.feature_importances_)]\n",
    "sorted(ada_anc_beta, key=lambda x: x[1])"
   ]
  },
  {
   "cell_type": "code",
   "execution_count": 25,
   "metadata": {},
   "outputs": [
    {
     "name": "stdout",
     "output_type": "stream",
     "text": [
      "RandomForestRegressor\n",
      "RandomForestRegressor(bootstrap=True, criterion='mae', max_depth=10,\n",
      "           max_features='auto', max_leaf_nodes=None,\n",
      "           min_impurity_split=1e-07, min_samples_leaf=1,\n",
      "           min_samples_split=2, min_weight_fraction_leaf=0.0,\n",
      "           n_estimators=10, n_jobs=1, oob_score=False, random_state=None,\n",
      "           verbose=0, warm_start=False)\n",
      "\n",
      "Score on test data:\n",
      "0.652522770273\n",
      "\n",
      "[  3.01361205e-02   5.97960388e-01   3.37107834e-03   1.13620832e-02\n",
      "   3.88125885e-03   2.54736835e-03   4.59641016e-03   2.88645736e-03\n",
      "   2.04787575e-03   1.77534402e-03   1.22303326e-03   9.68791443e-04\n",
      "   6.43739234e-04   2.01442529e-03   3.40219819e-03   1.99849678e-03\n",
      "   2.04424365e-01   1.19556205e-01   2.24332587e-05   7.59619148e-05\n",
      "   4.00051334e-04   5.02046737e-06   0.00000000e+00   6.51576634e-06\n",
      "   0.00000000e+00   2.49230344e-04   4.56585108e-05   6.88045993e-04\n",
      "   9.94429608e-06   2.51735282e-05   0.00000000e+00   6.83127215e-05\n",
      "   1.88661782e-05   3.19351063e-05   3.25203024e-05   4.35392126e-05\n",
      "   2.46534506e-04   7.07670268e-05   1.32899042e-05   1.98258972e-05\n",
      "   6.85026817e-05   7.29433777e-05   9.34880329e-05   6.15026950e-05\n",
      "   4.12314888e-06   5.71814745e-05   3.17389740e-04   4.19084977e-05\n",
      "   3.31835217e-04   4.76906869e-05   2.00888398e-05   3.47693058e-05\n",
      "   6.22173179e-05   5.68616503e-05   3.25625654e-06   2.33839915e-04\n",
      "   9.60099430e-05   4.37905849e-05   4.55277919e-04   1.37486387e-04\n",
      "   6.72668954e-05   1.89783908e-04   2.18404239e-05   2.59765099e-04\n",
      "   2.49338303e-04   1.02577116e-04]\n"
     ]
    }
   ],
   "source": [
    "#RFR \n",
    "blist = outcomes[1] #this number is how we select which regressor\n",
    "print(blist[0])\n",
    "prms = RandomForestRegressor(**blist[4])\n",
    "prms = prms.fit(sXH_train, syH_train)\n",
    "print(prms)\n",
    "print()\n",
    "print('Score on test data:')\n",
    "print(prms.score(XH_test, yH_test))\n",
    "pred  = prms.predict(XH_test)\n",
    "print()\n",
    "print(prms.feature_importances_) #Or whatever other attribute you want"
   ]
  },
  {
   "cell_type": "code",
   "execution_count": 26,
   "metadata": {},
   "outputs": [
    {
     "data": {
      "text/plain": [
       "[('NAME_ANC 2A', 0.0),\n",
       " ('NAME_ANC 2C', 0.0),\n",
       " ('NAME_ANC 3D', 0.0),\n",
       " ('NAME_ANC 8B', 3.2562565351259585e-06),\n",
       " ('NAME_ANC 6B', 4.1231488784393137e-06),\n",
       " ('NAME_ANC 1D', 5.0204673696516328e-06),\n",
       " ('NAME_ANC 2B', 6.5157663446188815e-06),\n",
       " ('NAME_ANC 3B', 9.944296077858284e-06),\n",
       " ('NAME_ANC 5A', 1.3289904221051161e-05),\n",
       " ('NAME_ANC 3F', 1.8866178242103493e-05),\n",
       " ('NAME_ANC 5B', 1.9825897238674587e-05),\n",
       " ('NAME_ANC 7D', 2.0088839774876836e-05),\n",
       " ('NAME_Ward 5', 2.1840423910864691e-05),\n",
       " ('NAME_ANC 1A', 2.2433258749762986e-05),\n",
       " ('NAME_ANC 3C', 2.5173528223375042e-05),\n",
       " ('NAME_ANC 3G', 3.1935106274377426e-05),\n",
       " ('NAME_ANC 4A', 3.252030242421655e-05),\n",
       " ('NAME_ANC 7E', 3.4769305842010211e-05),\n",
       " ('NAME_ANC 6E', 4.1908497652242317e-05),\n",
       " ('NAME_ANC 4B', 4.353921255449712e-05),\n",
       " ('NAME_ANC 8E', 4.3790584941875907e-05),\n",
       " ('NAME_ANC 2E', 4.5658510774055832e-05),\n",
       " ('NAME_ANC 7C', 4.7690686860568231e-05),\n",
       " ('NAME_ANC 8A', 5.6861650323590474e-05),\n",
       " ('NAME_ANC 6C', 5.718147451615851e-05),\n",
       " ('NAME_ANC 6A', 6.1502695035682391e-05),\n",
       " ('NAME_ANC 7F', 6.2217317872924194e-05),\n",
       " ('NAME_Ward 3', 6.7266895355327575e-05),\n",
       " ('NAME_ANC 3E', 6.8312721515796036e-05),\n",
       " ('NAME_ANC 5C', 6.8502681722312691e-05),\n",
       " ('NAME_ANC 4D', 7.0767026792335855e-05),\n",
       " ('NAME_ANC 5D', 7.2943377703180306e-05),\n",
       " ('NAME_ANC 1B', 7.5961914842087258e-05),\n",
       " ('NAME_ANC 5E', 9.3488032856734786e-05),\n",
       " ('NAME_ANC 8D', 9.6009943005200763e-05),\n",
       " ('NAME_Ward 8', 0.00010257711601042928),\n",
       " ('NAME_Ward 2', 0.00013748638703865178),\n",
       " ('NAME_Ward 4', 0.00018978390773237371),\n",
       " ('NAME_ANC 8C', 0.00023383991547669142),\n",
       " ('NAME_ANC 4C', 0.0002465345064927706),\n",
       " ('NAME_ANC 2D', 0.00024923034442199177),\n",
       " ('NAME_Ward 7', 0.00024933830343185586),\n",
       " ('NAME_Ward 6', 0.00025976509862901751),\n",
       " ('NAME_ANC 6D', 0.00031738973954833295),\n",
       " ('NAME_ANC 7B', 0.00033183521688852043),\n",
       " ('NAME_ANC 1C', 0.00040005133435006029),\n",
       " ('NAME_Ward 1', 0.00045527791888950661),\n",
       " ('CLUBS_Concentr', 0.00064373923354732986),\n",
       " ('NAME_ANC 2F', 0.0006880459927139581),\n",
       " ('BANKS_Concentr', 0.0009687914429186926),\n",
       " ('GROC_Concentr', 0.0012230332556223476),\n",
       " ('PHARM_Concentr', 0.0017753440196853275),\n",
       " ('pct_metro_coverage', 0.0019984967823825713),\n",
       " ('HOTELS_Concentr', 0.0020144252927437535),\n",
       " ('LIQUOR_Concentr', 0.0020478757452906159),\n",
       " ('Q_GDP', 0.0025473683504336148),\n",
       " ('GS_GRANTS_Concentr', 0.0028864573580476833),\n",
       " ('countIssued', 0.0033710783407391019),\n",
       " ('METRO_Concentr', 0.0034021981877064436),\n",
       " ('SALEPRICE', 0.0038812588456741842),\n",
       " ('BIZ_Dist_Concentr', 0.0045964101644657166),\n",
       " ('month', 0.011362083221438345),\n",
       " ('Util_Indx_BBL', 0.030136120516895726),\n",
       " ('countBBL_prev_cycle', 0.11955620517614249),\n",
       " ('countBBL_prev_month', 0.20442436464112984),\n",
       " ('countBBL', 0.59796038773908056)]"
      ]
     },
     "execution_count": 26,
     "metadata": {},
     "output_type": "execute_result"
    }
   ],
   "source": [
    "rfr_anc_beta = [i for i in zip(XH_test.columns, prms.feature_importances_)]\n",
    "sorted(rfr_anc_beta, key=lambda x: x[1])"
   ]
  },
  {
   "cell_type": "code",
   "execution_count": 27,
   "metadata": {},
   "outputs": [
    {
     "name": "stdout",
     "output_type": "stream",
     "text": [
      "GradientBoostingRegressor\n",
      "GradientBoostingRegressor(alpha=0.9, criterion='friedman_mse', init=None,\n",
      "             learning_rate=0.1, loss='ls', max_depth=3, max_features=None,\n",
      "             max_leaf_nodes=None, min_impurity_split=1e-07,\n",
      "             min_samples_leaf=1, min_samples_split=4,\n",
      "             min_weight_fraction_leaf=0.0, n_estimators=100, presort=False,\n",
      "             random_state=None, subsample=1.0, verbose=0, warm_start=False)\n",
      "\n",
      "Score on test data:\n",
      "0.622907828703\n",
      "\n",
      "[ 0.04267466  0.25549895  0.04992259  0.15322609  0.01460395  0.04650302\n",
      "  0.02187223  0.01729032  0.00762472  0.00180342  0.00275576  0.00548236\n",
      "  0.00815226  0.00840821  0.00248668  0.02472876  0.12715914  0.12798261\n",
      "  0.          0.00259045  0.          0.          0.          0.          0.\n",
      "  0.00190082  0.00355976  0.01266555  0.          0.          0.00225569\n",
      "  0.          0.          0.          0.          0.00150033  0.00438434\n",
      "  0.          0.          0.          0.          0.          0.0127854   0.\n",
      "  0.          0.          0.00149895  0.0060884   0.00093782  0.          0.\n",
      "  0.          0.          0.          0.          0.0054723   0.          0.\n",
      "  0.00530691  0.0056548   0.01008837  0.          0.          0.00513439\n",
      "  0.          0.        ]\n"
     ]
    }
   ],
   "source": [
    "#GBR  \n",
    "blist = outcomes[3] #this number is how we select which regressor\n",
    "print(blist[0])\n",
    "prms = GradientBoostingRegressor(**blist[4])\n",
    "prms = prms.fit(sXH_train, syH_train)\n",
    "print(prms)\n",
    "print()\n",
    "print('Score on test data:')\n",
    "print(prms.score(XH_test, yH_test))\n",
    "pred  = prms.predict(XH_test)\n",
    "print()\n",
    "print(prms.feature_importances_) #Or whatever other attribute you want"
   ]
  },
  {
   "cell_type": "code",
   "execution_count": 28,
   "metadata": {},
   "outputs": [
    {
     "data": {
      "text/plain": [
       "[('NAME_ANC 1A', 0.0),\n",
       " ('NAME_ANC 1C', 0.0),\n",
       " ('NAME_ANC 1D', 0.0),\n",
       " ('NAME_ANC 2A', 0.0),\n",
       " ('NAME_ANC 2B', 0.0),\n",
       " ('NAME_ANC 2C', 0.0),\n",
       " ('NAME_ANC 3B', 0.0),\n",
       " ('NAME_ANC 3C', 0.0),\n",
       " ('NAME_ANC 3E', 0.0),\n",
       " ('NAME_ANC 3F', 0.0),\n",
       " ('NAME_ANC 3G', 0.0),\n",
       " ('NAME_ANC 4A', 0.0),\n",
       " ('NAME_ANC 4D', 0.0),\n",
       " ('NAME_ANC 5A', 0.0),\n",
       " ('NAME_ANC 5B', 0.0),\n",
       " ('NAME_ANC 5C', 0.0),\n",
       " ('NAME_ANC 5D', 0.0),\n",
       " ('NAME_ANC 6A', 0.0),\n",
       " ('NAME_ANC 6B', 0.0),\n",
       " ('NAME_ANC 6C', 0.0),\n",
       " ('NAME_ANC 7C', 0.0),\n",
       " ('NAME_ANC 7D', 0.0),\n",
       " ('NAME_ANC 7E', 0.0),\n",
       " ('NAME_ANC 7F', 0.0),\n",
       " ('NAME_ANC 8A', 0.0),\n",
       " ('NAME_ANC 8B', 0.0),\n",
       " ('NAME_ANC 8D', 0.0),\n",
       " ('NAME_ANC 8E', 0.0),\n",
       " ('NAME_Ward 4', 0.0),\n",
       " ('NAME_Ward 5', 0.0),\n",
       " ('NAME_Ward 7', 0.0),\n",
       " ('NAME_Ward 8', 0.0),\n",
       " ('NAME_ANC 7B', 0.00093781561136438581),\n",
       " ('NAME_ANC 6D', 0.0014989498543691651),\n",
       " ('NAME_ANC 4B', 0.0015003332776836837),\n",
       " ('PHARM_Concentr', 0.0018034182658250297),\n",
       " ('NAME_ANC 2D', 0.0019008154389531856),\n",
       " ('NAME_ANC 3D', 0.0022556881410009193),\n",
       " ('METRO_Concentr', 0.0024866827073843482),\n",
       " ('NAME_ANC 1B', 0.0025904513362464332),\n",
       " ('GROC_Concentr', 0.0027557578181855082),\n",
       " ('NAME_ANC 2E', 0.0035597552971527481),\n",
       " ('NAME_ANC 4C', 0.0043843404142242456),\n",
       " ('NAME_Ward 6', 0.0051343883891885097),\n",
       " ('NAME_Ward 1', 0.0053069065521618199),\n",
       " ('NAME_ANC 8C', 0.0054723043418457842),\n",
       " ('BANKS_Concentr', 0.0054823615145548239),\n",
       " ('NAME_Ward 2', 0.0056548015784852988),\n",
       " ('NAME_ANC 6E', 0.0060883962346777931),\n",
       " ('LIQUOR_Concentr', 0.007624721490688431),\n",
       " ('CLUBS_Concentr', 0.0081522648266131176),\n",
       " ('HOTELS_Concentr', 0.0084082064825399712),\n",
       " ('NAME_Ward 3', 0.010088367715893816),\n",
       " ('NAME_ANC 2F', 0.012665553236659575),\n",
       " ('NAME_ANC 5E', 0.012785397530617065),\n",
       " ('SALEPRICE', 0.01460394769572671),\n",
       " ('GS_GRANTS_Concentr', 0.017290320256711636),\n",
       " ('BIZ_Dist_Concentr', 0.021872227876863812),\n",
       " ('pct_metro_coverage', 0.02472875851605081),\n",
       " ('Util_Indx_BBL', 0.042674664695451774),\n",
       " ('Q_GDP', 0.046503023727468562),\n",
       " ('countIssued', 0.049922588402029955),\n",
       " ('countBBL_prev_month', 0.12715914249888327),\n",
       " ('countBBL_prev_cycle', 0.1279826062466429),\n",
       " ('month', 0.153226094005283),\n",
       " ('countBBL', 0.25549894802257173)]"
      ]
     },
     "execution_count": 28,
     "metadata": {},
     "output_type": "execute_result"
    }
   ],
   "source": [
    "gbr_anc_beta = [i for i in zip(XH_test.columns, prms.feature_importances_)]\n",
    "sorted(gbr_anc_beta, key=lambda x: x[1])"
   ]
  },
  {
   "cell_type": "markdown",
   "metadata": {},
   "source": [
    "# Charts"
   ]
  },
  {
   "cell_type": "code",
   "execution_count": null,
   "metadata": {},
   "outputs": [],
   "source": [
    "#Adapted from https://pythonspot.com/en/matplotlib-bar-chart/\n",
    "\n",
    "objects     = [j[0] for j in outcomes]\n",
    "y_pos       = np.arange(len(objects))\n",
    "\n",
    "performance = [j[-1] for j in outcomes]\n",
    "for jm in range(len(performance)):\n",
    "    if performance[jm] < 0:\n",
    "        performance[jm] = 0\n",
    "performance"
   ]
  },
  {
   "cell_type": "code",
   "execution_count": null,
   "metadata": {
    "collapsed": true
   },
   "outputs": [],
   "source": [
    "plt.barh(y_pos, performance, align='center', alpha=0.5)\n",
    "plt.yticks(y_pos, objects)\n",
    "plt.xlabel('R2 Score')\n",
    "ti = \"Scoring across models for \"+shapef+\", lagging by \"+str(shiftmonths)+ \" months.\"\n",
    "plt.title(ti)\n",
    "fl = './plots/' + shapef + \"_shift\" + str(shiftmonths)\n",
    "plt.savefig(fl)"
   ]
  },
  {
   "cell_type": "markdown",
   "metadata": {},
   "source": [
    "# Everything below is exploratory analysis for me."
   ]
  },
  {
   "cell_type": "code",
   "execution_count": null,
   "metadata": {
    "collapsed": true
   },
   "outputs": [],
   "source": [
    "for jm in range(0, 5):\n",
    "    \n",
    "    print(outcomes[jm][0])\n",
    "    \n",
    "    print(outcomes[jm][1])\n",
    "    print(outcomes[jm][4])"
   ]
  },
  {
   "cell_type": "code",
   "execution_count": null,
   "metadata": {
    "collapsed": true
   },
   "outputs": [],
   "source": [
    "best = AdaBoostRegressor(learning_rate=1, loss='square', n_estimators=60)\n",
    "bestfit= best.fit(XH_train, yH_train)\n",
    "bestscore = best.score(XH_test, yH_test)\n",
    "print(outcomes[0][0])\n",
    "print(bestscore)\n",
    "\n",
    "best = RandomForestRegressor(max_depth=10)\n",
    "bestfit= best.fit(XH_train, yH_train)\n",
    "bestscore = best.score(XH_test, yH_test)\n",
    "print(outcomes[1][0])\n",
    "print(bestscore)\n",
    "\n",
    "best = SVR(max_depth=10)\n",
    "bestfit= best.fit(XH_train, yH_train)\n",
    "bestscore = best.score(XH_test, yH_test)\n",
    "print(outcomes[2][0])\n",
    "print(bestscore)\n",
    "\n",
    "\n",
    "best = GradientBoostingRegressor(max_depth=10)\n",
    "bestfit= best.fit(XH_train, yH_train)\n",
    "bestscore = best.score(XH_test, yH_test)\n",
    "print(outcomes[3][0])\n",
    "print(bestscore)"
   ]
  },
  {
   "cell_type": "code",
   "execution_count": null,
   "metadata": {
    "collapsed": true,
    "scrolled": true
   },
   "outputs": [],
   "source": [
    "\n",
    "\n",
    "Xtrain = dat_xtrain.drop(['y'], axis=1)\n",
    "y16 = dat_ytrain['y']\n",
    "X15 = dat15.drop(['y'], axis=1)\n",
    "y15 = dat15['y']\n",
    "\n",
    "fitted    = outcomes[-2][3].fit(X15, y15)\n",
    "predicted = fitted.predict(X16)"
   ]
  },
  {
   "cell_type": "code",
   "execution_count": null,
   "metadata": {
    "collapsed": true
   },
   "outputs": [],
   "source": [
    "pred = pd.DataFrame(predicted, columns=['predicted'])\n",
    "dat16 = dat16.reset_index()\n",
    "pred['y'] = dat16['y']"
   ]
  },
  {
   "cell_type": "code",
   "execution_count": null,
   "metadata": {
    "collapsed": true,
    "scrolled": false
   },
   "outputs": [],
   "source": [
    "def flagger_ranges(pred):\n",
    "    pred['flag15'] = 0\n",
    "    pred['flag15'][pred['predicted'].between(pred['y']*0.85, pred['y']*1.15)\n",
    "                  ] = 1\n",
    "    pred['flag05'] = 0\n",
    "    pred['flag05'][pred['predicted'].between(pred['y']*0.85, pred['y']*1.15)\n",
    "                  ] = 1\n",
    "    pred['flag10'] = 0\n",
    "    pred['flag10'][pred['predicted'].between(pred['y']*0.85, pred['y']*1.15)\n",
    "                  ] = 1\n",
    "    pred['flag_others']= 0\n",
    "    pred['flag_others'][pred['flag05'] == 0] = 1\n",
    "    return pred\n",
    "pred = flagger_ranges(pred)\n",
    "pred"
   ]
  },
  {
   "cell_type": "code",
   "execution_count": null,
   "metadata": {
    "collapsed": true
   },
   "outputs": [],
   "source": []
  },
  {
   "cell_type": "code",
   "execution_count": null,
   "metadata": {
    "collapsed": true
   },
   "outputs": [],
   "source": []
  }
 ],
 "metadata": {
  "kernelspec": {
   "display_name": "Python 3",
   "language": "python",
   "name": "python3"
  },
  "language_info": {
   "codemirror_mode": {
    "name": "ipython",
    "version": 3
   },
   "file_extension": ".py",
   "mimetype": "text/x-python",
   "name": "python",
   "nbconvert_exporter": "python",
   "pygments_lexer": "ipython3",
   "version": "3.6.2"
  }
 },
 "nbformat": 4,
 "nbformat_minor": 2
}
